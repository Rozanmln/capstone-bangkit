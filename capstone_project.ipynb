{
  "nbformat": 4,
  "nbformat_minor": 0,
  "metadata": {
    "colab": {
      "provenance": []
    },
    "kernelspec": {
      "name": "python3",
      "display_name": "Python 3"
    },
    "language_info": {
      "name": "python"
    }
  },
  "cells": [
    {
      "cell_type": "markdown",
      "source": [
        "#Install Packages"
      ],
      "metadata": {
        "id": "8lR-IQXWvlZr"
      }
    },
    {
      "cell_type": "code",
      "source": [
        "pip install tensorflowjs"
      ],
      "metadata": {
        "id": "WeMR3n_cCWdl",
        "colab": {
          "base_uri": "https://localhost:8080/"
        },
        "outputId": "51bcffeb-1f5c-4237-9cc0-534abce634af"
      },
      "execution_count": 344,
      "outputs": [
        {
          "output_type": "stream",
          "name": "stdout",
          "text": [
            "Looking in indexes: https://pypi.org/simple, https://us-python.pkg.dev/colab-wheels/public/simple/\n",
            "Requirement already satisfied: tensorflowjs in /usr/local/lib/python3.10/dist-packages (4.6.0)\n",
            "Requirement already satisfied: flax<0.6.3,>=0.6.2 in /usr/local/lib/python3.10/dist-packages (from tensorflowjs) (0.6.2)\n",
            "Requirement already satisfied: importlib_resources>=5.9.0 in /usr/local/lib/python3.10/dist-packages (from tensorflowjs) (5.12.0)\n",
            "Requirement already satisfied: jax>=0.3.16 in /usr/local/lib/python3.10/dist-packages (from tensorflowjs) (0.4.10)\n",
            "Requirement already satisfied: tensorflow<3,>=2.12.0 in /usr/local/lib/python3.10/dist-packages (from tensorflowjs) (2.12.0)\n",
            "Requirement already satisfied: tensorflow-decision-forests>=1.3.0 in /usr/local/lib/python3.10/dist-packages (from tensorflowjs) (1.3.0)\n",
            "Requirement already satisfied: six<2,>=1.12.0 in /usr/local/lib/python3.10/dist-packages (from tensorflowjs) (1.16.0)\n",
            "Requirement already satisfied: tensorflow-hub>=0.13.0 in /usr/local/lib/python3.10/dist-packages (from tensorflowjs) (0.13.0)\n",
            "Requirement already satisfied: packaging~=20.9 in /usr/local/lib/python3.10/dist-packages (from tensorflowjs) (20.9)\n",
            "Requirement already satisfied: numpy>=1.12 in /usr/local/lib/python3.10/dist-packages (from flax<0.6.3,>=0.6.2->tensorflowjs) (1.22.4)\n",
            "Requirement already satisfied: matplotlib in /usr/local/lib/python3.10/dist-packages (from flax<0.6.3,>=0.6.2->tensorflowjs) (3.7.1)\n",
            "Requirement already satisfied: msgpack in /usr/local/lib/python3.10/dist-packages (from flax<0.6.3,>=0.6.2->tensorflowjs) (1.0.5)\n",
            "Requirement already satisfied: optax in /usr/local/lib/python3.10/dist-packages (from flax<0.6.3,>=0.6.2->tensorflowjs) (0.1.5)\n",
            "Requirement already satisfied: tensorstore in /usr/local/lib/python3.10/dist-packages (from flax<0.6.3,>=0.6.2->tensorflowjs) (0.1.36)\n",
            "Requirement already satisfied: rich>=11.1 in /usr/local/lib/python3.10/dist-packages (from flax<0.6.3,>=0.6.2->tensorflowjs) (13.3.4)\n",
            "Requirement already satisfied: typing-extensions>=4.1.1 in /usr/local/lib/python3.10/dist-packages (from flax<0.6.3,>=0.6.2->tensorflowjs) (4.5.0)\n",
            "Requirement already satisfied: PyYAML>=5.4.1 in /usr/local/lib/python3.10/dist-packages (from flax<0.6.3,>=0.6.2->tensorflowjs) (6.0)\n",
            "Requirement already satisfied: ml-dtypes>=0.1.0 in /usr/local/lib/python3.10/dist-packages (from jax>=0.3.16->tensorflowjs) (0.1.0)\n",
            "Requirement already satisfied: opt-einsum in /usr/local/lib/python3.10/dist-packages (from jax>=0.3.16->tensorflowjs) (3.3.0)\n",
            "Requirement already satisfied: scipy>=1.7 in /usr/local/lib/python3.10/dist-packages (from jax>=0.3.16->tensorflowjs) (1.10.1)\n",
            "Requirement already satisfied: pyparsing>=2.0.2 in /usr/local/lib/python3.10/dist-packages (from packaging~=20.9->tensorflowjs) (3.0.9)\n",
            "Requirement already satisfied: absl-py>=1.0.0 in /usr/local/lib/python3.10/dist-packages (from tensorflow<3,>=2.12.0->tensorflowjs) (1.4.0)\n",
            "Requirement already satisfied: astunparse>=1.6.0 in /usr/local/lib/python3.10/dist-packages (from tensorflow<3,>=2.12.0->tensorflowjs) (1.6.3)\n",
            "Requirement already satisfied: flatbuffers>=2.0 in /usr/local/lib/python3.10/dist-packages (from tensorflow<3,>=2.12.0->tensorflowjs) (23.3.3)\n",
            "Requirement already satisfied: gast<=0.4.0,>=0.2.1 in /usr/local/lib/python3.10/dist-packages (from tensorflow<3,>=2.12.0->tensorflowjs) (0.4.0)\n",
            "Requirement already satisfied: google-pasta>=0.1.1 in /usr/local/lib/python3.10/dist-packages (from tensorflow<3,>=2.12.0->tensorflowjs) (0.2.0)\n",
            "Requirement already satisfied: grpcio<2.0,>=1.24.3 in /usr/local/lib/python3.10/dist-packages (from tensorflow<3,>=2.12.0->tensorflowjs) (1.54.0)\n",
            "Requirement already satisfied: h5py>=2.9.0 in /usr/local/lib/python3.10/dist-packages (from tensorflow<3,>=2.12.0->tensorflowjs) (3.8.0)\n",
            "Requirement already satisfied: keras<2.13,>=2.12.0 in /usr/local/lib/python3.10/dist-packages (from tensorflow<3,>=2.12.0->tensorflowjs) (2.12.0)\n",
            "Requirement already satisfied: libclang>=13.0.0 in /usr/local/lib/python3.10/dist-packages (from tensorflow<3,>=2.12.0->tensorflowjs) (16.0.0)\n",
            "Requirement already satisfied: protobuf!=4.21.0,!=4.21.1,!=4.21.2,!=4.21.3,!=4.21.4,!=4.21.5,<5.0.0dev,>=3.20.3 in /usr/local/lib/python3.10/dist-packages (from tensorflow<3,>=2.12.0->tensorflowjs) (3.20.3)\n",
            "Requirement already satisfied: setuptools in /usr/local/lib/python3.10/dist-packages (from tensorflow<3,>=2.12.0->tensorflowjs) (67.7.2)\n",
            "Requirement already satisfied: tensorboard<2.13,>=2.12 in /usr/local/lib/python3.10/dist-packages (from tensorflow<3,>=2.12.0->tensorflowjs) (2.12.2)\n",
            "Requirement already satisfied: tensorflow-estimator<2.13,>=2.12.0 in /usr/local/lib/python3.10/dist-packages (from tensorflow<3,>=2.12.0->tensorflowjs) (2.12.0)\n",
            "Requirement already satisfied: termcolor>=1.1.0 in /usr/local/lib/python3.10/dist-packages (from tensorflow<3,>=2.12.0->tensorflowjs) (2.3.0)\n",
            "Requirement already satisfied: wrapt<1.15,>=1.11.0 in /usr/local/lib/python3.10/dist-packages (from tensorflow<3,>=2.12.0->tensorflowjs) (1.14.1)\n",
            "Requirement already satisfied: tensorflow-io-gcs-filesystem>=0.23.1 in /usr/local/lib/python3.10/dist-packages (from tensorflow<3,>=2.12.0->tensorflowjs) (0.32.0)\n",
            "Requirement already satisfied: pandas in /usr/local/lib/python3.10/dist-packages (from tensorflow-decision-forests>=1.3.0->tensorflowjs) (1.5.3)\n",
            "Requirement already satisfied: wheel in /usr/local/lib/python3.10/dist-packages (from tensorflow-decision-forests>=1.3.0->tensorflowjs) (0.40.0)\n",
            "Requirement already satisfied: wurlitzer in /usr/local/lib/python3.10/dist-packages (from tensorflow-decision-forests>=1.3.0->tensorflowjs) (3.0.3)\n",
            "Requirement already satisfied: markdown-it-py<3.0.0,>=2.2.0 in /usr/local/lib/python3.10/dist-packages (from rich>=11.1->flax<0.6.3,>=0.6.2->tensorflowjs) (2.2.0)\n",
            "Requirement already satisfied: pygments<3.0.0,>=2.13.0 in /usr/local/lib/python3.10/dist-packages (from rich>=11.1->flax<0.6.3,>=0.6.2->tensorflowjs) (2.14.0)\n",
            "Requirement already satisfied: google-auth<3,>=1.6.3 in /usr/local/lib/python3.10/dist-packages (from tensorboard<2.13,>=2.12->tensorflow<3,>=2.12.0->tensorflowjs) (2.17.3)\n",
            "Requirement already satisfied: google-auth-oauthlib<1.1,>=0.5 in /usr/local/lib/python3.10/dist-packages (from tensorboard<2.13,>=2.12->tensorflow<3,>=2.12.0->tensorflowjs) (1.0.0)\n",
            "Requirement already satisfied: markdown>=2.6.8 in /usr/local/lib/python3.10/dist-packages (from tensorboard<2.13,>=2.12->tensorflow<3,>=2.12.0->tensorflowjs) (3.4.3)\n",
            "Requirement already satisfied: requests<3,>=2.21.0 in /usr/local/lib/python3.10/dist-packages (from tensorboard<2.13,>=2.12->tensorflow<3,>=2.12.0->tensorflowjs) (2.27.1)\n",
            "Requirement already satisfied: tensorboard-data-server<0.8.0,>=0.7.0 in /usr/local/lib/python3.10/dist-packages (from tensorboard<2.13,>=2.12->tensorflow<3,>=2.12.0->tensorflowjs) (0.7.0)\n",
            "Requirement already satisfied: tensorboard-plugin-wit>=1.6.0 in /usr/local/lib/python3.10/dist-packages (from tensorboard<2.13,>=2.12->tensorflow<3,>=2.12.0->tensorflowjs) (1.8.1)\n",
            "Requirement already satisfied: werkzeug>=1.0.1 in /usr/local/lib/python3.10/dist-packages (from tensorboard<2.13,>=2.12->tensorflow<3,>=2.12.0->tensorflowjs) (2.3.0)\n",
            "Requirement already satisfied: contourpy>=1.0.1 in /usr/local/lib/python3.10/dist-packages (from matplotlib->flax<0.6.3,>=0.6.2->tensorflowjs) (1.0.7)\n",
            "Requirement already satisfied: cycler>=0.10 in /usr/local/lib/python3.10/dist-packages (from matplotlib->flax<0.6.3,>=0.6.2->tensorflowjs) (0.11.0)\n",
            "Requirement already satisfied: fonttools>=4.22.0 in /usr/local/lib/python3.10/dist-packages (from matplotlib->flax<0.6.3,>=0.6.2->tensorflowjs) (4.39.3)\n",
            "Requirement already satisfied: kiwisolver>=1.0.1 in /usr/local/lib/python3.10/dist-packages (from matplotlib->flax<0.6.3,>=0.6.2->tensorflowjs) (1.4.4)\n",
            "Requirement already satisfied: pillow>=6.2.0 in /usr/local/lib/python3.10/dist-packages (from matplotlib->flax<0.6.3,>=0.6.2->tensorflowjs) (8.4.0)\n",
            "Requirement already satisfied: python-dateutil>=2.7 in /usr/local/lib/python3.10/dist-packages (from matplotlib->flax<0.6.3,>=0.6.2->tensorflowjs) (2.8.2)\n",
            "Requirement already satisfied: chex>=0.1.5 in /usr/local/lib/python3.10/dist-packages (from optax->flax<0.6.3,>=0.6.2->tensorflowjs) (0.1.7)\n",
            "Requirement already satisfied: jaxlib>=0.1.37 in /usr/local/lib/python3.10/dist-packages (from optax->flax<0.6.3,>=0.6.2->tensorflowjs) (0.4.10+cuda11.cudnn86)\n",
            "Requirement already satisfied: pytz>=2020.1 in /usr/local/lib/python3.10/dist-packages (from pandas->tensorflow-decision-forests>=1.3.0->tensorflowjs) (2022.7.1)\n",
            "Requirement already satisfied: dm-tree>=0.1.5 in /usr/local/lib/python3.10/dist-packages (from chex>=0.1.5->optax->flax<0.6.3,>=0.6.2->tensorflowjs) (0.1.8)\n",
            "Requirement already satisfied: toolz>=0.9.0 in /usr/local/lib/python3.10/dist-packages (from chex>=0.1.5->optax->flax<0.6.3,>=0.6.2->tensorflowjs) (0.12.0)\n",
            "Requirement already satisfied: cachetools<6.0,>=2.0.0 in /usr/local/lib/python3.10/dist-packages (from google-auth<3,>=1.6.3->tensorboard<2.13,>=2.12->tensorflow<3,>=2.12.0->tensorflowjs) (5.3.0)\n",
            "Requirement already satisfied: pyasn1-modules>=0.2.1 in /usr/local/lib/python3.10/dist-packages (from google-auth<3,>=1.6.3->tensorboard<2.13,>=2.12->tensorflow<3,>=2.12.0->tensorflowjs) (0.3.0)\n",
            "Requirement already satisfied: rsa<5,>=3.1.4 in /usr/local/lib/python3.10/dist-packages (from google-auth<3,>=1.6.3->tensorboard<2.13,>=2.12->tensorflow<3,>=2.12.0->tensorflowjs) (4.9)\n",
            "Requirement already satisfied: requests-oauthlib>=0.7.0 in /usr/local/lib/python3.10/dist-packages (from google-auth-oauthlib<1.1,>=0.5->tensorboard<2.13,>=2.12->tensorflow<3,>=2.12.0->tensorflowjs) (1.3.1)\n",
            "Requirement already satisfied: mdurl~=0.1 in /usr/local/lib/python3.10/dist-packages (from markdown-it-py<3.0.0,>=2.2.0->rich>=11.1->flax<0.6.3,>=0.6.2->tensorflowjs) (0.1.2)\n",
            "Requirement already satisfied: urllib3<1.27,>=1.21.1 in /usr/local/lib/python3.10/dist-packages (from requests<3,>=2.21.0->tensorboard<2.13,>=2.12->tensorflow<3,>=2.12.0->tensorflowjs) (1.26.15)\n",
            "Requirement already satisfied: certifi>=2017.4.17 in /usr/local/lib/python3.10/dist-packages (from requests<3,>=2.21.0->tensorboard<2.13,>=2.12->tensorflow<3,>=2.12.0->tensorflowjs) (2022.12.7)\n",
            "Requirement already satisfied: charset-normalizer~=2.0.0 in /usr/local/lib/python3.10/dist-packages (from requests<3,>=2.21.0->tensorboard<2.13,>=2.12->tensorflow<3,>=2.12.0->tensorflowjs) (2.0.12)\n",
            "Requirement already satisfied: idna<4,>=2.5 in /usr/local/lib/python3.10/dist-packages (from requests<3,>=2.21.0->tensorboard<2.13,>=2.12->tensorflow<3,>=2.12.0->tensorflowjs) (3.4)\n",
            "Requirement already satisfied: MarkupSafe>=2.1.1 in /usr/local/lib/python3.10/dist-packages (from werkzeug>=1.0.1->tensorboard<2.13,>=2.12->tensorflow<3,>=2.12.0->tensorflowjs) (2.1.2)\n",
            "Requirement already satisfied: pyasn1<0.6.0,>=0.4.6 in /usr/local/lib/python3.10/dist-packages (from pyasn1-modules>=0.2.1->google-auth<3,>=1.6.3->tensorboard<2.13,>=2.12->tensorflow<3,>=2.12.0->tensorflowjs) (0.5.0)\n",
            "Requirement already satisfied: oauthlib>=3.0.0 in /usr/local/lib/python3.10/dist-packages (from requests-oauthlib>=0.7.0->google-auth-oauthlib<1.1,>=0.5->tensorboard<2.13,>=2.12->tensorflow<3,>=2.12.0->tensorflowjs) (3.2.2)\n"
          ]
        }
      ]
    },
    {
      "cell_type": "markdown",
      "source": [
        "#Import Packages"
      ],
      "metadata": {
        "id": "2dwZipfRSYE0"
      }
    },
    {
      "cell_type": "code",
      "source": [
        "import re \n",
        "import pandas as pd\n",
        "import numpy as np\n",
        "import time\n",
        "\n",
        "import tensorflow as tf\n",
        "import tensorflowjs as tfjs\n",
        "import tensorflow_datasets as tfds\n",
        "from sklearn.model_selection import train_test_split, StratifiedKFold\n",
        "from sklearn.preprocessing import StandardScaler, LabelEncoder\n",
        "from tensorflow.keras.models import load_model"
      ],
      "metadata": {
        "id": "0STDPgGOSVED"
      },
      "execution_count": 367,
      "outputs": []
    },
    {
      "cell_type": "code",
      "source": [
        "print(tf.__version__)"
      ],
      "metadata": {
        "colab": {
          "base_uri": "https://localhost:8080/"
        },
        "id": "3EaS9WNfCqHi",
        "outputId": "9a453ac1-c51f-4f4a-9a46-c4d67fb46bf5"
      },
      "execution_count": 368,
      "outputs": [
        {
          "output_type": "stream",
          "name": "stdout",
          "text": [
            "2.12.0\n"
          ]
        }
      ]
    },
    {
      "cell_type": "code",
      "source": [
        "from google.colab import drive\n",
        "drive.mount('/content/drive')"
      ],
      "metadata": {
        "colab": {
          "base_uri": "https://localhost:8080/"
        },
        "id": "dJcQIYdmS8by",
        "outputId": "1a7c2a5c-b855-48f0-d03a-c53afcaeb67d"
      },
      "execution_count": 369,
      "outputs": [
        {
          "output_type": "stream",
          "name": "stdout",
          "text": [
            "Drive already mounted at /content/drive; to attempt to forcibly remount, call drive.mount(\"/content/drive\", force_remount=True).\n"
          ]
        }
      ]
    },
    {
      "cell_type": "markdown",
      "source": [
        "#Read Data"
      ],
      "metadata": {
        "id": "qnB8fADzSKGF"
      }
    },
    {
      "cell_type": "markdown",
      "source": [
        "## Symptoms"
      ],
      "metadata": {
        "id": "lp79J-vJ5MOT"
      }
    },
    {
      "cell_type": "code",
      "source": [
        "symptoms = pd.read_csv('/content/drive/MyDrive/CapstoneProjectBangkitMachineLearning/Data/dataset.csv')\n",
        "symptoms.head()"
      ],
      "metadata": {
        "id": "tNdHQT90kzXJ",
        "colab": {
          "base_uri": "https://localhost:8080/",
          "height": 0
        },
        "outputId": "429a90cc-b2c6-4eec-88e2-dee069902812"
      },
      "execution_count": 370,
      "outputs": [
        {
          "output_type": "execute_result",
          "data": {
            "text/plain": [
              "            Disease   Symptom_1              Symptom_2              Symptom_3  \\\n",
              "0  Fungal infection     itching              skin_rash   nodal_skin_eruptions   \n",
              "1  Fungal infection   skin_rash   nodal_skin_eruptions    dischromic _patches   \n",
              "2  Fungal infection     itching   nodal_skin_eruptions    dischromic _patches   \n",
              "3  Fungal infection     itching              skin_rash    dischromic _patches   \n",
              "4  Fungal infection     itching              skin_rash   nodal_skin_eruptions   \n",
              "\n",
              "              Symptom_4 Symptom_5 Symptom_6 Symptom_7 Symptom_8 Symptom_9  \\\n",
              "0   dischromic _patches       NaN       NaN       NaN       NaN       NaN   \n",
              "1                   NaN       NaN       NaN       NaN       NaN       NaN   \n",
              "2                   NaN       NaN       NaN       NaN       NaN       NaN   \n",
              "3                   NaN       NaN       NaN       NaN       NaN       NaN   \n",
              "4                   NaN       NaN       NaN       NaN       NaN       NaN   \n",
              "\n",
              "  Symptom_10 Symptom_11 Symptom_12 Symptom_13 Symptom_14 Symptom_15  \\\n",
              "0        NaN        NaN        NaN        NaN        NaN        NaN   \n",
              "1        NaN        NaN        NaN        NaN        NaN        NaN   \n",
              "2        NaN        NaN        NaN        NaN        NaN        NaN   \n",
              "3        NaN        NaN        NaN        NaN        NaN        NaN   \n",
              "4        NaN        NaN        NaN        NaN        NaN        NaN   \n",
              "\n",
              "  Symptom_16 Symptom_17  \n",
              "0        NaN        NaN  \n",
              "1        NaN        NaN  \n",
              "2        NaN        NaN  \n",
              "3        NaN        NaN  \n",
              "4        NaN        NaN  "
            ],
            "text/html": [
              "\n",
              "  <div id=\"df-bbbfd4ab-1f14-4956-b22b-2c12f7779408\">\n",
              "    <div class=\"colab-df-container\">\n",
              "      <div>\n",
              "<style scoped>\n",
              "    .dataframe tbody tr th:only-of-type {\n",
              "        vertical-align: middle;\n",
              "    }\n",
              "\n",
              "    .dataframe tbody tr th {\n",
              "        vertical-align: top;\n",
              "    }\n",
              "\n",
              "    .dataframe thead th {\n",
              "        text-align: right;\n",
              "    }\n",
              "</style>\n",
              "<table border=\"1\" class=\"dataframe\">\n",
              "  <thead>\n",
              "    <tr style=\"text-align: right;\">\n",
              "      <th></th>\n",
              "      <th>Disease</th>\n",
              "      <th>Symptom_1</th>\n",
              "      <th>Symptom_2</th>\n",
              "      <th>Symptom_3</th>\n",
              "      <th>Symptom_4</th>\n",
              "      <th>Symptom_5</th>\n",
              "      <th>Symptom_6</th>\n",
              "      <th>Symptom_7</th>\n",
              "      <th>Symptom_8</th>\n",
              "      <th>Symptom_9</th>\n",
              "      <th>Symptom_10</th>\n",
              "      <th>Symptom_11</th>\n",
              "      <th>Symptom_12</th>\n",
              "      <th>Symptom_13</th>\n",
              "      <th>Symptom_14</th>\n",
              "      <th>Symptom_15</th>\n",
              "      <th>Symptom_16</th>\n",
              "      <th>Symptom_17</th>\n",
              "    </tr>\n",
              "  </thead>\n",
              "  <tbody>\n",
              "    <tr>\n",
              "      <th>0</th>\n",
              "      <td>Fungal infection</td>\n",
              "      <td>itching</td>\n",
              "      <td>skin_rash</td>\n",
              "      <td>nodal_skin_eruptions</td>\n",
              "      <td>dischromic _patches</td>\n",
              "      <td>NaN</td>\n",
              "      <td>NaN</td>\n",
              "      <td>NaN</td>\n",
              "      <td>NaN</td>\n",
              "      <td>NaN</td>\n",
              "      <td>NaN</td>\n",
              "      <td>NaN</td>\n",
              "      <td>NaN</td>\n",
              "      <td>NaN</td>\n",
              "      <td>NaN</td>\n",
              "      <td>NaN</td>\n",
              "      <td>NaN</td>\n",
              "      <td>NaN</td>\n",
              "    </tr>\n",
              "    <tr>\n",
              "      <th>1</th>\n",
              "      <td>Fungal infection</td>\n",
              "      <td>skin_rash</td>\n",
              "      <td>nodal_skin_eruptions</td>\n",
              "      <td>dischromic _patches</td>\n",
              "      <td>NaN</td>\n",
              "      <td>NaN</td>\n",
              "      <td>NaN</td>\n",
              "      <td>NaN</td>\n",
              "      <td>NaN</td>\n",
              "      <td>NaN</td>\n",
              "      <td>NaN</td>\n",
              "      <td>NaN</td>\n",
              "      <td>NaN</td>\n",
              "      <td>NaN</td>\n",
              "      <td>NaN</td>\n",
              "      <td>NaN</td>\n",
              "      <td>NaN</td>\n",
              "      <td>NaN</td>\n",
              "    </tr>\n",
              "    <tr>\n",
              "      <th>2</th>\n",
              "      <td>Fungal infection</td>\n",
              "      <td>itching</td>\n",
              "      <td>nodal_skin_eruptions</td>\n",
              "      <td>dischromic _patches</td>\n",
              "      <td>NaN</td>\n",
              "      <td>NaN</td>\n",
              "      <td>NaN</td>\n",
              "      <td>NaN</td>\n",
              "      <td>NaN</td>\n",
              "      <td>NaN</td>\n",
              "      <td>NaN</td>\n",
              "      <td>NaN</td>\n",
              "      <td>NaN</td>\n",
              "      <td>NaN</td>\n",
              "      <td>NaN</td>\n",
              "      <td>NaN</td>\n",
              "      <td>NaN</td>\n",
              "      <td>NaN</td>\n",
              "    </tr>\n",
              "    <tr>\n",
              "      <th>3</th>\n",
              "      <td>Fungal infection</td>\n",
              "      <td>itching</td>\n",
              "      <td>skin_rash</td>\n",
              "      <td>dischromic _patches</td>\n",
              "      <td>NaN</td>\n",
              "      <td>NaN</td>\n",
              "      <td>NaN</td>\n",
              "      <td>NaN</td>\n",
              "      <td>NaN</td>\n",
              "      <td>NaN</td>\n",
              "      <td>NaN</td>\n",
              "      <td>NaN</td>\n",
              "      <td>NaN</td>\n",
              "      <td>NaN</td>\n",
              "      <td>NaN</td>\n",
              "      <td>NaN</td>\n",
              "      <td>NaN</td>\n",
              "      <td>NaN</td>\n",
              "    </tr>\n",
              "    <tr>\n",
              "      <th>4</th>\n",
              "      <td>Fungal infection</td>\n",
              "      <td>itching</td>\n",
              "      <td>skin_rash</td>\n",
              "      <td>nodal_skin_eruptions</td>\n",
              "      <td>NaN</td>\n",
              "      <td>NaN</td>\n",
              "      <td>NaN</td>\n",
              "      <td>NaN</td>\n",
              "      <td>NaN</td>\n",
              "      <td>NaN</td>\n",
              "      <td>NaN</td>\n",
              "      <td>NaN</td>\n",
              "      <td>NaN</td>\n",
              "      <td>NaN</td>\n",
              "      <td>NaN</td>\n",
              "      <td>NaN</td>\n",
              "      <td>NaN</td>\n",
              "      <td>NaN</td>\n",
              "    </tr>\n",
              "  </tbody>\n",
              "</table>\n",
              "</div>\n",
              "      <button class=\"colab-df-convert\" onclick=\"convertToInteractive('df-bbbfd4ab-1f14-4956-b22b-2c12f7779408')\"\n",
              "              title=\"Convert this dataframe to an interactive table.\"\n",
              "              style=\"display:none;\">\n",
              "        \n",
              "  <svg xmlns=\"http://www.w3.org/2000/svg\" height=\"24px\"viewBox=\"0 0 24 24\"\n",
              "       width=\"24px\">\n",
              "    <path d=\"M0 0h24v24H0V0z\" fill=\"none\"/>\n",
              "    <path d=\"M18.56 5.44l.94 2.06.94-2.06 2.06-.94-2.06-.94-.94-2.06-.94 2.06-2.06.94zm-11 1L8.5 8.5l.94-2.06 2.06-.94-2.06-.94L8.5 2.5l-.94 2.06-2.06.94zm10 10l.94 2.06.94-2.06 2.06-.94-2.06-.94-.94-2.06-.94 2.06-2.06.94z\"/><path d=\"M17.41 7.96l-1.37-1.37c-.4-.4-.92-.59-1.43-.59-.52 0-1.04.2-1.43.59L10.3 9.45l-7.72 7.72c-.78.78-.78 2.05 0 2.83L4 21.41c.39.39.9.59 1.41.59.51 0 1.02-.2 1.41-.59l7.78-7.78 2.81-2.81c.8-.78.8-2.07 0-2.86zM5.41 20L4 18.59l7.72-7.72 1.47 1.35L5.41 20z\"/>\n",
              "  </svg>\n",
              "      </button>\n",
              "      \n",
              "  <style>\n",
              "    .colab-df-container {\n",
              "      display:flex;\n",
              "      flex-wrap:wrap;\n",
              "      gap: 12px;\n",
              "    }\n",
              "\n",
              "    .colab-df-convert {\n",
              "      background-color: #E8F0FE;\n",
              "      border: none;\n",
              "      border-radius: 50%;\n",
              "      cursor: pointer;\n",
              "      display: none;\n",
              "      fill: #1967D2;\n",
              "      height: 32px;\n",
              "      padding: 0 0 0 0;\n",
              "      width: 32px;\n",
              "    }\n",
              "\n",
              "    .colab-df-convert:hover {\n",
              "      background-color: #E2EBFA;\n",
              "      box-shadow: 0px 1px 2px rgba(60, 64, 67, 0.3), 0px 1px 3px 1px rgba(60, 64, 67, 0.15);\n",
              "      fill: #174EA6;\n",
              "    }\n",
              "\n",
              "    [theme=dark] .colab-df-convert {\n",
              "      background-color: #3B4455;\n",
              "      fill: #D2E3FC;\n",
              "    }\n",
              "\n",
              "    [theme=dark] .colab-df-convert:hover {\n",
              "      background-color: #434B5C;\n",
              "      box-shadow: 0px 1px 3px 1px rgba(0, 0, 0, 0.15);\n",
              "      filter: drop-shadow(0px 1px 2px rgba(0, 0, 0, 0.3));\n",
              "      fill: #FFFFFF;\n",
              "    }\n",
              "  </style>\n",
              "\n",
              "      <script>\n",
              "        const buttonEl =\n",
              "          document.querySelector('#df-bbbfd4ab-1f14-4956-b22b-2c12f7779408 button.colab-df-convert');\n",
              "        buttonEl.style.display =\n",
              "          google.colab.kernel.accessAllowed ? 'block' : 'none';\n",
              "\n",
              "        async function convertToInteractive(key) {\n",
              "          const element = document.querySelector('#df-bbbfd4ab-1f14-4956-b22b-2c12f7779408');\n",
              "          const dataTable =\n",
              "            await google.colab.kernel.invokeFunction('convertToInteractive',\n",
              "                                                     [key], {});\n",
              "          if (!dataTable) return;\n",
              "\n",
              "          const docLinkHtml = 'Like what you see? Visit the ' +\n",
              "            '<a target=\"_blank\" href=https://colab.research.google.com/notebooks/data_table.ipynb>data table notebook</a>'\n",
              "            + ' to learn more about interactive tables.';\n",
              "          element.innerHTML = '';\n",
              "          dataTable['output_type'] = 'display_data';\n",
              "          await google.colab.output.renderOutput(dataTable, element);\n",
              "          const docLink = document.createElement('div');\n",
              "          docLink.innerHTML = docLinkHtml;\n",
              "          element.appendChild(docLink);\n",
              "        }\n",
              "      </script>\n",
              "    </div>\n",
              "  </div>\n",
              "  "
            ]
          },
          "metadata": {},
          "execution_count": 370
        }
      ]
    },
    {
      "cell_type": "code",
      "source": [
        "symptoms.shape"
      ],
      "metadata": {
        "colab": {
          "base_uri": "https://localhost:8080/"
        },
        "id": "FKDtZi-c6ypE",
        "outputId": "d42dfa9a-2fee-45c1-a0b9-6d1e7f3611c1"
      },
      "execution_count": 371,
      "outputs": [
        {
          "output_type": "execute_result",
          "data": {
            "text/plain": [
              "(4920, 18)"
            ]
          },
          "metadata": {},
          "execution_count": 371
        }
      ]
    },
    {
      "cell_type": "code",
      "source": [
        "# Null values\n",
        "symptoms.info()"
      ],
      "metadata": {
        "colab": {
          "base_uri": "https://localhost:8080/"
        },
        "id": "Fdns4D2E6ETW",
        "outputId": "c8263e54-566d-4f7f-db7d-6cecb74d4439"
      },
      "execution_count": 372,
      "outputs": [
        {
          "output_type": "stream",
          "name": "stdout",
          "text": [
            "<class 'pandas.core.frame.DataFrame'>\n",
            "RangeIndex: 4920 entries, 0 to 4919\n",
            "Data columns (total 18 columns):\n",
            " #   Column      Non-Null Count  Dtype \n",
            "---  ------      --------------  ----- \n",
            " 0   Disease     4920 non-null   object\n",
            " 1   Symptom_1   4920 non-null   object\n",
            " 2   Symptom_2   4920 non-null   object\n",
            " 3   Symptom_3   4920 non-null   object\n",
            " 4   Symptom_4   4572 non-null   object\n",
            " 5   Symptom_5   3714 non-null   object\n",
            " 6   Symptom_6   2934 non-null   object\n",
            " 7   Symptom_7   2268 non-null   object\n",
            " 8   Symptom_8   1944 non-null   object\n",
            " 9   Symptom_9   1692 non-null   object\n",
            " 10  Symptom_10  1512 non-null   object\n",
            " 11  Symptom_11  1194 non-null   object\n",
            " 12  Symptom_12  744 non-null    object\n",
            " 13  Symptom_13  504 non-null    object\n",
            " 14  Symptom_14  306 non-null    object\n",
            " 15  Symptom_15  240 non-null    object\n",
            " 16  Symptom_16  192 non-null    object\n",
            " 17  Symptom_17  72 non-null     object\n",
            "dtypes: object(18)\n",
            "memory usage: 692.0+ KB\n"
          ]
        }
      ]
    },
    {
      "cell_type": "code",
      "source": [
        "# Count duplicated data\n",
        "symptoms.duplicated().sum()"
      ],
      "metadata": {
        "colab": {
          "base_uri": "https://localhost:8080/"
        },
        "id": "FG2_22KW6q6h",
        "outputId": "0b807d27-a30a-4ccd-bdf6-6cc628dac069"
      },
      "execution_count": 373,
      "outputs": [
        {
          "output_type": "execute_result",
          "data": {
            "text/plain": [
              "4616"
            ]
          },
          "metadata": {},
          "execution_count": 373
        }
      ]
    },
    {
      "cell_type": "markdown",
      "source": [
        "## Symptom Severity"
      ],
      "metadata": {
        "id": "q9wzxxWE5cOf"
      }
    },
    {
      "cell_type": "code",
      "source": [
        "severity = pd.read_csv('/content/drive/MyDrive/CapstoneProjectBangkitMachineLearning/Data/Symptom-severity.csv')\n",
        "severity.head()"
      ],
      "metadata": {
        "id": "eyzD_UMakzTx",
        "colab": {
          "base_uri": "https://localhost:8080/",
          "height": 0
        },
        "outputId": "62a94e3f-9807-4c5b-f745-f5fab1b9b6ad"
      },
      "execution_count": 374,
      "outputs": [
        {
          "output_type": "execute_result",
          "data": {
            "text/plain": [
              "                Symptom  weight\n",
              "0               itching       1\n",
              "1             skin_rash       3\n",
              "2  nodal_skin_eruptions       4\n",
              "3   continuous_sneezing       4\n",
              "4             shivering       5"
            ],
            "text/html": [
              "\n",
              "  <div id=\"df-745f65f1-f971-4fe7-853e-60a907841b93\">\n",
              "    <div class=\"colab-df-container\">\n",
              "      <div>\n",
              "<style scoped>\n",
              "    .dataframe tbody tr th:only-of-type {\n",
              "        vertical-align: middle;\n",
              "    }\n",
              "\n",
              "    .dataframe tbody tr th {\n",
              "        vertical-align: top;\n",
              "    }\n",
              "\n",
              "    .dataframe thead th {\n",
              "        text-align: right;\n",
              "    }\n",
              "</style>\n",
              "<table border=\"1\" class=\"dataframe\">\n",
              "  <thead>\n",
              "    <tr style=\"text-align: right;\">\n",
              "      <th></th>\n",
              "      <th>Symptom</th>\n",
              "      <th>weight</th>\n",
              "    </tr>\n",
              "  </thead>\n",
              "  <tbody>\n",
              "    <tr>\n",
              "      <th>0</th>\n",
              "      <td>itching</td>\n",
              "      <td>1</td>\n",
              "    </tr>\n",
              "    <tr>\n",
              "      <th>1</th>\n",
              "      <td>skin_rash</td>\n",
              "      <td>3</td>\n",
              "    </tr>\n",
              "    <tr>\n",
              "      <th>2</th>\n",
              "      <td>nodal_skin_eruptions</td>\n",
              "      <td>4</td>\n",
              "    </tr>\n",
              "    <tr>\n",
              "      <th>3</th>\n",
              "      <td>continuous_sneezing</td>\n",
              "      <td>4</td>\n",
              "    </tr>\n",
              "    <tr>\n",
              "      <th>4</th>\n",
              "      <td>shivering</td>\n",
              "      <td>5</td>\n",
              "    </tr>\n",
              "  </tbody>\n",
              "</table>\n",
              "</div>\n",
              "      <button class=\"colab-df-convert\" onclick=\"convertToInteractive('df-745f65f1-f971-4fe7-853e-60a907841b93')\"\n",
              "              title=\"Convert this dataframe to an interactive table.\"\n",
              "              style=\"display:none;\">\n",
              "        \n",
              "  <svg xmlns=\"http://www.w3.org/2000/svg\" height=\"24px\"viewBox=\"0 0 24 24\"\n",
              "       width=\"24px\">\n",
              "    <path d=\"M0 0h24v24H0V0z\" fill=\"none\"/>\n",
              "    <path d=\"M18.56 5.44l.94 2.06.94-2.06 2.06-.94-2.06-.94-.94-2.06-.94 2.06-2.06.94zm-11 1L8.5 8.5l.94-2.06 2.06-.94-2.06-.94L8.5 2.5l-.94 2.06-2.06.94zm10 10l.94 2.06.94-2.06 2.06-.94-2.06-.94-.94-2.06-.94 2.06-2.06.94z\"/><path d=\"M17.41 7.96l-1.37-1.37c-.4-.4-.92-.59-1.43-.59-.52 0-1.04.2-1.43.59L10.3 9.45l-7.72 7.72c-.78.78-.78 2.05 0 2.83L4 21.41c.39.39.9.59 1.41.59.51 0 1.02-.2 1.41-.59l7.78-7.78 2.81-2.81c.8-.78.8-2.07 0-2.86zM5.41 20L4 18.59l7.72-7.72 1.47 1.35L5.41 20z\"/>\n",
              "  </svg>\n",
              "      </button>\n",
              "      \n",
              "  <style>\n",
              "    .colab-df-container {\n",
              "      display:flex;\n",
              "      flex-wrap:wrap;\n",
              "      gap: 12px;\n",
              "    }\n",
              "\n",
              "    .colab-df-convert {\n",
              "      background-color: #E8F0FE;\n",
              "      border: none;\n",
              "      border-radius: 50%;\n",
              "      cursor: pointer;\n",
              "      display: none;\n",
              "      fill: #1967D2;\n",
              "      height: 32px;\n",
              "      padding: 0 0 0 0;\n",
              "      width: 32px;\n",
              "    }\n",
              "\n",
              "    .colab-df-convert:hover {\n",
              "      background-color: #E2EBFA;\n",
              "      box-shadow: 0px 1px 2px rgba(60, 64, 67, 0.3), 0px 1px 3px 1px rgba(60, 64, 67, 0.15);\n",
              "      fill: #174EA6;\n",
              "    }\n",
              "\n",
              "    [theme=dark] .colab-df-convert {\n",
              "      background-color: #3B4455;\n",
              "      fill: #D2E3FC;\n",
              "    }\n",
              "\n",
              "    [theme=dark] .colab-df-convert:hover {\n",
              "      background-color: #434B5C;\n",
              "      box-shadow: 0px 1px 3px 1px rgba(0, 0, 0, 0.15);\n",
              "      filter: drop-shadow(0px 1px 2px rgba(0, 0, 0, 0.3));\n",
              "      fill: #FFFFFF;\n",
              "    }\n",
              "  </style>\n",
              "\n",
              "      <script>\n",
              "        const buttonEl =\n",
              "          document.querySelector('#df-745f65f1-f971-4fe7-853e-60a907841b93 button.colab-df-convert');\n",
              "        buttonEl.style.display =\n",
              "          google.colab.kernel.accessAllowed ? 'block' : 'none';\n",
              "\n",
              "        async function convertToInteractive(key) {\n",
              "          const element = document.querySelector('#df-745f65f1-f971-4fe7-853e-60a907841b93');\n",
              "          const dataTable =\n",
              "            await google.colab.kernel.invokeFunction('convertToInteractive',\n",
              "                                                     [key], {});\n",
              "          if (!dataTable) return;\n",
              "\n",
              "          const docLinkHtml = 'Like what you see? Visit the ' +\n",
              "            '<a target=\"_blank\" href=https://colab.research.google.com/notebooks/data_table.ipynb>data table notebook</a>'\n",
              "            + ' to learn more about interactive tables.';\n",
              "          element.innerHTML = '';\n",
              "          dataTable['output_type'] = 'display_data';\n",
              "          await google.colab.output.renderOutput(dataTable, element);\n",
              "          const docLink = document.createElement('div');\n",
              "          docLink.innerHTML = docLinkHtml;\n",
              "          element.appendChild(docLink);\n",
              "        }\n",
              "      </script>\n",
              "    </div>\n",
              "  </div>\n",
              "  "
            ]
          },
          "metadata": {},
          "execution_count": 374
        }
      ]
    },
    {
      "cell_type": "markdown",
      "source": [
        "## Disease Description"
      ],
      "metadata": {
        "id": "P-OC---n5g1z"
      }
    },
    {
      "cell_type": "code",
      "source": [
        "description = pd.read_csv('/content/drive/MyDrive/CapstoneProjectBangkitMachineLearning/Data/symptom_Description.csv')\n",
        "description.head()"
      ],
      "metadata": {
        "colab": {
          "base_uri": "https://localhost:8080/",
          "height": 0
        },
        "id": "jC2ujRpkV9ow",
        "outputId": "4bb031d7-8d7c-4f34-9bc3-bb697041e858"
      },
      "execution_count": 375,
      "outputs": [
        {
          "output_type": "execute_result",
          "data": {
            "text/plain": [
              "          Disease                                        Description\n",
              "0   Drug Reaction  An adverse drug reaction (ADR) is an injury ca...\n",
              "1         Malaria  An infectious disease caused by protozoan para...\n",
              "2         Allergy  An allergy is an immune system response to a f...\n",
              "3  Hypothyroidism  Hypothyroidism, also called underactive thyroi...\n",
              "4       Psoriasis  Psoriasis is a common skin disorder that forms..."
            ],
            "text/html": [
              "\n",
              "  <div id=\"df-f962b7a6-ca5c-46f4-936e-5606676e76fc\">\n",
              "    <div class=\"colab-df-container\">\n",
              "      <div>\n",
              "<style scoped>\n",
              "    .dataframe tbody tr th:only-of-type {\n",
              "        vertical-align: middle;\n",
              "    }\n",
              "\n",
              "    .dataframe tbody tr th {\n",
              "        vertical-align: top;\n",
              "    }\n",
              "\n",
              "    .dataframe thead th {\n",
              "        text-align: right;\n",
              "    }\n",
              "</style>\n",
              "<table border=\"1\" class=\"dataframe\">\n",
              "  <thead>\n",
              "    <tr style=\"text-align: right;\">\n",
              "      <th></th>\n",
              "      <th>Disease</th>\n",
              "      <th>Description</th>\n",
              "    </tr>\n",
              "  </thead>\n",
              "  <tbody>\n",
              "    <tr>\n",
              "      <th>0</th>\n",
              "      <td>Drug Reaction</td>\n",
              "      <td>An adverse drug reaction (ADR) is an injury ca...</td>\n",
              "    </tr>\n",
              "    <tr>\n",
              "      <th>1</th>\n",
              "      <td>Malaria</td>\n",
              "      <td>An infectious disease caused by protozoan para...</td>\n",
              "    </tr>\n",
              "    <tr>\n",
              "      <th>2</th>\n",
              "      <td>Allergy</td>\n",
              "      <td>An allergy is an immune system response to a f...</td>\n",
              "    </tr>\n",
              "    <tr>\n",
              "      <th>3</th>\n",
              "      <td>Hypothyroidism</td>\n",
              "      <td>Hypothyroidism, also called underactive thyroi...</td>\n",
              "    </tr>\n",
              "    <tr>\n",
              "      <th>4</th>\n",
              "      <td>Psoriasis</td>\n",
              "      <td>Psoriasis is a common skin disorder that forms...</td>\n",
              "    </tr>\n",
              "  </tbody>\n",
              "</table>\n",
              "</div>\n",
              "      <button class=\"colab-df-convert\" onclick=\"convertToInteractive('df-f962b7a6-ca5c-46f4-936e-5606676e76fc')\"\n",
              "              title=\"Convert this dataframe to an interactive table.\"\n",
              "              style=\"display:none;\">\n",
              "        \n",
              "  <svg xmlns=\"http://www.w3.org/2000/svg\" height=\"24px\"viewBox=\"0 0 24 24\"\n",
              "       width=\"24px\">\n",
              "    <path d=\"M0 0h24v24H0V0z\" fill=\"none\"/>\n",
              "    <path d=\"M18.56 5.44l.94 2.06.94-2.06 2.06-.94-2.06-.94-.94-2.06-.94 2.06-2.06.94zm-11 1L8.5 8.5l.94-2.06 2.06-.94-2.06-.94L8.5 2.5l-.94 2.06-2.06.94zm10 10l.94 2.06.94-2.06 2.06-.94-2.06-.94-.94-2.06-.94 2.06-2.06.94z\"/><path d=\"M17.41 7.96l-1.37-1.37c-.4-.4-.92-.59-1.43-.59-.52 0-1.04.2-1.43.59L10.3 9.45l-7.72 7.72c-.78.78-.78 2.05 0 2.83L4 21.41c.39.39.9.59 1.41.59.51 0 1.02-.2 1.41-.59l7.78-7.78 2.81-2.81c.8-.78.8-2.07 0-2.86zM5.41 20L4 18.59l7.72-7.72 1.47 1.35L5.41 20z\"/>\n",
              "  </svg>\n",
              "      </button>\n",
              "      \n",
              "  <style>\n",
              "    .colab-df-container {\n",
              "      display:flex;\n",
              "      flex-wrap:wrap;\n",
              "      gap: 12px;\n",
              "    }\n",
              "\n",
              "    .colab-df-convert {\n",
              "      background-color: #E8F0FE;\n",
              "      border: none;\n",
              "      border-radius: 50%;\n",
              "      cursor: pointer;\n",
              "      display: none;\n",
              "      fill: #1967D2;\n",
              "      height: 32px;\n",
              "      padding: 0 0 0 0;\n",
              "      width: 32px;\n",
              "    }\n",
              "\n",
              "    .colab-df-convert:hover {\n",
              "      background-color: #E2EBFA;\n",
              "      box-shadow: 0px 1px 2px rgba(60, 64, 67, 0.3), 0px 1px 3px 1px rgba(60, 64, 67, 0.15);\n",
              "      fill: #174EA6;\n",
              "    }\n",
              "\n",
              "    [theme=dark] .colab-df-convert {\n",
              "      background-color: #3B4455;\n",
              "      fill: #D2E3FC;\n",
              "    }\n",
              "\n",
              "    [theme=dark] .colab-df-convert:hover {\n",
              "      background-color: #434B5C;\n",
              "      box-shadow: 0px 1px 3px 1px rgba(0, 0, 0, 0.15);\n",
              "      filter: drop-shadow(0px 1px 2px rgba(0, 0, 0, 0.3));\n",
              "      fill: #FFFFFF;\n",
              "    }\n",
              "  </style>\n",
              "\n",
              "      <script>\n",
              "        const buttonEl =\n",
              "          document.querySelector('#df-f962b7a6-ca5c-46f4-936e-5606676e76fc button.colab-df-convert');\n",
              "        buttonEl.style.display =\n",
              "          google.colab.kernel.accessAllowed ? 'block' : 'none';\n",
              "\n",
              "        async function convertToInteractive(key) {\n",
              "          const element = document.querySelector('#df-f962b7a6-ca5c-46f4-936e-5606676e76fc');\n",
              "          const dataTable =\n",
              "            await google.colab.kernel.invokeFunction('convertToInteractive',\n",
              "                                                     [key], {});\n",
              "          if (!dataTable) return;\n",
              "\n",
              "          const docLinkHtml = 'Like what you see? Visit the ' +\n",
              "            '<a target=\"_blank\" href=https://colab.research.google.com/notebooks/data_table.ipynb>data table notebook</a>'\n",
              "            + ' to learn more about interactive tables.';\n",
              "          element.innerHTML = '';\n",
              "          dataTable['output_type'] = 'display_data';\n",
              "          await google.colab.output.renderOutput(dataTable, element);\n",
              "          const docLink = document.createElement('div');\n",
              "          docLink.innerHTML = docLinkHtml;\n",
              "          element.appendChild(docLink);\n",
              "        }\n",
              "      </script>\n",
              "    </div>\n",
              "  </div>\n",
              "  "
            ]
          },
          "metadata": {},
          "execution_count": 375
        }
      ]
    },
    {
      "cell_type": "markdown",
      "source": [
        "## Disease Precaution"
      ],
      "metadata": {
        "id": "y1g5KPCE5pIL"
      }
    },
    {
      "cell_type": "code",
      "source": [
        "precaution = pd.read_csv('/content/drive/MyDrive/CapstoneProjectBangkitMachineLearning/Data/symptom_precaution.csv')\n",
        "precaution.head()"
      ],
      "metadata": {
        "colab": {
          "base_uri": "https://localhost:8080/",
          "height": 0
        },
        "id": "C8fJWtloWTSw",
        "outputId": "29600770-3917-4a71-81de-cc5bd982b685"
      },
      "execution_count": 376,
      "outputs": [
        {
          "output_type": "execute_result",
          "data": {
            "text/plain": [
              "          Disease                      Precaution_1  \\\n",
              "0   Drug Reaction                   stop irritation   \n",
              "1         Malaria          Consult nearest hospital   \n",
              "2         Allergy                    apply calamine   \n",
              "3  Hypothyroidism                     reduce stress   \n",
              "4       Psoriasis  wash hands with warm soapy water   \n",
              "\n",
              "                   Precaution_2        Precaution_3  \\\n",
              "0      consult nearest hospital    stop taking drug   \n",
              "1               avoid oily food  avoid non veg food   \n",
              "2       cover area with bandage                 NaN   \n",
              "3                      exercise         eat healthy   \n",
              "4  stop bleeding using pressure      consult doctor   \n",
              "\n",
              "                  Precaution_4  \n",
              "0                    follow up  \n",
              "1           keep mosquitos out  \n",
              "2  use ice to compress itching  \n",
              "3             get proper sleep  \n",
              "4                   salt baths  "
            ],
            "text/html": [
              "\n",
              "  <div id=\"df-dd1b7b74-0bdf-4a2f-9f6f-046e0e3cd5aa\">\n",
              "    <div class=\"colab-df-container\">\n",
              "      <div>\n",
              "<style scoped>\n",
              "    .dataframe tbody tr th:only-of-type {\n",
              "        vertical-align: middle;\n",
              "    }\n",
              "\n",
              "    .dataframe tbody tr th {\n",
              "        vertical-align: top;\n",
              "    }\n",
              "\n",
              "    .dataframe thead th {\n",
              "        text-align: right;\n",
              "    }\n",
              "</style>\n",
              "<table border=\"1\" class=\"dataframe\">\n",
              "  <thead>\n",
              "    <tr style=\"text-align: right;\">\n",
              "      <th></th>\n",
              "      <th>Disease</th>\n",
              "      <th>Precaution_1</th>\n",
              "      <th>Precaution_2</th>\n",
              "      <th>Precaution_3</th>\n",
              "      <th>Precaution_4</th>\n",
              "    </tr>\n",
              "  </thead>\n",
              "  <tbody>\n",
              "    <tr>\n",
              "      <th>0</th>\n",
              "      <td>Drug Reaction</td>\n",
              "      <td>stop irritation</td>\n",
              "      <td>consult nearest hospital</td>\n",
              "      <td>stop taking drug</td>\n",
              "      <td>follow up</td>\n",
              "    </tr>\n",
              "    <tr>\n",
              "      <th>1</th>\n",
              "      <td>Malaria</td>\n",
              "      <td>Consult nearest hospital</td>\n",
              "      <td>avoid oily food</td>\n",
              "      <td>avoid non veg food</td>\n",
              "      <td>keep mosquitos out</td>\n",
              "    </tr>\n",
              "    <tr>\n",
              "      <th>2</th>\n",
              "      <td>Allergy</td>\n",
              "      <td>apply calamine</td>\n",
              "      <td>cover area with bandage</td>\n",
              "      <td>NaN</td>\n",
              "      <td>use ice to compress itching</td>\n",
              "    </tr>\n",
              "    <tr>\n",
              "      <th>3</th>\n",
              "      <td>Hypothyroidism</td>\n",
              "      <td>reduce stress</td>\n",
              "      <td>exercise</td>\n",
              "      <td>eat healthy</td>\n",
              "      <td>get proper sleep</td>\n",
              "    </tr>\n",
              "    <tr>\n",
              "      <th>4</th>\n",
              "      <td>Psoriasis</td>\n",
              "      <td>wash hands with warm soapy water</td>\n",
              "      <td>stop bleeding using pressure</td>\n",
              "      <td>consult doctor</td>\n",
              "      <td>salt baths</td>\n",
              "    </tr>\n",
              "  </tbody>\n",
              "</table>\n",
              "</div>\n",
              "      <button class=\"colab-df-convert\" onclick=\"convertToInteractive('df-dd1b7b74-0bdf-4a2f-9f6f-046e0e3cd5aa')\"\n",
              "              title=\"Convert this dataframe to an interactive table.\"\n",
              "              style=\"display:none;\">\n",
              "        \n",
              "  <svg xmlns=\"http://www.w3.org/2000/svg\" height=\"24px\"viewBox=\"0 0 24 24\"\n",
              "       width=\"24px\">\n",
              "    <path d=\"M0 0h24v24H0V0z\" fill=\"none\"/>\n",
              "    <path d=\"M18.56 5.44l.94 2.06.94-2.06 2.06-.94-2.06-.94-.94-2.06-.94 2.06-2.06.94zm-11 1L8.5 8.5l.94-2.06 2.06-.94-2.06-.94L8.5 2.5l-.94 2.06-2.06.94zm10 10l.94 2.06.94-2.06 2.06-.94-2.06-.94-.94-2.06-.94 2.06-2.06.94z\"/><path d=\"M17.41 7.96l-1.37-1.37c-.4-.4-.92-.59-1.43-.59-.52 0-1.04.2-1.43.59L10.3 9.45l-7.72 7.72c-.78.78-.78 2.05 0 2.83L4 21.41c.39.39.9.59 1.41.59.51 0 1.02-.2 1.41-.59l7.78-7.78 2.81-2.81c.8-.78.8-2.07 0-2.86zM5.41 20L4 18.59l7.72-7.72 1.47 1.35L5.41 20z\"/>\n",
              "  </svg>\n",
              "      </button>\n",
              "      \n",
              "  <style>\n",
              "    .colab-df-container {\n",
              "      display:flex;\n",
              "      flex-wrap:wrap;\n",
              "      gap: 12px;\n",
              "    }\n",
              "\n",
              "    .colab-df-convert {\n",
              "      background-color: #E8F0FE;\n",
              "      border: none;\n",
              "      border-radius: 50%;\n",
              "      cursor: pointer;\n",
              "      display: none;\n",
              "      fill: #1967D2;\n",
              "      height: 32px;\n",
              "      padding: 0 0 0 0;\n",
              "      width: 32px;\n",
              "    }\n",
              "\n",
              "    .colab-df-convert:hover {\n",
              "      background-color: #E2EBFA;\n",
              "      box-shadow: 0px 1px 2px rgba(60, 64, 67, 0.3), 0px 1px 3px 1px rgba(60, 64, 67, 0.15);\n",
              "      fill: #174EA6;\n",
              "    }\n",
              "\n",
              "    [theme=dark] .colab-df-convert {\n",
              "      background-color: #3B4455;\n",
              "      fill: #D2E3FC;\n",
              "    }\n",
              "\n",
              "    [theme=dark] .colab-df-convert:hover {\n",
              "      background-color: #434B5C;\n",
              "      box-shadow: 0px 1px 3px 1px rgba(0, 0, 0, 0.15);\n",
              "      filter: drop-shadow(0px 1px 2px rgba(0, 0, 0, 0.3));\n",
              "      fill: #FFFFFF;\n",
              "    }\n",
              "  </style>\n",
              "\n",
              "      <script>\n",
              "        const buttonEl =\n",
              "          document.querySelector('#df-dd1b7b74-0bdf-4a2f-9f6f-046e0e3cd5aa button.colab-df-convert');\n",
              "        buttonEl.style.display =\n",
              "          google.colab.kernel.accessAllowed ? 'block' : 'none';\n",
              "\n",
              "        async function convertToInteractive(key) {\n",
              "          const element = document.querySelector('#df-dd1b7b74-0bdf-4a2f-9f6f-046e0e3cd5aa');\n",
              "          const dataTable =\n",
              "            await google.colab.kernel.invokeFunction('convertToInteractive',\n",
              "                                                     [key], {});\n",
              "          if (!dataTable) return;\n",
              "\n",
              "          const docLinkHtml = 'Like what you see? Visit the ' +\n",
              "            '<a target=\"_blank\" href=https://colab.research.google.com/notebooks/data_table.ipynb>data table notebook</a>'\n",
              "            + ' to learn more about interactive tables.';\n",
              "          element.innerHTML = '';\n",
              "          dataTable['output_type'] = 'display_data';\n",
              "          await google.colab.output.renderOutput(dataTable, element);\n",
              "          const docLink = document.createElement('div');\n",
              "          docLink.innerHTML = docLinkHtml;\n",
              "          element.appendChild(docLink);\n",
              "        }\n",
              "      </script>\n",
              "    </div>\n",
              "  </div>\n",
              "  "
            ]
          },
          "metadata": {},
          "execution_count": 376
        }
      ]
    },
    {
      "cell_type": "markdown",
      "source": [
        "# Data Cleaning"
      ],
      "metadata": {
        "id": "kWSWHO647auo"
      }
    },
    {
      "cell_type": "code",
      "source": [
        "# Mengganti spaces dengan \"_\" dan menghapus spaces di bagian kiri kanan string\n",
        "def substitute_spaces(string):\n",
        "  if isinstance(string, str):\n",
        "    string = string.strip()\n",
        "    #string = re.sub(\" \",\"_\",string)\n",
        "  return string"
      ],
      "metadata": {
        "id": "JdJfqtvc7wpI"
      },
      "execution_count": 377,
      "outputs": []
    },
    {
      "cell_type": "code",
      "source": [
        "for cols in symptoms.columns:\n",
        "  symptoms[cols] = symptoms[cols].apply(substitute_spaces)\n",
        "for cols in severity.columns:\n",
        "  severity[cols] = severity[cols].apply(substitute_spaces)\n",
        "for cols in description.columns:\n",
        "  description[cols] = description[cols].apply(substitute_spaces)\n",
        "for cols in precaution.columns:\n",
        "  precaution[cols] = precaution[cols].apply(substitute_spaces)"
      ],
      "metadata": {
        "id": "MUViunBSLImo"
      },
      "execution_count": 378,
      "outputs": []
    },
    {
      "cell_type": "code",
      "source": [
        "description.loc[description['Disease'] == 'Dimorphic hemorrhoids(piles)', 'Disease'] = 'Dimorphic hemorrhoids (piles)'\n",
        "symptoms.loc[symptoms['Disease'] == 'Dimorphic hemmorhoids(piles)', 'Disease'] = 'Dimorphic hemorrhoids (piles)'\n",
        "precaution.loc[precaution['Disease'] == 'Dimorphic hemmorhoids(piles)', 'Disease'] = 'Dimorphic hemorrhoids (piles)'"
      ],
      "metadata": {
        "id": "drPiPC4cEkXW"
      },
      "execution_count": 379,
      "outputs": []
    },
    {
      "cell_type": "markdown",
      "source": [
        "## Combination Data"
      ],
      "metadata": {
        "id": "ODQ2Qo9EA22k"
      }
    },
    {
      "cell_type": "code",
      "source": [
        "combination = pd.merge(description, precaution, on='Disease')"
      ],
      "metadata": {
        "id": "em_x0ZGiBUiw"
      },
      "execution_count": 380,
      "outputs": []
    },
    {
      "cell_type": "code",
      "source": [
        "combination['Precaution'] = combination['Precaution_1'].fillna('') + ', ' + combination['Precaution_2'].fillna('') + ', ' + combination['Precaution_3'].fillna('') + ', ' + combination['Precaution_4'].fillna('')"
      ],
      "metadata": {
        "id": "9gra_nmkHDHP"
      },
      "execution_count": 381,
      "outputs": []
    },
    {
      "cell_type": "code",
      "source": [
        "combination = combination.drop(['Precaution_1','Precaution_2','Precaution_3','Precaution_4'], axis=1)"
      ],
      "metadata": {
        "id": "4zeiluK6Ittq"
      },
      "execution_count": 382,
      "outputs": []
    },
    {
      "cell_type": "code",
      "source": [
        "combination['id'] = combination.index"
      ],
      "metadata": {
        "id": "EgouvX38KJRs"
      },
      "execution_count": 383,
      "outputs": []
    },
    {
      "cell_type": "code",
      "source": [
        "combination = combination[['id', 'Disease', 'Description', 'Precaution']]"
      ],
      "metadata": {
        "id": "5r_SU8BVKdYU"
      },
      "execution_count": 384,
      "outputs": []
    },
    {
      "cell_type": "code",
      "source": [
        "combination.shape"
      ],
      "metadata": {
        "colab": {
          "base_uri": "https://localhost:8080/"
        },
        "id": "qrTuYDHSB9tS",
        "outputId": "a12d6956-4067-4d06-81f4-ec8b2bd71e34"
      },
      "execution_count": 385,
      "outputs": [
        {
          "output_type": "execute_result",
          "data": {
            "text/plain": [
              "(41, 4)"
            ]
          },
          "metadata": {},
          "execution_count": 385
        }
      ]
    },
    {
      "cell_type": "markdown",
      "source": [
        "#Data Preprocessing"
      ],
      "metadata": {
        "id": "n46MsDwtxpiN"
      }
    },
    {
      "cell_type": "code",
      "source": [
        "# Matching with symptoms data in severity\n",
        "def matched_data(values):\n",
        "  values = severity.loc[severity['Symptom'] == values]['weight']\n",
        "  if len(values) > 0:\n",
        "    return values.iloc[0]  # Return the first matching value\n",
        "  else:\n",
        "    return 0"
      ],
      "metadata": {
        "id": "wxSlevYAqa3b"
      },
      "execution_count": 386,
      "outputs": []
    },
    {
      "cell_type": "code",
      "source": [
        "cols = ['Symptom_1', 'Symptom_2', 'Symptom_3', 'Symptom_4', 'Symptom_5', \n",
        "        'Symptom_6', 'Symptom_7', 'Symptom_8', 'Symptom_9', 'Symptom_10', \n",
        "        'Symptom_11', 'Symptom_12', 'Symptom_13', 'Symptom_14', 'Symptom_15', \n",
        "        'Symptom_16', 'Symptom_17']\n",
        "\n",
        "for i in cols:\n",
        "  symptoms[i] = symptoms[i].apply(matched_data)"
      ],
      "metadata": {
        "id": "rqC8YnANr6kf"
      },
      "execution_count": 387,
      "outputs": []
    },
    {
      "cell_type": "code",
      "source": [
        "# Matching with symptoms data in description\n",
        "def label_encoding(values):\n",
        "  for i in combination.index:\n",
        "    if values == combination['Disease'].iloc[i]:\n",
        "      values = i\n",
        "  return values"
      ],
      "metadata": {
        "id": "9860wuAB5gW0"
      },
      "execution_count": 388,
      "outputs": []
    },
    {
      "cell_type": "code",
      "source": [
        "symptoms['Disease'] = symptoms['Disease'].apply(label_encoding)"
      ],
      "metadata": {
        "id": "0hGeZWgA_l_v"
      },
      "execution_count": 389,
      "outputs": []
    },
    {
      "cell_type": "code",
      "source": [
        "symptoms"
      ],
      "metadata": {
        "colab": {
          "base_uri": "https://localhost:8080/",
          "height": 487
        },
        "id": "Mflg7eU0wKeG",
        "outputId": "7e4e7917-eab7-44be-89df-aa6afbb2c22e"
      },
      "execution_count": 390,
      "outputs": [
        {
          "output_type": "execute_result",
          "data": {
            "text/plain": [
              "      Disease  Symptom_1  Symptom_2  Symptom_3  Symptom_4  Symptom_5  \\\n",
              "0          27          1          3          4          0          0   \n",
              "1          27          3          4          0          0          0   \n",
              "2          27          1          4          0          0          0   \n",
              "3          27          1          3          0          0          0   \n",
              "4          27          1          3          4          0          0   \n",
              "...       ...        ...        ...        ...        ...        ...   \n",
              "4915        9          5          3          5          6          4   \n",
              "4916       11          3          2          2          2          0   \n",
              "4917       21          6          4          0          6          0   \n",
              "4918        4          3          3          3          2          2   \n",
              "4919       13          3          7          4          2          3   \n",
              "\n",
              "      Symptom_6  Symptom_7  Symptom_8  Symptom_9  Symptom_10  Symptom_11  \\\n",
              "0             0          0          0          0           0           0   \n",
              "1             0          0          0          0           0           0   \n",
              "2             0          0          0          0           0           0   \n",
              "3             0          0          0          0           0           0   \n",
              "4             0          0          0          0           0           0   \n",
              "...         ...        ...        ...        ...         ...         ...   \n",
              "4915          4          0          0          0           0           0   \n",
              "4916          0          0          0          0           0           0   \n",
              "4917          0          0          0          0           0           0   \n",
              "4918          2          0          0          0           0           0   \n",
              "4919          0          0          0          0           0           0   \n",
              "\n",
              "      Symptom_12  Symptom_13  Symptom_14  Symptom_15  Symptom_16  Symptom_17  \n",
              "0              0           0           0           0           0           0  \n",
              "1              0           0           0           0           0           0  \n",
              "2              0           0           0           0           0           0  \n",
              "3              0           0           0           0           0           0  \n",
              "4              0           0           0           0           0           0  \n",
              "...          ...         ...         ...         ...         ...         ...  \n",
              "4915           0           0           0           0           0           0  \n",
              "4916           0           0           0           0           0           0  \n",
              "4917           0           0           0           0           0           0  \n",
              "4918           0           0           0           0           0           0  \n",
              "4919           0           0           0           0           0           0  \n",
              "\n",
              "[4920 rows x 18 columns]"
            ],
            "text/html": [
              "\n",
              "  <div id=\"df-ec65c855-0ff8-46ff-acfc-4f9ebffe77f0\">\n",
              "    <div class=\"colab-df-container\">\n",
              "      <div>\n",
              "<style scoped>\n",
              "    .dataframe tbody tr th:only-of-type {\n",
              "        vertical-align: middle;\n",
              "    }\n",
              "\n",
              "    .dataframe tbody tr th {\n",
              "        vertical-align: top;\n",
              "    }\n",
              "\n",
              "    .dataframe thead th {\n",
              "        text-align: right;\n",
              "    }\n",
              "</style>\n",
              "<table border=\"1\" class=\"dataframe\">\n",
              "  <thead>\n",
              "    <tr style=\"text-align: right;\">\n",
              "      <th></th>\n",
              "      <th>Disease</th>\n",
              "      <th>Symptom_1</th>\n",
              "      <th>Symptom_2</th>\n",
              "      <th>Symptom_3</th>\n",
              "      <th>Symptom_4</th>\n",
              "      <th>Symptom_5</th>\n",
              "      <th>Symptom_6</th>\n",
              "      <th>Symptom_7</th>\n",
              "      <th>Symptom_8</th>\n",
              "      <th>Symptom_9</th>\n",
              "      <th>Symptom_10</th>\n",
              "      <th>Symptom_11</th>\n",
              "      <th>Symptom_12</th>\n",
              "      <th>Symptom_13</th>\n",
              "      <th>Symptom_14</th>\n",
              "      <th>Symptom_15</th>\n",
              "      <th>Symptom_16</th>\n",
              "      <th>Symptom_17</th>\n",
              "    </tr>\n",
              "  </thead>\n",
              "  <tbody>\n",
              "    <tr>\n",
              "      <th>0</th>\n",
              "      <td>27</td>\n",
              "      <td>1</td>\n",
              "      <td>3</td>\n",
              "      <td>4</td>\n",
              "      <td>0</td>\n",
              "      <td>0</td>\n",
              "      <td>0</td>\n",
              "      <td>0</td>\n",
              "      <td>0</td>\n",
              "      <td>0</td>\n",
              "      <td>0</td>\n",
              "      <td>0</td>\n",
              "      <td>0</td>\n",
              "      <td>0</td>\n",
              "      <td>0</td>\n",
              "      <td>0</td>\n",
              "      <td>0</td>\n",
              "      <td>0</td>\n",
              "    </tr>\n",
              "    <tr>\n",
              "      <th>1</th>\n",
              "      <td>27</td>\n",
              "      <td>3</td>\n",
              "      <td>4</td>\n",
              "      <td>0</td>\n",
              "      <td>0</td>\n",
              "      <td>0</td>\n",
              "      <td>0</td>\n",
              "      <td>0</td>\n",
              "      <td>0</td>\n",
              "      <td>0</td>\n",
              "      <td>0</td>\n",
              "      <td>0</td>\n",
              "      <td>0</td>\n",
              "      <td>0</td>\n",
              "      <td>0</td>\n",
              "      <td>0</td>\n",
              "      <td>0</td>\n",
              "      <td>0</td>\n",
              "    </tr>\n",
              "    <tr>\n",
              "      <th>2</th>\n",
              "      <td>27</td>\n",
              "      <td>1</td>\n",
              "      <td>4</td>\n",
              "      <td>0</td>\n",
              "      <td>0</td>\n",
              "      <td>0</td>\n",
              "      <td>0</td>\n",
              "      <td>0</td>\n",
              "      <td>0</td>\n",
              "      <td>0</td>\n",
              "      <td>0</td>\n",
              "      <td>0</td>\n",
              "      <td>0</td>\n",
              "      <td>0</td>\n",
              "      <td>0</td>\n",
              "      <td>0</td>\n",
              "      <td>0</td>\n",
              "      <td>0</td>\n",
              "    </tr>\n",
              "    <tr>\n",
              "      <th>3</th>\n",
              "      <td>27</td>\n",
              "      <td>1</td>\n",
              "      <td>3</td>\n",
              "      <td>0</td>\n",
              "      <td>0</td>\n",
              "      <td>0</td>\n",
              "      <td>0</td>\n",
              "      <td>0</td>\n",
              "      <td>0</td>\n",
              "      <td>0</td>\n",
              "      <td>0</td>\n",
              "      <td>0</td>\n",
              "      <td>0</td>\n",
              "      <td>0</td>\n",
              "      <td>0</td>\n",
              "      <td>0</td>\n",
              "      <td>0</td>\n",
              "      <td>0</td>\n",
              "    </tr>\n",
              "    <tr>\n",
              "      <th>4</th>\n",
              "      <td>27</td>\n",
              "      <td>1</td>\n",
              "      <td>3</td>\n",
              "      <td>4</td>\n",
              "      <td>0</td>\n",
              "      <td>0</td>\n",
              "      <td>0</td>\n",
              "      <td>0</td>\n",
              "      <td>0</td>\n",
              "      <td>0</td>\n",
              "      <td>0</td>\n",
              "      <td>0</td>\n",
              "      <td>0</td>\n",
              "      <td>0</td>\n",
              "      <td>0</td>\n",
              "      <td>0</td>\n",
              "      <td>0</td>\n",
              "      <td>0</td>\n",
              "    </tr>\n",
              "    <tr>\n",
              "      <th>...</th>\n",
              "      <td>...</td>\n",
              "      <td>...</td>\n",
              "      <td>...</td>\n",
              "      <td>...</td>\n",
              "      <td>...</td>\n",
              "      <td>...</td>\n",
              "      <td>...</td>\n",
              "      <td>...</td>\n",
              "      <td>...</td>\n",
              "      <td>...</td>\n",
              "      <td>...</td>\n",
              "      <td>...</td>\n",
              "      <td>...</td>\n",
              "      <td>...</td>\n",
              "      <td>...</td>\n",
              "      <td>...</td>\n",
              "      <td>...</td>\n",
              "      <td>...</td>\n",
              "    </tr>\n",
              "    <tr>\n",
              "      <th>4915</th>\n",
              "      <td>9</td>\n",
              "      <td>5</td>\n",
              "      <td>3</td>\n",
              "      <td>5</td>\n",
              "      <td>6</td>\n",
              "      <td>4</td>\n",
              "      <td>4</td>\n",
              "      <td>0</td>\n",
              "      <td>0</td>\n",
              "      <td>0</td>\n",
              "      <td>0</td>\n",
              "      <td>0</td>\n",
              "      <td>0</td>\n",
              "      <td>0</td>\n",
              "      <td>0</td>\n",
              "      <td>0</td>\n",
              "      <td>0</td>\n",
              "      <td>0</td>\n",
              "    </tr>\n",
              "    <tr>\n",
              "      <th>4916</th>\n",
              "      <td>11</td>\n",
              "      <td>3</td>\n",
              "      <td>2</td>\n",
              "      <td>2</td>\n",
              "      <td>2</td>\n",
              "      <td>0</td>\n",
              "      <td>0</td>\n",
              "      <td>0</td>\n",
              "      <td>0</td>\n",
              "      <td>0</td>\n",
              "      <td>0</td>\n",
              "      <td>0</td>\n",
              "      <td>0</td>\n",
              "      <td>0</td>\n",
              "      <td>0</td>\n",
              "      <td>0</td>\n",
              "      <td>0</td>\n",
              "      <td>0</td>\n",
              "    </tr>\n",
              "    <tr>\n",
              "      <th>4917</th>\n",
              "      <td>21</td>\n",
              "      <td>6</td>\n",
              "      <td>4</td>\n",
              "      <td>0</td>\n",
              "      <td>6</td>\n",
              "      <td>0</td>\n",
              "      <td>0</td>\n",
              "      <td>0</td>\n",
              "      <td>0</td>\n",
              "      <td>0</td>\n",
              "      <td>0</td>\n",
              "      <td>0</td>\n",
              "      <td>0</td>\n",
              "      <td>0</td>\n",
              "      <td>0</td>\n",
              "      <td>0</td>\n",
              "      <td>0</td>\n",
              "      <td>0</td>\n",
              "    </tr>\n",
              "    <tr>\n",
              "      <th>4918</th>\n",
              "      <td>4</td>\n",
              "      <td>3</td>\n",
              "      <td>3</td>\n",
              "      <td>3</td>\n",
              "      <td>2</td>\n",
              "      <td>2</td>\n",
              "      <td>2</td>\n",
              "      <td>0</td>\n",
              "      <td>0</td>\n",
              "      <td>0</td>\n",
              "      <td>0</td>\n",
              "      <td>0</td>\n",
              "      <td>0</td>\n",
              "      <td>0</td>\n",
              "      <td>0</td>\n",
              "      <td>0</td>\n",
              "      <td>0</td>\n",
              "      <td>0</td>\n",
              "    </tr>\n",
              "    <tr>\n",
              "      <th>4919</th>\n",
              "      <td>13</td>\n",
              "      <td>3</td>\n",
              "      <td>7</td>\n",
              "      <td>4</td>\n",
              "      <td>2</td>\n",
              "      <td>3</td>\n",
              "      <td>0</td>\n",
              "      <td>0</td>\n",
              "      <td>0</td>\n",
              "      <td>0</td>\n",
              "      <td>0</td>\n",
              "      <td>0</td>\n",
              "      <td>0</td>\n",
              "      <td>0</td>\n",
              "      <td>0</td>\n",
              "      <td>0</td>\n",
              "      <td>0</td>\n",
              "      <td>0</td>\n",
              "    </tr>\n",
              "  </tbody>\n",
              "</table>\n",
              "<p>4920 rows × 18 columns</p>\n",
              "</div>\n",
              "      <button class=\"colab-df-convert\" onclick=\"convertToInteractive('df-ec65c855-0ff8-46ff-acfc-4f9ebffe77f0')\"\n",
              "              title=\"Convert this dataframe to an interactive table.\"\n",
              "              style=\"display:none;\">\n",
              "        \n",
              "  <svg xmlns=\"http://www.w3.org/2000/svg\" height=\"24px\"viewBox=\"0 0 24 24\"\n",
              "       width=\"24px\">\n",
              "    <path d=\"M0 0h24v24H0V0z\" fill=\"none\"/>\n",
              "    <path d=\"M18.56 5.44l.94 2.06.94-2.06 2.06-.94-2.06-.94-.94-2.06-.94 2.06-2.06.94zm-11 1L8.5 8.5l.94-2.06 2.06-.94-2.06-.94L8.5 2.5l-.94 2.06-2.06.94zm10 10l.94 2.06.94-2.06 2.06-.94-2.06-.94-.94-2.06-.94 2.06-2.06.94z\"/><path d=\"M17.41 7.96l-1.37-1.37c-.4-.4-.92-.59-1.43-.59-.52 0-1.04.2-1.43.59L10.3 9.45l-7.72 7.72c-.78.78-.78 2.05 0 2.83L4 21.41c.39.39.9.59 1.41.59.51 0 1.02-.2 1.41-.59l7.78-7.78 2.81-2.81c.8-.78.8-2.07 0-2.86zM5.41 20L4 18.59l7.72-7.72 1.47 1.35L5.41 20z\"/>\n",
              "  </svg>\n",
              "      </button>\n",
              "      \n",
              "  <style>\n",
              "    .colab-df-container {\n",
              "      display:flex;\n",
              "      flex-wrap:wrap;\n",
              "      gap: 12px;\n",
              "    }\n",
              "\n",
              "    .colab-df-convert {\n",
              "      background-color: #E8F0FE;\n",
              "      border: none;\n",
              "      border-radius: 50%;\n",
              "      cursor: pointer;\n",
              "      display: none;\n",
              "      fill: #1967D2;\n",
              "      height: 32px;\n",
              "      padding: 0 0 0 0;\n",
              "      width: 32px;\n",
              "    }\n",
              "\n",
              "    .colab-df-convert:hover {\n",
              "      background-color: #E2EBFA;\n",
              "      box-shadow: 0px 1px 2px rgba(60, 64, 67, 0.3), 0px 1px 3px 1px rgba(60, 64, 67, 0.15);\n",
              "      fill: #174EA6;\n",
              "    }\n",
              "\n",
              "    [theme=dark] .colab-df-convert {\n",
              "      background-color: #3B4455;\n",
              "      fill: #D2E3FC;\n",
              "    }\n",
              "\n",
              "    [theme=dark] .colab-df-convert:hover {\n",
              "      background-color: #434B5C;\n",
              "      box-shadow: 0px 1px 3px 1px rgba(0, 0, 0, 0.15);\n",
              "      filter: drop-shadow(0px 1px 2px rgba(0, 0, 0, 0.3));\n",
              "      fill: #FFFFFF;\n",
              "    }\n",
              "  </style>\n",
              "\n",
              "      <script>\n",
              "        const buttonEl =\n",
              "          document.querySelector('#df-ec65c855-0ff8-46ff-acfc-4f9ebffe77f0 button.colab-df-convert');\n",
              "        buttonEl.style.display =\n",
              "          google.colab.kernel.accessAllowed ? 'block' : 'none';\n",
              "\n",
              "        async function convertToInteractive(key) {\n",
              "          const element = document.querySelector('#df-ec65c855-0ff8-46ff-acfc-4f9ebffe77f0');\n",
              "          const dataTable =\n",
              "            await google.colab.kernel.invokeFunction('convertToInteractive',\n",
              "                                                     [key], {});\n",
              "          if (!dataTable) return;\n",
              "\n",
              "          const docLinkHtml = 'Like what you see? Visit the ' +\n",
              "            '<a target=\"_blank\" href=https://colab.research.google.com/notebooks/data_table.ipynb>data table notebook</a>'\n",
              "            + ' to learn more about interactive tables.';\n",
              "          element.innerHTML = '';\n",
              "          dataTable['output_type'] = 'display_data';\n",
              "          await google.colab.output.renderOutput(dataTable, element);\n",
              "          const docLink = document.createElement('div');\n",
              "          docLink.innerHTML = docLinkHtml;\n",
              "          element.appendChild(docLink);\n",
              "        }\n",
              "      </script>\n",
              "    </div>\n",
              "  </div>\n",
              "  "
            ]
          },
          "metadata": {},
          "execution_count": 390
        }
      ]
    },
    {
      "cell_type": "code",
      "source": [
        "symptoms['Disease'].value_counts()"
      ],
      "metadata": {
        "colab": {
          "base_uri": "https://localhost:8080/"
        },
        "id": "9fnLqeV-C0Dy",
        "outputId": "375e47ff-6de2-4d92-b97c-9ba3680d2e01"
      },
      "execution_count": 391,
      "outputs": [
        {
          "output_type": "execute_result",
          "data": {
            "text/plain": [
              "27    120\n",
              "28    120\n",
              "33    120\n",
              "31    120\n",
              "40    120\n",
              "17    120\n",
              "37    120\n",
              "16    120\n",
              "36    120\n",
              "22    120\n",
              "3     120\n",
              "20    120\n",
              "10    120\n",
              "8     120\n",
              "38    120\n",
              "9     120\n",
              "11    120\n",
              "21    120\n",
              "4     120\n",
              "35    120\n",
              "26    120\n",
              "2     120\n",
              "7     120\n",
              "5     120\n",
              "6     120\n",
              "0     120\n",
              "15    120\n",
              "23    120\n",
              "12    120\n",
              "39    120\n",
              "30    120\n",
              "14    120\n",
              "29    120\n",
              "19    120\n",
              "24    120\n",
              "32    120\n",
              "1     120\n",
              "18    120\n",
              "34    120\n",
              "25    120\n",
              "13    120\n",
              "Name: Disease, dtype: int64"
            ]
          },
          "metadata": {},
          "execution_count": 391
        }
      ]
    },
    {
      "cell_type": "code",
      "source": [
        "X = symptoms.drop(['Disease'], axis = 1)\n",
        "y = symptoms['Disease']"
      ],
      "metadata": {
        "id": "JfvmvsKW_-yo"
      },
      "execution_count": 392,
      "outputs": []
    },
    {
      "cell_type": "markdown",
      "source": [
        "# Neural Networks with TensorFlow "
      ],
      "metadata": {
        "id": "qjFAkqW0ARxm"
      }
    },
    {
      "cell_type": "markdown",
      "source": [
        "##Single Validation"
      ],
      "metadata": {
        "id": "7Ys9tYMmZCO6"
      }
    },
    {
      "cell_type": "code",
      "source": [
        "X_train, X_test, y_train, y_test = train_test_split(X, y, test_size=0.2, random_state=123)\n",
        "print(X_train.shape, y_train.shape, X_test.shape, y_test.shape)"
      ],
      "metadata": {
        "colab": {
          "base_uri": "https://localhost:8080/"
        },
        "id": "CscHVCRNZQz4",
        "outputId": "fa2b1709-7ab3-4532-bce1-ecd5809a6f38"
      },
      "execution_count": 164,
      "outputs": [
        {
          "output_type": "stream",
          "name": "stdout",
          "text": [
            "(3936, 17) (3936,) (984, 17) (984,)\n"
          ]
        }
      ]
    },
    {
      "cell_type": "code",
      "source": [
        "X_test"
      ],
      "metadata": {
        "colab": {
          "base_uri": "https://localhost:8080/",
          "height": 487
        },
        "id": "Cu54Zqjp09Z5",
        "outputId": "0e33d6a0-5b32-454f-d65b-0e60ef2133fe"
      },
      "execution_count": 169,
      "outputs": [
        {
          "output_type": "execute_result",
          "data": {
            "text/plain": [
              "      Symptom_1  Symptom_2  Symptom_3  Symptom_4  Symptom_5  Symptom_6  \\\n",
              "4381          2          4          5          5          2          0   \n",
              "3744          5          3          4          2          0          0   \n",
              "1340          3          5          3          5          4          4   \n",
              "3570          1          5          3          5          4          4   \n",
              "2373          4          3          5          3          6          5   \n",
              "...         ...        ...        ...        ...        ...        ...   \n",
              "3901          3          6          7          5          0          0   \n",
              "4588          3          2          2          2          0          0   \n",
              "3312          4          3          3          5          3          6   \n",
              "948           7          5          4          4          0          0   \n",
              "2369          4          3          5          3          2          4   \n",
              "\n",
              "      Symptom_7  Symptom_8  Symptom_9  Symptom_10  Symptom_11  Symptom_12  \\\n",
              "4381          0          0          0           0           0           0   \n",
              "3744          0          0          0           0           0           0   \n",
              "1340          3          2          3           0           0           0   \n",
              "3570          4          0          0           0           0           0   \n",
              "2373          4          2          2           6           0           0   \n",
              "...         ...        ...        ...         ...         ...         ...   \n",
              "3901          0          0          0           0           0           0   \n",
              "4588          0          0          0           0           0           0   \n",
              "3312          5          4          2           2           6           0   \n",
              "948           0          0          0           0           0           0   \n",
              "2369          6          5          5           3           2           6   \n",
              "\n",
              "      Symptom_13  Symptom_14  Symptom_15  Symptom_16  Symptom_17  \n",
              "4381           0           0           0           0           0  \n",
              "3744           0           0           0           0           0  \n",
              "1340           0           0           0           0           0  \n",
              "3570           0           0           0           0           0  \n",
              "2373           0           0           0           0           0  \n",
              "...          ...         ...         ...         ...         ...  \n",
              "3901           0           0           0           0           0  \n",
              "4588           0           0           0           0           0  \n",
              "3312           0           0           0           0           0  \n",
              "948            0           0           0           0           0  \n",
              "2369           0           0           0           0           0  \n",
              "\n",
              "[984 rows x 17 columns]"
            ],
            "text/html": [
              "\n",
              "  <div id=\"df-a384cf13-ebb0-41a1-af6c-775385dcee07\">\n",
              "    <div class=\"colab-df-container\">\n",
              "      <div>\n",
              "<style scoped>\n",
              "    .dataframe tbody tr th:only-of-type {\n",
              "        vertical-align: middle;\n",
              "    }\n",
              "\n",
              "    .dataframe tbody tr th {\n",
              "        vertical-align: top;\n",
              "    }\n",
              "\n",
              "    .dataframe thead th {\n",
              "        text-align: right;\n",
              "    }\n",
              "</style>\n",
              "<table border=\"1\" class=\"dataframe\">\n",
              "  <thead>\n",
              "    <tr style=\"text-align: right;\">\n",
              "      <th></th>\n",
              "      <th>Symptom_1</th>\n",
              "      <th>Symptom_2</th>\n",
              "      <th>Symptom_3</th>\n",
              "      <th>Symptom_4</th>\n",
              "      <th>Symptom_5</th>\n",
              "      <th>Symptom_6</th>\n",
              "      <th>Symptom_7</th>\n",
              "      <th>Symptom_8</th>\n",
              "      <th>Symptom_9</th>\n",
              "      <th>Symptom_10</th>\n",
              "      <th>Symptom_11</th>\n",
              "      <th>Symptom_12</th>\n",
              "      <th>Symptom_13</th>\n",
              "      <th>Symptom_14</th>\n",
              "      <th>Symptom_15</th>\n",
              "      <th>Symptom_16</th>\n",
              "      <th>Symptom_17</th>\n",
              "    </tr>\n",
              "  </thead>\n",
              "  <tbody>\n",
              "    <tr>\n",
              "      <th>4381</th>\n",
              "      <td>2</td>\n",
              "      <td>4</td>\n",
              "      <td>5</td>\n",
              "      <td>5</td>\n",
              "      <td>2</td>\n",
              "      <td>0</td>\n",
              "      <td>0</td>\n",
              "      <td>0</td>\n",
              "      <td>0</td>\n",
              "      <td>0</td>\n",
              "      <td>0</td>\n",
              "      <td>0</td>\n",
              "      <td>0</td>\n",
              "      <td>0</td>\n",
              "      <td>0</td>\n",
              "      <td>0</td>\n",
              "      <td>0</td>\n",
              "    </tr>\n",
              "    <tr>\n",
              "      <th>3744</th>\n",
              "      <td>5</td>\n",
              "      <td>3</td>\n",
              "      <td>4</td>\n",
              "      <td>2</td>\n",
              "      <td>0</td>\n",
              "      <td>0</td>\n",
              "      <td>0</td>\n",
              "      <td>0</td>\n",
              "      <td>0</td>\n",
              "      <td>0</td>\n",
              "      <td>0</td>\n",
              "      <td>0</td>\n",
              "      <td>0</td>\n",
              "      <td>0</td>\n",
              "      <td>0</td>\n",
              "      <td>0</td>\n",
              "      <td>0</td>\n",
              "    </tr>\n",
              "    <tr>\n",
              "      <th>1340</th>\n",
              "      <td>3</td>\n",
              "      <td>5</td>\n",
              "      <td>3</td>\n",
              "      <td>5</td>\n",
              "      <td>4</td>\n",
              "      <td>4</td>\n",
              "      <td>3</td>\n",
              "      <td>2</td>\n",
              "      <td>3</td>\n",
              "      <td>0</td>\n",
              "      <td>0</td>\n",
              "      <td>0</td>\n",
              "      <td>0</td>\n",
              "      <td>0</td>\n",
              "      <td>0</td>\n",
              "      <td>0</td>\n",
              "      <td>0</td>\n",
              "    </tr>\n",
              "    <tr>\n",
              "      <th>3570</th>\n",
              "      <td>1</td>\n",
              "      <td>5</td>\n",
              "      <td>3</td>\n",
              "      <td>5</td>\n",
              "      <td>4</td>\n",
              "      <td>4</td>\n",
              "      <td>4</td>\n",
              "      <td>0</td>\n",
              "      <td>0</td>\n",
              "      <td>0</td>\n",
              "      <td>0</td>\n",
              "      <td>0</td>\n",
              "      <td>0</td>\n",
              "      <td>0</td>\n",
              "      <td>0</td>\n",
              "      <td>0</td>\n",
              "      <td>0</td>\n",
              "    </tr>\n",
              "    <tr>\n",
              "      <th>2373</th>\n",
              "      <td>4</td>\n",
              "      <td>3</td>\n",
              "      <td>5</td>\n",
              "      <td>3</td>\n",
              "      <td>6</td>\n",
              "      <td>5</td>\n",
              "      <td>4</td>\n",
              "      <td>2</td>\n",
              "      <td>2</td>\n",
              "      <td>6</td>\n",
              "      <td>0</td>\n",
              "      <td>0</td>\n",
              "      <td>0</td>\n",
              "      <td>0</td>\n",
              "      <td>0</td>\n",
              "      <td>0</td>\n",
              "      <td>0</td>\n",
              "    </tr>\n",
              "    <tr>\n",
              "      <th>...</th>\n",
              "      <td>...</td>\n",
              "      <td>...</td>\n",
              "      <td>...</td>\n",
              "      <td>...</td>\n",
              "      <td>...</td>\n",
              "      <td>...</td>\n",
              "      <td>...</td>\n",
              "      <td>...</td>\n",
              "      <td>...</td>\n",
              "      <td>...</td>\n",
              "      <td>...</td>\n",
              "      <td>...</td>\n",
              "      <td>...</td>\n",
              "      <td>...</td>\n",
              "      <td>...</td>\n",
              "      <td>...</td>\n",
              "      <td>...</td>\n",
              "    </tr>\n",
              "    <tr>\n",
              "      <th>3901</th>\n",
              "      <td>3</td>\n",
              "      <td>6</td>\n",
              "      <td>7</td>\n",
              "      <td>5</td>\n",
              "      <td>0</td>\n",
              "      <td>0</td>\n",
              "      <td>0</td>\n",
              "      <td>0</td>\n",
              "      <td>0</td>\n",
              "      <td>0</td>\n",
              "      <td>0</td>\n",
              "      <td>0</td>\n",
              "      <td>0</td>\n",
              "      <td>0</td>\n",
              "      <td>0</td>\n",
              "      <td>0</td>\n",
              "      <td>0</td>\n",
              "    </tr>\n",
              "    <tr>\n",
              "      <th>4588</th>\n",
              "      <td>3</td>\n",
              "      <td>2</td>\n",
              "      <td>2</td>\n",
              "      <td>2</td>\n",
              "      <td>0</td>\n",
              "      <td>0</td>\n",
              "      <td>0</td>\n",
              "      <td>0</td>\n",
              "      <td>0</td>\n",
              "      <td>0</td>\n",
              "      <td>0</td>\n",
              "      <td>0</td>\n",
              "      <td>0</td>\n",
              "      <td>0</td>\n",
              "      <td>0</td>\n",
              "      <td>0</td>\n",
              "      <td>0</td>\n",
              "    </tr>\n",
              "    <tr>\n",
              "      <th>3312</th>\n",
              "      <td>4</td>\n",
              "      <td>3</td>\n",
              "      <td>3</td>\n",
              "      <td>5</td>\n",
              "      <td>3</td>\n",
              "      <td>6</td>\n",
              "      <td>5</td>\n",
              "      <td>4</td>\n",
              "      <td>2</td>\n",
              "      <td>2</td>\n",
              "      <td>6</td>\n",
              "      <td>0</td>\n",
              "      <td>0</td>\n",
              "      <td>0</td>\n",
              "      <td>0</td>\n",
              "      <td>0</td>\n",
              "      <td>0</td>\n",
              "    </tr>\n",
              "    <tr>\n",
              "      <th>948</th>\n",
              "      <td>7</td>\n",
              "      <td>5</td>\n",
              "      <td>4</td>\n",
              "      <td>4</td>\n",
              "      <td>0</td>\n",
              "      <td>0</td>\n",
              "      <td>0</td>\n",
              "      <td>0</td>\n",
              "      <td>0</td>\n",
              "      <td>0</td>\n",
              "      <td>0</td>\n",
              "      <td>0</td>\n",
              "      <td>0</td>\n",
              "      <td>0</td>\n",
              "      <td>0</td>\n",
              "      <td>0</td>\n",
              "      <td>0</td>\n",
              "    </tr>\n",
              "    <tr>\n",
              "      <th>2369</th>\n",
              "      <td>4</td>\n",
              "      <td>3</td>\n",
              "      <td>5</td>\n",
              "      <td>3</td>\n",
              "      <td>2</td>\n",
              "      <td>4</td>\n",
              "      <td>6</td>\n",
              "      <td>5</td>\n",
              "      <td>5</td>\n",
              "      <td>3</td>\n",
              "      <td>2</td>\n",
              "      <td>6</td>\n",
              "      <td>0</td>\n",
              "      <td>0</td>\n",
              "      <td>0</td>\n",
              "      <td>0</td>\n",
              "      <td>0</td>\n",
              "    </tr>\n",
              "  </tbody>\n",
              "</table>\n",
              "<p>984 rows × 17 columns</p>\n",
              "</div>\n",
              "      <button class=\"colab-df-convert\" onclick=\"convertToInteractive('df-a384cf13-ebb0-41a1-af6c-775385dcee07')\"\n",
              "              title=\"Convert this dataframe to an interactive table.\"\n",
              "              style=\"display:none;\">\n",
              "        \n",
              "  <svg xmlns=\"http://www.w3.org/2000/svg\" height=\"24px\"viewBox=\"0 0 24 24\"\n",
              "       width=\"24px\">\n",
              "    <path d=\"M0 0h24v24H0V0z\" fill=\"none\"/>\n",
              "    <path d=\"M18.56 5.44l.94 2.06.94-2.06 2.06-.94-2.06-.94-.94-2.06-.94 2.06-2.06.94zm-11 1L8.5 8.5l.94-2.06 2.06-.94-2.06-.94L8.5 2.5l-.94 2.06-2.06.94zm10 10l.94 2.06.94-2.06 2.06-.94-2.06-.94-.94-2.06-.94 2.06-2.06.94z\"/><path d=\"M17.41 7.96l-1.37-1.37c-.4-.4-.92-.59-1.43-.59-.52 0-1.04.2-1.43.59L10.3 9.45l-7.72 7.72c-.78.78-.78 2.05 0 2.83L4 21.41c.39.39.9.59 1.41.59.51 0 1.02-.2 1.41-.59l7.78-7.78 2.81-2.81c.8-.78.8-2.07 0-2.86zM5.41 20L4 18.59l7.72-7.72 1.47 1.35L5.41 20z\"/>\n",
              "  </svg>\n",
              "      </button>\n",
              "      \n",
              "  <style>\n",
              "    .colab-df-container {\n",
              "      display:flex;\n",
              "      flex-wrap:wrap;\n",
              "      gap: 12px;\n",
              "    }\n",
              "\n",
              "    .colab-df-convert {\n",
              "      background-color: #E8F0FE;\n",
              "      border: none;\n",
              "      border-radius: 50%;\n",
              "      cursor: pointer;\n",
              "      display: none;\n",
              "      fill: #1967D2;\n",
              "      height: 32px;\n",
              "      padding: 0 0 0 0;\n",
              "      width: 32px;\n",
              "    }\n",
              "\n",
              "    .colab-df-convert:hover {\n",
              "      background-color: #E2EBFA;\n",
              "      box-shadow: 0px 1px 2px rgba(60, 64, 67, 0.3), 0px 1px 3px 1px rgba(60, 64, 67, 0.15);\n",
              "      fill: #174EA6;\n",
              "    }\n",
              "\n",
              "    [theme=dark] .colab-df-convert {\n",
              "      background-color: #3B4455;\n",
              "      fill: #D2E3FC;\n",
              "    }\n",
              "\n",
              "    [theme=dark] .colab-df-convert:hover {\n",
              "      background-color: #434B5C;\n",
              "      box-shadow: 0px 1px 3px 1px rgba(0, 0, 0, 0.15);\n",
              "      filter: drop-shadow(0px 1px 2px rgba(0, 0, 0, 0.3));\n",
              "      fill: #FFFFFF;\n",
              "    }\n",
              "  </style>\n",
              "\n",
              "      <script>\n",
              "        const buttonEl =\n",
              "          document.querySelector('#df-a384cf13-ebb0-41a1-af6c-775385dcee07 button.colab-df-convert');\n",
              "        buttonEl.style.display =\n",
              "          google.colab.kernel.accessAllowed ? 'block' : 'none';\n",
              "\n",
              "        async function convertToInteractive(key) {\n",
              "          const element = document.querySelector('#df-a384cf13-ebb0-41a1-af6c-775385dcee07');\n",
              "          const dataTable =\n",
              "            await google.colab.kernel.invokeFunction('convertToInteractive',\n",
              "                                                     [key], {});\n",
              "          if (!dataTable) return;\n",
              "\n",
              "          const docLinkHtml = 'Like what you see? Visit the ' +\n",
              "            '<a target=\"_blank\" href=https://colab.research.google.com/notebooks/data_table.ipynb>data table notebook</a>'\n",
              "            + ' to learn more about interactive tables.';\n",
              "          element.innerHTML = '';\n",
              "          dataTable['output_type'] = 'display_data';\n",
              "          await google.colab.output.renderOutput(dataTable, element);\n",
              "          const docLink = document.createElement('div');\n",
              "          docLink.innerHTML = docLinkHtml;\n",
              "          element.appendChild(docLink);\n",
              "        }\n",
              "      </script>\n",
              "    </div>\n",
              "  </div>\n",
              "  "
            ]
          },
          "metadata": {},
          "execution_count": 169
        }
      ]
    },
    {
      "cell_type": "code",
      "source": [
        "tf.random.set_seed(123)\n",
        "num_labels = 41\n",
        "\n",
        "# Define your model architecture\n",
        "model = tf.keras.models.Sequential([\n",
        "    tf.keras.layers.Dense(100, activation='relu', input_shape=(X.shape[1],)),\n",
        "    tf.keras.layers.Dense(64, activation='relu'),\n",
        "    tf.keras.layers.Dense(num_labels, activation='softmax')\n",
        "])\n",
        "\n",
        "# Compile the model\n",
        "model.compile(optimizer='adam',\n",
        "              loss='sparse_categorical_crossentropy',\n",
        "              metrics=['accuracy'])\n"
      ],
      "metadata": {
        "id": "vBQIX07pacL-"
      },
      "execution_count": 165,
      "outputs": []
    },
    {
      "cell_type": "code",
      "source": [
        "model.summary()"
      ],
      "metadata": {
        "colab": {
          "base_uri": "https://localhost:8080/"
        },
        "id": "aP9dcUM0aw1E",
        "outputId": "4ffb90bc-c920-490c-a38c-da1f012a445f"
      },
      "execution_count": 166,
      "outputs": [
        {
          "output_type": "stream",
          "name": "stdout",
          "text": [
            "Model: \"sequential_1\"\n",
            "_________________________________________________________________\n",
            " Layer (type)                Output Shape              Param #   \n",
            "=================================================================\n",
            " dense_3 (Dense)             (None, 100)               1800      \n",
            "                                                                 \n",
            " dense_4 (Dense)             (None, 64)                6464      \n",
            "                                                                 \n",
            " dense_5 (Dense)             (None, 41)                2665      \n",
            "                                                                 \n",
            "=================================================================\n",
            "Total params: 10,929\n",
            "Trainable params: 10,929\n",
            "Non-trainable params: 0\n",
            "_________________________________________________________________\n"
          ]
        }
      ]
    },
    {
      "cell_type": "code",
      "source": [
        "# Train the model\n",
        "\n",
        "early_stopping = tf.keras.callbacks.EarlyStopping(\n",
        "    monitor='val_loss',\n",
        "    patience=3,\n",
        "    verbose=1,\n",
        ")\n",
        "\n",
        "history = model.fit(X_train, y_train, epochs=200, batch_size=32, validation_data=(X_test, y_test), callbacks=[early_stopping])\n",
        "\n",
        "# Evaluate the model\n",
        "loss, accuracy = model.evaluate(X_test, y_test, batch_size=32)\n",
        "print(f\"Validation loss: {loss}\")\n",
        "print(f\"Validation accuracy: {accuracy}\")"
      ],
      "metadata": {
        "colab": {
          "base_uri": "https://localhost:8080/"
        },
        "id": "8wPZwjzIaxLN",
        "outputId": "906ab71e-d8bb-4020-cf1f-545bf66da44f"
      },
      "execution_count": 167,
      "outputs": [
        {
          "output_type": "stream",
          "name": "stdout",
          "text": [
            "Epoch 1/200\n",
            "123/123 [==============================] - 1s 4ms/step - loss: 2.5499 - accuracy: 0.3326 - val_loss: 1.5967 - val_accuracy: 0.6230\n",
            "Epoch 2/200\n",
            "123/123 [==============================] - 0s 3ms/step - loss: 1.2074 - accuracy: 0.7177 - val_loss: 0.9855 - val_accuracy: 0.7551\n",
            "Epoch 3/200\n",
            "123/123 [==============================] - 0s 2ms/step - loss: 0.7855 - accuracy: 0.8115 - val_loss: 0.7019 - val_accuracy: 0.8333\n",
            "Epoch 4/200\n",
            "123/123 [==============================] - 0s 2ms/step - loss: 0.5794 - accuracy: 0.8626 - val_loss: 0.5476 - val_accuracy: 0.8841\n",
            "Epoch 5/200\n",
            "123/123 [==============================] - 0s 2ms/step - loss: 0.4660 - accuracy: 0.8852 - val_loss: 0.4607 - val_accuracy: 0.9014\n",
            "Epoch 6/200\n",
            "123/123 [==============================] - 0s 2ms/step - loss: 0.3846 - accuracy: 0.9032 - val_loss: 0.3711 - val_accuracy: 0.9035\n",
            "Epoch 7/200\n",
            "123/123 [==============================] - 0s 2ms/step - loss: 0.3277 - accuracy: 0.9169 - val_loss: 0.3355 - val_accuracy: 0.9167\n",
            "Epoch 8/200\n",
            "123/123 [==============================] - 0s 2ms/step - loss: 0.2796 - accuracy: 0.9258 - val_loss: 0.2909 - val_accuracy: 0.9075\n",
            "Epoch 9/200\n",
            "123/123 [==============================] - 0s 2ms/step - loss: 0.2380 - accuracy: 0.9408 - val_loss: 0.2424 - val_accuracy: 0.9329\n",
            "Epoch 10/200\n",
            "123/123 [==============================] - 0s 3ms/step - loss: 0.2105 - accuracy: 0.9441 - val_loss: 0.2268 - val_accuracy: 0.9431\n",
            "Epoch 11/200\n",
            "123/123 [==============================] - 0s 3ms/step - loss: 0.1873 - accuracy: 0.9530 - val_loss: 0.1894 - val_accuracy: 0.9502\n",
            "Epoch 12/200\n",
            "123/123 [==============================] - 0s 3ms/step - loss: 0.1719 - accuracy: 0.9543 - val_loss: 0.1744 - val_accuracy: 0.9533\n",
            "Epoch 13/200\n",
            "123/123 [==============================] - 0s 3ms/step - loss: 0.1537 - accuracy: 0.9621 - val_loss: 0.1660 - val_accuracy: 0.9502\n",
            "Epoch 14/200\n",
            "123/123 [==============================] - 0s 3ms/step - loss: 0.1405 - accuracy: 0.9629 - val_loss: 0.1443 - val_accuracy: 0.9726\n",
            "Epoch 15/200\n",
            "123/123 [==============================] - 0s 3ms/step - loss: 0.1320 - accuracy: 0.9660 - val_loss: 0.1315 - val_accuracy: 0.9634\n",
            "Epoch 16/200\n",
            "123/123 [==============================] - 0s 3ms/step - loss: 0.1195 - accuracy: 0.9708 - val_loss: 0.1388 - val_accuracy: 0.9502\n",
            "Epoch 17/200\n",
            "123/123 [==============================] - 0s 3ms/step - loss: 0.1106 - accuracy: 0.9728 - val_loss: 0.1165 - val_accuracy: 0.9654\n",
            "Epoch 18/200\n",
            "123/123 [==============================] - 0s 3ms/step - loss: 0.1017 - accuracy: 0.9726 - val_loss: 0.1092 - val_accuracy: 0.9624\n",
            "Epoch 19/200\n",
            "123/123 [==============================] - 0s 3ms/step - loss: 0.0991 - accuracy: 0.9743 - val_loss: 0.1095 - val_accuracy: 0.9675\n",
            "Epoch 20/200\n",
            "123/123 [==============================] - 0s 2ms/step - loss: 0.0907 - accuracy: 0.9738 - val_loss: 0.0978 - val_accuracy: 0.9644\n",
            "Epoch 21/200\n",
            "123/123 [==============================] - 0s 2ms/step - loss: 0.0822 - accuracy: 0.9761 - val_loss: 0.0792 - val_accuracy: 0.9827\n",
            "Epoch 22/200\n",
            "123/123 [==============================] - 0s 2ms/step - loss: 0.0742 - accuracy: 0.9794 - val_loss: 0.0846 - val_accuracy: 0.9726\n",
            "Epoch 23/200\n",
            "123/123 [==============================] - 0s 2ms/step - loss: 0.0705 - accuracy: 0.9794 - val_loss: 0.0741 - val_accuracy: 0.9756\n",
            "Epoch 24/200\n",
            "123/123 [==============================] - 0s 2ms/step - loss: 0.0697 - accuracy: 0.9797 - val_loss: 0.0912 - val_accuracy: 0.9726\n",
            "Epoch 25/200\n",
            "123/123 [==============================] - 0s 2ms/step - loss: 0.0632 - accuracy: 0.9807 - val_loss: 0.0631 - val_accuracy: 0.9858\n",
            "Epoch 26/200\n",
            "123/123 [==============================] - 0s 2ms/step - loss: 0.0577 - accuracy: 0.9840 - val_loss: 0.0575 - val_accuracy: 0.9817\n",
            "Epoch 27/200\n",
            "123/123 [==============================] - 0s 2ms/step - loss: 0.0556 - accuracy: 0.9835 - val_loss: 0.0600 - val_accuracy: 0.9817\n",
            "Epoch 28/200\n",
            "123/123 [==============================] - 0s 2ms/step - loss: 0.0530 - accuracy: 0.9835 - val_loss: 0.0650 - val_accuracy: 0.9797\n",
            "Epoch 29/200\n",
            "123/123 [==============================] - 0s 2ms/step - loss: 0.0489 - accuracy: 0.9865 - val_loss: 0.0631 - val_accuracy: 0.9797\n",
            "Epoch 29: early stopping\n",
            "31/31 [==============================] - 0s 2ms/step - loss: 0.0631 - accuracy: 0.9797\n",
            "Validation loss: 0.06308241933584213\n",
            "Validation accuracy: 0.9796748161315918\n"
          ]
        }
      ]
    },
    {
      "cell_type": "code",
      "source": [
        "history_df = pd.DataFrame(history.history)\n",
        "history_df.loc[:, ['loss', 'val_loss']].plot(title=\"Cross-entropy\")\n",
        "history_df.loc[:, ['accuracy', 'val_accuracy']].plot(title=\"Accuracy\")"
      ],
      "metadata": {
        "colab": {
          "base_uri": "https://localhost:8080/",
          "height": 904
        },
        "id": "-viHN0YfbP93",
        "outputId": "5d7b2af8-e224-47f5-df4b-23a231bcaba5"
      },
      "execution_count": 168,
      "outputs": [
        {
          "output_type": "execute_result",
          "data": {
            "text/plain": [
              "<Axes: title={'center': 'Accuracy'}>"
            ]
          },
          "metadata": {},
          "execution_count": 168
        },
        {
          "output_type": "display_data",
          "data": {
            "text/plain": [
              "<Figure size 640x480 with 1 Axes>"
            ],
            "image/png": "[encoded data removed]"
          },
          "metadata": {}
        },
        {
          "output_type": "display_data",
          "data": {
            "text/plain": [
              "<Figure size 640x480 with 1 Axes>"
            ],
            "image/png": "[encoded data removed]"
          },
          "metadata": {}
        }
      ]
    },
    {
      "cell_type": "code",
      "source": [
        "z = model.predict(X_test)\n",
        "z"
      ],
      "metadata": {
        "colab": {
          "base_uri": "https://localhost:8080/"
        },
        "id": "Xyr-l2Sm0zmJ",
        "outputId": "58531103-5b8c-4006-8a48-4e0eafe80cf3"
      },
      "execution_count": 204,
      "outputs": [
        {
          "output_type": "stream",
          "name": "stdout",
          "text": [
            "31/31 [==============================] - 0s 2ms/step\n"
          ]
        },
        {
          "output_type": "execute_result",
          "data": {
            "text/plain": [
              "array([[9.6683325e-06, 1.3478432e-17, 3.2655692e-12, ..., 9.9962145e-01,\n",
              "        1.6591368e-07, 8.8917172e-12],\n",
              "       [2.8320876e-10, 2.3703303e-11, 1.9334164e-03, ..., 1.1872539e-03,\n",
              "        1.0018186e-03, 8.1339246e-09],\n",
              "       [1.3379917e-13, 9.4563166e-09, 5.6873268e-14, ..., 2.0139051e-15,\n",
              "        1.5593629e-15, 8.2700626e-07],\n",
              "       ...,\n",
              "       [8.3371732e-14, 1.8462657e-11, 4.6725591e-21, ..., 1.1859968e-19,\n",
              "        2.5800805e-19, 1.1520304e-10],\n",
              "       [1.7038666e-14, 2.1035188e-16, 4.9444600e-03, ..., 5.3717173e-09,\n",
              "        1.0733533e-05, 3.2686412e-10],\n",
              "       [1.4106052e-11, 4.0462536e-10, 7.1466854e-21, ..., 1.8909708e-19,\n",
              "        2.4106063e-16, 1.9879176e-08]], dtype=float32)"
            ]
          },
          "metadata": {},
          "execution_count": 204
        }
      ]
    },
    {
      "cell_type": "code",
      "source": [
        "X_test.iloc[0]"
      ],
      "metadata": {
        "colab": {
          "base_uri": "https://localhost:8080/"
        },
        "id": "BFQc4Y-I1thG",
        "outputId": "180bc3bb-7106-4f85-f6e3-c21a378fb709"
      },
      "execution_count": 202,
      "outputs": [
        {
          "output_type": "execute_result",
          "data": {
            "text/plain": [
              "Symptom_1     2\n",
              "Symptom_2     4\n",
              "Symptom_3     5\n",
              "Symptom_4     5\n",
              "Symptom_5     2\n",
              "Symptom_6     0\n",
              "Symptom_7     0\n",
              "Symptom_8     0\n",
              "Symptom_9     0\n",
              "Symptom_10    0\n",
              "Symptom_11    0\n",
              "Symptom_12    0\n",
              "Symptom_13    0\n",
              "Symptom_14    0\n",
              "Symptom_15    0\n",
              "Symptom_16    0\n",
              "Symptom_17    0\n",
              "Name: 4381, dtype: int64"
            ]
          },
          "metadata": {},
          "execution_count": 202
        }
      ]
    },
    {
      "cell_type": "code",
      "source": [
        "predicted_classes = np.argmax(z, axis=1)"
      ],
      "metadata": {
        "id": "bho-TqYd1ED4"
      },
      "execution_count": 172,
      "outputs": []
    },
    {
      "cell_type": "code",
      "source": [
        "predicted_classes"
      ],
      "metadata": {
        "colab": {
          "base_uri": "https://localhost:8080/"
        },
        "id": "w7iM6xix1mJq",
        "outputId": "d9174357-b668-438f-984e-9fc59f3d03ed"
      },
      "execution_count": 205,
      "outputs": [
        {
          "output_type": "execute_result",
          "data": {
            "text/plain": [
              "array([38, 24, 29,  6, 20, 39,  6, 19, 20,  6, 18,  4,  6, 24,  9, 12, 34,\n",
              "       26, 14, 10,  5,  9,  7, 34,  8, 37, 39, 25, 26, 10, 30, 35, 34, 23,\n",
              "       40, 21, 25, 20, 19, 15, 30,  7, 39, 10, 13, 38,  8, 23,  6, 24, 36,\n",
              "        6, 16, 13, 17, 26,  6, 26, 16, 32,  5, 22,  3, 18, 26, 30, 28,  1,\n",
              "       17, 20, 39, 29, 20, 35,  6, 26, 30, 27, 31, 25, 29, 18, 13, 11, 24,\n",
              "        0,  9, 34, 17, 20, 27, 25, 30, 26, 17, 24, 19, 34, 28, 15, 16, 30,\n",
              "       12, 14,  7, 30, 28, 35, 31, 17,  0, 29,  0, 38, 39, 33, 32, 34, 29,\n",
              "       21, 10, 18, 10, 23, 24, 32, 31,  8, 35, 33, 10, 22, 37, 36, 17, 37,\n",
              "       40,  8, 26, 27, 21,  4, 40,  6, 33, 33,  7,  3,  1, 39,  4, 22, 31,\n",
              "       29, 16,  7,  6, 32, 31, 39, 40,  9, 33, 40, 25, 14, 18, 35, 20,  7,\n",
              "        6,  1, 10, 30,  7,  5, 12, 12, 36,  5, 21, 25, 19,  9,  1,  2, 25,\n",
              "       24,  7, 35, 11, 35, 20, 29, 39, 37, 19, 22,  6, 36, 23, 11, 30, 28,\n",
              "        9, 27,  5, 35, 26, 34, 16, 29,  0, 15, 11,  4, 12, 22,  2, 24,  7,\n",
              "       23, 10, 34, 30, 23, 33, 27, 19, 14, 18, 29,  8, 37, 14, 26,  4,  1,\n",
              "       18, 40, 15, 12, 12, 14,  5, 35, 23, 25,  3,  7, 39, 22, 21, 17, 12,\n",
              "        4, 32, 23, 18, 18, 13, 34, 21, 29,  9,  1, 24, 30, 21, 37, 29, 17,\n",
              "       22, 10, 26,  5, 11, 18, 40,  2, 33,  3, 28, 23, 33, 32, 39, 11, 11,\n",
              "       28, 18, 38, 25, 18, 37, 23,  9,  8,  1, 26, 40, 26, 12, 17, 38, 14,\n",
              "       24, 35, 37, 21, 24, 36,  9, 18, 34, 16, 31, 10, 27,  0, 37,  6,  1,\n",
              "        2, 10, 31, 28, 11, 16,  7, 23, 18,  5, 28, 31,  4, 25, 28,  1, 17,\n",
              "        8, 20, 19, 19, 13, 36, 21,  2, 15, 24, 11,  1,  8, 35,  7,  8, 22,\n",
              "       36, 19,  7, 17, 28, 24, 38, 33, 36, 16, 35,  4, 23, 37, 11, 18,  8,\n",
              "        4, 17, 17, 31, 20, 39, 31,  3,  1, 14,  6, 28,  6, 22, 39, 23, 29,\n",
              "       24,  1,  6, 31, 34, 10, 29, 23, 20, 19, 26,  8,  0, 38, 23, 14, 38,\n",
              "        2, 12, 19, 24, 40, 27, 32, 20, 17, 16, 14, 21, 37,  0, 10, 33, 24,\n",
              "        7, 21, 36,  9, 39, 19,  3, 29, 34, 22, 38, 40, 35,  9, 23, 20, 10,\n",
              "       19, 40, 28, 38, 40, 17, 35, 32, 15,  4, 27,  7, 36,  3,  8, 39, 38,\n",
              "       28,  7, 32,  7, 26, 31,  1, 25, 24, 28, 23, 30, 39, 37,  7, 14, 37,\n",
              "       16, 24,  8, 30, 25, 39, 40,  9, 26,  5, 32, 31, 27, 28, 40, 16, 32,\n",
              "        7, 15, 29,  1, 33, 36,  8, 22, 31,  4, 20,  9, 26, 22,  3, 29, 24,\n",
              "        0,  3, 31, 23, 34,  2, 24, 37,  0, 21, 33, 30,  5, 18,  6, 24, 36,\n",
              "       21,  6, 18, 37, 11, 18,  1, 31, 13, 38,  5, 16,  3, 19, 35, 18, 36,\n",
              "       11, 22, 33, 21, 32,  5, 16, 16,  0,  6,  4, 11, 11, 36, 28, 11,  8,\n",
              "        6, 24, 26, 22, 28, 21, 35, 36, 27, 27, 32, 38, 34, 10, 37, 19, 27,\n",
              "       38, 30, 12,  8, 24, 21, 22, 40, 27, 22, 12, 40, 16, 36, 22, 30, 17,\n",
              "       19, 25, 22, 19, 14, 14, 26,  0,  6, 32, 21, 14, 11, 29, 18, 10, 28,\n",
              "       28,  4, 32, 36,  3,  2,  4, 34,  6, 39, 21, 23,  5, 11, 15, 15,  7,\n",
              "       33, 38, 30,  3, 32, 11, 14, 13, 31,  1, 17,  1, 25, 33, 17, 29, 26,\n",
              "        2, 38, 25, 28, 20, 20, 25, 25, 40, 28, 38, 31, 21, 34, 31, 21,  2,\n",
              "       18, 38,  7, 35, 11, 25,  2, 32,  7, 15, 38, 13, 20, 16, 30, 21, 23,\n",
              "       27, 28, 18, 14, 31, 20,  0,  4, 12,  7, 18, 18, 28, 22, 33, 33, 26,\n",
              "       25, 28, 39, 35, 11, 20,  7, 35, 36, 15,  4,  6,  4, 22, 10, 10,  4,\n",
              "       16, 33, 35, 31, 33,  7, 21, 28, 11, 33, 38, 15,  3,  6,  4, 31, 17,\n",
              "       12, 37, 13,  9, 19, 23, 14, 38,  9, 28,  6,  6, 39, 35, 12, 24, 18,\n",
              "        3, 38,  8, 37, 29, 30,  9, 13,  5, 26, 38, 30, 32, 24, 19, 16, 25,\n",
              "       33, 38, 24, 28, 14, 33, 16, 31,  6, 39,  5, 24, 10,  9, 27,  2, 18,\n",
              "        5, 32, 39, 26, 28,  3, 13, 32,  8, 19, 18, 25, 26,  9, 38, 40, 22,\n",
              "       18, 35,  8, 17, 20, 16, 33,  8,  2, 21, 36, 24, 31,  9,  0, 14, 37,\n",
              "        8, 19, 40, 22,  5, 13, 31,  8,  7, 14, 22,  5, 23, 21,  5, 36, 40,\n",
              "       32,  7, 29, 25,  3, 27, 26, 21,  5, 11, 39, 32, 36,  1, 22, 33,  8,\n",
              "        9, 17,  3,  1, 10, 13,  9, 14,  9, 14, 27, 25, 35, 15, 15,  7, 34,\n",
              "       25, 19, 27,  5,  6, 39, 12, 21, 16, 21,  3, 29,  2, 10, 39, 10, 35,\n",
              "        8, 32, 21, 21, 22,  3, 10,  5, 36, 28, 24, 37, 22, 17, 15, 10,  2,\n",
              "       36,  2, 25, 13, 27, 35,  8, 40,  8, 34, 27, 17,  1, 12, 34, 13, 33,\n",
              "       10,  1, 17,  7,  3, 32, 39,  1, 19,  7, 13, 38, 21, 23, 15, 12,  9,\n",
              "        6,  2, 22, 19,  7, 14, 31, 32,  4, 10, 11,  9, 32,  6, 26, 18, 28,\n",
              "       28,  1, 32, 13,  2, 31, 28, 28,  8, 11, 32, 19, 31, 36, 39,  3, 36,\n",
              "       34,  4,  5, 33,  6, 16, 22, 27, 38, 37, 23, 11, 20, 19,  3])"
            ]
          },
          "metadata": {},
          "execution_count": 205
        }
      ]
    },
    {
      "cell_type": "markdown",
      "source": [
        "##StratifiedKFold"
      ],
      "metadata": {
        "id": "hALQCZM43SzL"
      }
    },
    {
      "cell_type": "code",
      "source": [
        "# Define your model architecture\n",
        "tf.random.set_seed(123)\n",
        "num_labels = 41\n",
        "\n",
        "model = tf.keras.models.Sequential([\n",
        "    tf.keras.layers.Dense(100, activation='relu', input_shape=(X.shape[1],)),\n",
        "    tf.keras.layers.Dense(64, activation='relu'),\n",
        "    tf.keras.layers.Dense(num_labels, activation='softmax')\n",
        "])\n",
        "\n",
        "# Compile the model\n",
        "model.compile(optimizer= tf.keras.optimizers.Adam(),\n",
        "              loss='sparse_categorical_crossentropy',\n",
        "              metrics=['accuracy'])"
      ],
      "metadata": {
        "id": "vfpxWOaJp91x"
      },
      "execution_count": null,
      "outputs": []
    },
    {
      "cell_type": "code",
      "source": [
        "model.summary()"
      ],
      "metadata": {
        "colab": {
          "base_uri": "https://localhost:8080/"
        },
        "id": "75K_5tgbqhvn",
        "outputId": "db72f0f6-69bc-465b-cf42-c65e1751bb29"
      },
      "execution_count": null,
      "outputs": [
        {
          "output_type": "stream",
          "name": "stdout",
          "text": [
            "Model: \"sequential_6\"\n",
            "_________________________________________________________________\n",
            " Layer (type)                Output Shape              Param #   \n",
            "=================================================================\n",
            " dense_18 (Dense)            (None, 100)               1800      \n",
            "                                                                 \n",
            " dense_19 (Dense)            (None, 64)                6464      \n",
            "                                                                 \n",
            " dense_20 (Dense)            (None, 41)                2665      \n",
            "                                                                 \n",
            "=================================================================\n",
            "Total params: 10,929\n",
            "Trainable params: 10,929\n",
            "Non-trainable params: 0\n",
            "_________________________________________________________________\n"
          ]
        }
      ]
    },
    {
      "cell_type": "code",
      "source": [
        "# Tracking progress\n",
        "folds = []\n",
        "model_list = []\n",
        "exec_time = []\n",
        "train_accuracy_scores = []\n",
        "test_accuracy_scores = []\n",
        "early_stopping = tf.keras.callbacks.EarlyStopping(\n",
        "    monitor='val_loss',\n",
        "    patience=3,\n",
        "    verbose=1,\n",
        ")\n",
        "\n",
        "model_str = 'Neural Network'\n",
        "\n",
        "print(str(model_str).upper())\n",
        "print('--------------------')\n",
        "\n",
        "# Initiate SkF and f1_array\n",
        "skf = StratifiedKFold(n_splits=10)\n",
        "\n",
        "# Cross validation\n",
        "for i, (train_index, test_index) in enumerate(skf.split(X, y)):\n",
        "  # Calculate the starting time\n",
        "  start_time = time.time()\n",
        "\n",
        "  # Append the name model and params\n",
        "  model_list.append(model_str)\n",
        "\n",
        "  # Print index\n",
        "  print(f\"Fold {i+1}:\")\n",
        "  folds.append(i+1)\n",
        "\n",
        "  # Filter the index\n",
        "  X_train_subset = X.iloc[train_index, :]\n",
        "  X_test_subset = X.iloc[test_index, :]\n",
        "  y_train_subset = y[train_index]\n",
        "  y_test_subset = y[test_index]\n",
        "\n",
        "  # Fit the model\n",
        "  model.fit(X_train_subset, \n",
        "            y_train_subset, \n",
        "            epochs=200, \n",
        "            batch_size=32, \n",
        "            validation_data=(X_test_subset, y_test_subset),\n",
        "            verbose = 0,\n",
        "            callbacks=[early_stopping])\n",
        "\n",
        "  # Predict\n",
        "  y_pred_train = model.predict(X_train_subset)\n",
        "  y_pred_test = model.predict(X_test_subset)\n",
        "\n",
        "  # Calculate the f1 score\n",
        "  loss_train, accuracy_train = model.evaluate(X_train_subset, y_train_subset, batch_size=32)\n",
        "  loss_test, accuracy_test = model.evaluate(X_test_subset, y_test_subset, batch_size=32)\n",
        "  print(f\"Train loss: {loss_train}\")\n",
        "  print(f\"Train accuracy: {accuracy_train}\")\n",
        "  print(f\"Validation loss: {loss_test}\")\n",
        "  print(f\"Validation accuracy: {accuracy_test}\")\n",
        "  train_accuracy_scores.append(accuracy_train)\n",
        "  test_accuracy_scores.append(accuracy_test)\n",
        "    \n",
        "  # Calculate the end time\n",
        "  end_time = time.time() - start_time\n",
        "  exec_time.append(end_time)\n",
        "  print('')\n",
        "\n",
        "# Cetak rerata dan mediannya\n",
        "print('Rerata Accuracy Training CV:', np.mean(train_accuracy_scores))\n",
        "print('Rerata Accuracy Test CV:', np.mean(test_accuracy_scores))\n",
        "\n",
        "# Buat DataFrame\n",
        "dict_df = {'Model': model_list,\n",
        "            'Fold': folds,\n",
        "            'Training Time': exec_time,\n",
        "            'Train Accuracy': train_accuracy_scores,\n",
        "            'Test Accuracy': test_accuracy_scores}\n",
        "\n",
        "# Combine dataframe\n",
        "nn_df = pd.DataFrame(dict_df)"
      ],
      "metadata": {
        "colab": {
          "base_uri": "https://localhost:8080/"
        },
        "id": "Z_g_nRMnqlzw",
        "outputId": "05118ebb-5919-4b41-f41c-a568099c897f"
      },
      "execution_count": null,
      "outputs": [
        {
          "output_type": "stream",
          "name": "stdout",
          "text": [
            "NEURAL NETWORK\n",
            "--------------------\n",
            "Fold 1:\n",
            "Epoch 49: early stopping\n",
            "139/139 [==============================] - 0s 1ms/step\n",
            "16/16 [==============================] - 0s 2ms/step\n",
            "139/139 [==============================] - 0s 2ms/step - loss: 0.0237 - accuracy: 0.9923\n",
            "16/16 [==============================] - 0s 2ms/step - loss: 0.0457 - accuracy: 0.9837\n",
            "Train loss: 0.02371872216463089\n",
            "Train accuracy: 0.9923216104507446\n",
            "Validation loss: 0.045651305466890335\n",
            "Validation accuracy: 0.9837398529052734\n",
            "\n",
            "Fold 2:\n",
            "Epoch 4: early stopping\n",
            "139/139 [==============================] - 0s 1ms/step\n",
            "16/16 [==============================] - 0s 1ms/step\n",
            "139/139 [==============================] - 0s 1ms/step - loss: 0.0184 - accuracy: 0.9932\n",
            "16/16 [==============================] - 0s 2ms/step - loss: 0.0357 - accuracy: 0.9878\n",
            "Train loss: 0.018373388797044754\n",
            "Train accuracy: 0.9932249188423157\n",
            "Validation loss: 0.03573574498295784\n",
            "Validation accuracy: 0.9878048896789551\n",
            "\n",
            "Fold 3:\n",
            "Epoch 4: early stopping\n",
            "139/139 [==============================] - 0s 1ms/step\n",
            "16/16 [==============================] - 0s 1ms/step\n",
            "139/139 [==============================] - 0s 1ms/step - loss: 0.0243 - accuracy: 0.9876\n",
            "16/16 [==============================] - 0s 2ms/step - loss: 0.0737 - accuracy: 0.9654\n",
            "Train loss: 0.024269163608551025\n",
            "Train accuracy: 0.9875790476799011\n",
            "Validation loss: 0.07368311285972595\n",
            "Validation accuracy: 0.9654471278190613\n",
            "\n",
            "Fold 4:\n",
            "Epoch 16: early stopping\n",
            "139/139 [==============================] - 0s 1ms/step\n",
            "16/16 [==============================] - 0s 1ms/step\n",
            "139/139 [==============================] - 0s 1ms/step - loss: 0.0149 - accuracy: 0.9937\n",
            "16/16 [==============================] - 0s 2ms/step - loss: 0.0409 - accuracy: 0.9837\n",
            "Train loss: 0.01488728728145361\n",
            "Train accuracy: 0.9936766028404236\n",
            "Validation loss: 0.04085373133420944\n",
            "Validation accuracy: 0.9837398529052734\n",
            "\n",
            "Fold 5:\n",
            "Epoch 4: early stopping\n",
            "139/139 [==============================] - 0s 1ms/step\n",
            "16/16 [==============================] - 0s 1ms/step\n",
            "139/139 [==============================] - 0s 1ms/step - loss: 0.0258 - accuracy: 0.9921\n",
            "16/16 [==============================] - 0s 2ms/step - loss: 0.0471 - accuracy: 0.9858\n",
            "Train loss: 0.0257584098726511\n",
            "Train accuracy: 0.9920957684516907\n",
            "Validation loss: 0.04713945835828781\n",
            "Validation accuracy: 0.9857723712921143\n",
            "\n",
            "Fold 6:\n",
            "Epoch 5: early stopping\n",
            "139/139 [==============================] - 0s 2ms/step\n",
            "16/16 [==============================] - 0s 1ms/step\n",
            "139/139 [==============================] - 0s 1ms/step - loss: 0.0188 - accuracy: 0.9905\n",
            "16/16 [==============================] - 0s 2ms/step - loss: 1.4752e-04 - accuracy: 1.0000\n",
            "Train loss: 0.018782565370202065\n",
            "Train accuracy: 0.9905149340629578\n",
            "Validation loss: 0.00014751988055650145\n",
            "Validation accuracy: 1.0\n",
            "\n",
            "Fold 7:\n",
            "Epoch 4: early stopping\n",
            "139/139 [==============================] - 0s 1ms/step\n",
            "16/16 [==============================] - 0s 1ms/step\n",
            "139/139 [==============================] - 0s 1ms/step - loss: 0.0171 - accuracy: 0.9946\n",
            "16/16 [==============================] - 0s 2ms/step - loss: 1.6320e-04 - accuracy: 1.0000\n",
            "Train loss: 0.017064956948161125\n",
            "Train accuracy: 0.9945799708366394\n",
            "Validation loss: 0.00016319533460773528\n",
            "Validation accuracy: 1.0\n",
            "\n",
            "Fold 8:\n",
            "Epoch 4: early stopping\n",
            "139/139 [==============================] - 0s 1ms/step\n",
            "16/16 [==============================] - 0s 1ms/step\n",
            "139/139 [==============================] - 0s 1ms/step - loss: 0.0162 - accuracy: 0.9946\n",
            "16/16 [==============================] - 0s 2ms/step - loss: 1.5442e-04 - accuracy: 1.0000\n",
            "Train loss: 0.01616869866847992\n",
            "Train accuracy: 0.9945799708366394\n",
            "Validation loss: 0.00015442339645233005\n",
            "Validation accuracy: 1.0\n",
            "\n",
            "Fold 9:\n",
            "Epoch 4: early stopping\n",
            "139/139 [==============================] - 0s 1ms/step\n",
            "16/16 [==============================] - 0s 1ms/step\n",
            "139/139 [==============================] - 0s 2ms/step - loss: 0.0151 - accuracy: 0.9946\n",
            "16/16 [==============================] - 0s 2ms/step - loss: 1.2634e-04 - accuracy: 1.0000\n",
            "Train loss: 0.015146958641707897\n",
            "Train accuracy: 0.9945799708366394\n",
            "Validation loss: 0.00012634205631911755\n",
            "Validation accuracy: 1.0\n",
            "\n",
            "Fold 10:\n",
            "Epoch 4: early stopping\n",
            "139/139 [==============================] - 0s 1ms/step\n",
            "16/16 [==============================] - 0s 1ms/step\n",
            "139/139 [==============================] - 0s 1ms/step - loss: 0.0145 - accuracy: 0.9946\n",
            "16/16 [==============================] - 0s 2ms/step - loss: 1.0072e-04 - accuracy: 1.0000\n",
            "Train loss: 0.014464091509580612\n",
            "Train accuracy: 0.9945799708366394\n",
            "Validation loss: 0.00010072213626699522\n",
            "Validation accuracy: 1.0\n",
            "\n",
            "Rerata Accuracy Training CV: 0.9927732765674591\n",
            "Rerata Accuracy Test CV: 0.9906504094600678\n"
          ]
        }
      ]
    },
    {
      "cell_type": "markdown",
      "source": [
        "## Model Fit with All Data"
      ],
      "metadata": {
        "id": "kZVT6u-EhvVD"
      }
    },
    {
      "cell_type": "code",
      "source": [
        "tf.random.set_seed(123)\n",
        "num_labels = 41\n",
        "\n",
        "# Define your model architecture\n",
        "model = tf.keras.models.Sequential([\n",
        "    tf.keras.layers.Dense(100, activation='relu', input_shape=(X.shape[1],)),\n",
        "    tf.keras.layers.Dense(64, activation='relu'),\n",
        "    tf.keras.layers.Dense(num_labels, activation='softmax')\n",
        "])\n",
        "\n",
        "# Compile the model\n",
        "model.compile(optimizer='adam',\n",
        "              loss='sparse_categorical_crossentropy',\n",
        "              metrics=['accuracy'])"
      ],
      "metadata": {
        "id": "gj2aP1gYh0db"
      },
      "execution_count": 393,
      "outputs": []
    },
    {
      "cell_type": "code",
      "source": [
        "model.summary()"
      ],
      "metadata": {
        "colab": {
          "base_uri": "https://localhost:8080/"
        },
        "id": "_Rn-V2GOiNk2",
        "outputId": "5359239c-dcf5-4772-afb5-a8f205dab2b6"
      },
      "execution_count": 394,
      "outputs": [
        {
          "output_type": "stream",
          "name": "stdout",
          "text": [
            "Model: \"sequential_3\"\n",
            "_________________________________________________________________\n",
            " Layer (type)                Output Shape              Param #   \n",
            "=================================================================\n",
            " dense_9 (Dense)             (None, 100)               1800      \n",
            "                                                                 \n",
            " dense_10 (Dense)            (None, 64)                6464      \n",
            "                                                                 \n",
            " dense_11 (Dense)            (None, 41)                2665      \n",
            "                                                                 \n",
            "=================================================================\n",
            "Total params: 10,929\n",
            "Trainable params: 10,929\n",
            "Non-trainable params: 0\n",
            "_________________________________________________________________\n"
          ]
        }
      ]
    },
    {
      "cell_type": "code",
      "source": [
        "# Train the model\n",
        "\n",
        "early_stopping = tf.keras.callbacks.EarlyStopping(\n",
        "    monitor='loss',\n",
        "    patience=3,\n",
        "    verbose=1,\n",
        ")\n",
        "\n",
        "model.fit(X, y, epochs=200, batch_size=32, callbacks=[early_stopping])"
      ],
      "metadata": {
        "colab": {
          "base_uri": "https://localhost:8080/"
        },
        "id": "OyVC7fBniY4R",
        "outputId": "3dc76a71-361c-4007-8d03-b10170314126"
      },
      "execution_count": 395,
      "outputs": [
        {
          "output_type": "stream",
          "name": "stdout",
          "text": [
            "Epoch 1/200\n",
            "154/154 [==============================] - 1s 2ms/step - loss: 2.4455 - accuracy: 0.4037\n",
            "Epoch 2/200\n",
            "154/154 [==============================] - 0s 2ms/step - loss: 1.0311 - accuracy: 0.7652\n",
            "Epoch 3/200\n",
            "154/154 [==============================] - 0s 3ms/step - loss: 0.6665 - accuracy: 0.8476\n",
            "Epoch 4/200\n",
            "154/154 [==============================] - 0s 3ms/step - loss: 0.4753 - accuracy: 0.8898\n",
            "Epoch 5/200\n",
            "154/154 [==============================] - 0s 3ms/step - loss: 0.3633 - accuracy: 0.9134\n",
            "Epoch 6/200\n",
            "154/154 [==============================] - 0s 3ms/step - loss: 0.2860 - accuracy: 0.9224\n",
            "Epoch 7/200\n",
            "154/154 [==============================] - 0s 3ms/step - loss: 0.2298 - accuracy: 0.9376\n",
            "Epoch 8/200\n",
            "154/154 [==============================] - 0s 3ms/step - loss: 0.1907 - accuracy: 0.9482\n",
            "Epoch 9/200\n",
            "154/154 [==============================] - 0s 3ms/step - loss: 0.1622 - accuracy: 0.9565\n",
            "Epoch 10/200\n",
            "154/154 [==============================] - 0s 3ms/step - loss: 0.1399 - accuracy: 0.9626\n",
            "Epoch 11/200\n",
            "154/154 [==============================] - 0s 2ms/step - loss: 0.1249 - accuracy: 0.9659\n",
            "Epoch 12/200\n",
            "154/154 [==============================] - 0s 2ms/step - loss: 0.1096 - accuracy: 0.9724\n",
            "Epoch 13/200\n",
            "154/154 [==============================] - 0s 2ms/step - loss: 0.0957 - accuracy: 0.9752\n",
            "Epoch 14/200\n",
            "154/154 [==============================] - 0s 2ms/step - loss: 0.0912 - accuracy: 0.9772\n",
            "Epoch 15/200\n",
            "154/154 [==============================] - 0s 2ms/step - loss: 0.0820 - accuracy: 0.9787\n",
            "Epoch 16/200\n",
            "154/154 [==============================] - 0s 2ms/step - loss: 0.0752 - accuracy: 0.9801\n",
            "Epoch 17/200\n",
            "154/154 [==============================] - 0s 2ms/step - loss: 0.0668 - accuracy: 0.9839\n",
            "Epoch 18/200\n",
            "154/154 [==============================] - 0s 2ms/step - loss: 0.0607 - accuracy: 0.9843\n",
            "Epoch 19/200\n",
            "154/154 [==============================] - 0s 2ms/step - loss: 0.0572 - accuracy: 0.9837\n",
            "Epoch 20/200\n",
            "154/154 [==============================] - 0s 2ms/step - loss: 0.0553 - accuracy: 0.9837\n",
            "Epoch 21/200\n",
            "154/154 [==============================] - 0s 2ms/step - loss: 0.0537 - accuracy: 0.9850\n",
            "Epoch 22/200\n",
            "154/154 [==============================] - 0s 2ms/step - loss: 0.0475 - accuracy: 0.9858\n",
            "Epoch 23/200\n",
            "154/154 [==============================] - 0s 2ms/step - loss: 0.0443 - accuracy: 0.9882\n",
            "Epoch 24/200\n",
            "154/154 [==============================] - 0s 2ms/step - loss: 0.0432 - accuracy: 0.9868\n",
            "Epoch 25/200\n",
            "154/154 [==============================] - 0s 2ms/step - loss: 0.0402 - accuracy: 0.9884\n",
            "Epoch 26/200\n",
            "154/154 [==============================] - 0s 2ms/step - loss: 0.0363 - accuracy: 0.9904\n",
            "Epoch 27/200\n",
            "154/154 [==============================] - 0s 2ms/step - loss: 0.0336 - accuracy: 0.9923\n",
            "Epoch 28/200\n",
            "154/154 [==============================] - 0s 2ms/step - loss: 0.0323 - accuracy: 0.9900\n",
            "Epoch 29/200\n",
            "154/154 [==============================] - 0s 2ms/step - loss: 0.0324 - accuracy: 0.9907\n",
            "Epoch 30/200\n",
            "154/154 [==============================] - 0s 2ms/step - loss: 0.0301 - accuracy: 0.9917\n",
            "Epoch 31/200\n",
            "154/154 [==============================] - 0s 2ms/step - loss: 0.0289 - accuracy: 0.9913\n",
            "Epoch 32/200\n",
            "154/154 [==============================] - 0s 2ms/step - loss: 0.0283 - accuracy: 0.9919\n",
            "Epoch 33/200\n",
            "154/154 [==============================] - 0s 2ms/step - loss: 0.0279 - accuracy: 0.9909\n",
            "Epoch 34/200\n",
            "154/154 [==============================] - 0s 2ms/step - loss: 0.0263 - accuracy: 0.9925\n",
            "Epoch 35/200\n",
            "154/154 [==============================] - 0s 2ms/step - loss: 0.0252 - accuracy: 0.9925\n",
            "Epoch 36/200\n",
            "154/154 [==============================] - 0s 2ms/step - loss: 0.0267 - accuracy: 0.9911\n",
            "Epoch 37/200\n",
            "154/154 [==============================] - 0s 2ms/step - loss: 0.0251 - accuracy: 0.9915\n",
            "Epoch 38/200\n",
            "154/154 [==============================] - 0s 2ms/step - loss: 0.0232 - accuracy: 0.9925\n",
            "Epoch 39/200\n",
            "154/154 [==============================] - 0s 2ms/step - loss: 0.0240 - accuracy: 0.9925\n",
            "Epoch 40/200\n",
            "154/154 [==============================] - 0s 2ms/step - loss: 0.0251 - accuracy: 0.9925\n",
            "Epoch 41/200\n",
            "154/154 [==============================] - 0s 2ms/step - loss: 0.0236 - accuracy: 0.9917\n",
            "Epoch 41: early stopping\n"
          ]
        },
        {
          "output_type": "execute_result",
          "data": {
            "text/plain": [
              "<keras.callbacks.History at 0x7fa9717ef280>"
            ]
          },
          "metadata": {},
          "execution_count": 395
        }
      ]
    },
    {
      "cell_type": "code",
      "source": [
        "input = np.array([[1,2,3,4,5,0,0,0,0,0,0,0,0,0,0,0,0]])\n",
        "predict = model.predict(input)\n",
        "predict = np.argmax(predict, axis=1)"
      ],
      "metadata": {
        "colab": {
          "base_uri": "https://localhost:8080/"
        },
        "id": "PPMB-GMsLm0S",
        "outputId": "2803f544-f45c-4a6d-88d7-91faeaa418d6"
      },
      "execution_count": 400,
      "outputs": [
        {
          "output_type": "stream",
          "name": "stdout",
          "text": [
            "1/1 [==============================] - 0s 21ms/step\n"
          ]
        }
      ]
    },
    {
      "cell_type": "code",
      "source": [
        "combination[combination['id']==predict.item()]"
      ],
      "metadata": {
        "colab": {
          "base_uri": "https://localhost:8080/",
          "height": 80
        },
        "id": "MwvtM5wqMIHu",
        "outputId": "90c2d9c8-22ff-4da8-bfa1-1e232dd8500c"
      },
      "execution_count": 406,
      "outputs": [
        {
          "output_type": "execute_result",
          "data": {
            "text/plain": [
              "   id Disease                                        Description  \\\n",
              "5   5    GERD  Gastroesophageal reflux disease, or GERD, is a...   \n",
              "\n",
              "                                          Precaution  \n",
              "5  avoid fatty spicy food, avoid lying down after...  "
            ],
            "text/html": [
              "\n",
              "  <div id=\"df-63f72d06-9d25-46ad-a1b7-29c823e8e316\">\n",
              "    <div class=\"colab-df-container\">\n",
              "      <div>\n",
              "<style scoped>\n",
              "    .dataframe tbody tr th:only-of-type {\n",
              "        vertical-align: middle;\n",
              "    }\n",
              "\n",
              "    .dataframe tbody tr th {\n",
              "        vertical-align: top;\n",
              "    }\n",
              "\n",
              "    .dataframe thead th {\n",
              "        text-align: right;\n",
              "    }\n",
              "</style>\n",
              "<table border=\"1\" class=\"dataframe\">\n",
              "  <thead>\n",
              "    <tr style=\"text-align: right;\">\n",
              "      <th></th>\n",
              "      <th>id</th>\n",
              "      <th>Disease</th>\n",
              "      <th>Description</th>\n",
              "      <th>Precaution</th>\n",
              "    </tr>\n",
              "  </thead>\n",
              "  <tbody>\n",
              "    <tr>\n",
              "      <th>5</th>\n",
              "      <td>5</td>\n",
              "      <td>GERD</td>\n",
              "      <td>Gastroesophageal reflux disease, or GERD, is a...</td>\n",
              "      <td>avoid fatty spicy food, avoid lying down after...</td>\n",
              "    </tr>\n",
              "  </tbody>\n",
              "</table>\n",
              "</div>\n",
              "      <button class=\"colab-df-convert\" onclick=\"convertToInteractive('df-63f72d06-9d25-46ad-a1b7-29c823e8e316')\"\n",
              "              title=\"Convert this dataframe to an interactive table.\"\n",
              "              style=\"display:none;\">\n",
              "        \n",
              "  <svg xmlns=\"http://www.w3.org/2000/svg\" height=\"24px\"viewBox=\"0 0 24 24\"\n",
              "       width=\"24px\">\n",
              "    <path d=\"M0 0h24v24H0V0z\" fill=\"none\"/>\n",
              "    <path d=\"M18.56 5.44l.94 2.06.94-2.06 2.06-.94-2.06-.94-.94-2.06-.94 2.06-2.06.94zm-11 1L8.5 8.5l.94-2.06 2.06-.94-2.06-.94L8.5 2.5l-.94 2.06-2.06.94zm10 10l.94 2.06.94-2.06 2.06-.94-2.06-.94-.94-2.06-.94 2.06-2.06.94z\"/><path d=\"M17.41 7.96l-1.37-1.37c-.4-.4-.92-.59-1.43-.59-.52 0-1.04.2-1.43.59L10.3 9.45l-7.72 7.72c-.78.78-.78 2.05 0 2.83L4 21.41c.39.39.9.59 1.41.59.51 0 1.02-.2 1.41-.59l7.78-7.78 2.81-2.81c.8-.78.8-2.07 0-2.86zM5.41 20L4 18.59l7.72-7.72 1.47 1.35L5.41 20z\"/>\n",
              "  </svg>\n",
              "      </button>\n",
              "      \n",
              "  <style>\n",
              "    .colab-df-container {\n",
              "      display:flex;\n",
              "      flex-wrap:wrap;\n",
              "      gap: 12px;\n",
              "    }\n",
              "\n",
              "    .colab-df-convert {\n",
              "      background-color: #E8F0FE;\n",
              "      border: none;\n",
              "      border-radius: 50%;\n",
              "      cursor: pointer;\n",
              "      display: none;\n",
              "      fill: #1967D2;\n",
              "      height: 32px;\n",
              "      padding: 0 0 0 0;\n",
              "      width: 32px;\n",
              "    }\n",
              "\n",
              "    .colab-df-convert:hover {\n",
              "      background-color: #E2EBFA;\n",
              "      box-shadow: 0px 1px 2px rgba(60, 64, 67, 0.3), 0px 1px 3px 1px rgba(60, 64, 67, 0.15);\n",
              "      fill: #174EA6;\n",
              "    }\n",
              "\n",
              "    [theme=dark] .colab-df-convert {\n",
              "      background-color: #3B4455;\n",
              "      fill: #D2E3FC;\n",
              "    }\n",
              "\n",
              "    [theme=dark] .colab-df-convert:hover {\n",
              "      background-color: #434B5C;\n",
              "      box-shadow: 0px 1px 3px 1px rgba(0, 0, 0, 0.15);\n",
              "      filter: drop-shadow(0px 1px 2px rgba(0, 0, 0, 0.3));\n",
              "      fill: #FFFFFF;\n",
              "    }\n",
              "  </style>\n",
              "\n",
              "      <script>\n",
              "        const buttonEl =\n",
              "          document.querySelector('#df-63f72d06-9d25-46ad-a1b7-29c823e8e316 button.colab-df-convert');\n",
              "        buttonEl.style.display =\n",
              "          google.colab.kernel.accessAllowed ? 'block' : 'none';\n",
              "\n",
              "        async function convertToInteractive(key) {\n",
              "          const element = document.querySelector('#df-63f72d06-9d25-46ad-a1b7-29c823e8e316');\n",
              "          const dataTable =\n",
              "            await google.colab.kernel.invokeFunction('convertToInteractive',\n",
              "                                                     [key], {});\n",
              "          if (!dataTable) return;\n",
              "\n",
              "          const docLinkHtml = 'Like what you see? Visit the ' +\n",
              "            '<a target=\"_blank\" href=https://colab.research.google.com/notebooks/data_table.ipynb>data table notebook</a>'\n",
              "            + ' to learn more about interactive tables.';\n",
              "          element.innerHTML = '';\n",
              "          dataTable['output_type'] = 'display_data';\n",
              "          await google.colab.output.renderOutput(dataTable, element);\n",
              "          const docLink = document.createElement('div');\n",
              "          docLink.innerHTML = docLinkHtml;\n",
              "          element.appendChild(docLink);\n",
              "        }\n",
              "      </script>\n",
              "    </div>\n",
              "  </div>\n",
              "  "
            ]
          },
          "metadata": {},
          "execution_count": 406
        }
      ]
    },
    {
      "cell_type": "markdown",
      "source": [
        "## Deploy Model"
      ],
      "metadata": {
        "id": "j-su9nEUh2hu"
      }
    },
    {
      "cell_type": "code",
      "source": [
        "model.save('/content/drive/MyDrive/CapstoneProjectBangkitMachineLearning/DeployModel/model.h5')"
      ],
      "metadata": {
        "id": "DeGSZdqGtvuV"
      },
      "execution_count": 409,
      "outputs": []
    },
    {
      "cell_type": "code",
      "source": [
        "!tensorflowjs_converter --input_format=keras /content/drive/MyDrive/CapstoneProjectBangkitMachineLearning/DeployModel/model.h5 /content/drive/MyDrive/CapstoneProjectBangkitMachineLearning/DeployModel/"
      ],
      "metadata": {
        "colab": {
          "base_uri": "https://localhost:8080/"
        },
        "id": "uWaTWQqOawnO",
        "outputId": "1acb9230-4697-423d-de65-b271da309057"
      },
      "execution_count": 410,
      "outputs": [
        {
          "output_type": "stream",
          "name": "stdout",
          "text": [
            "2023-06-03 07:44:23.183742: W tensorflow/compiler/tf2tensorrt/utils/py_utils.cc:38] TF-TRT Warning: Could not find TensorRT\n"
          ]
        }
      ]
    },
    {
      "cell_type": "code",
      "source": [
        "import csv\n",
        "import json\n",
        " \n",
        " \n",
        "# Function to convert a CSV to JSON\n",
        "# Takes the file paths as arguments\n",
        "def make_json(csvFilePath, jsonFilePath):\n",
        "     \n",
        "    # create a dictionary\n",
        "    data = {}\n",
        "     \n",
        "    # Open a csv reader called DictReader\n",
        "    with open(csvFilePath, encoding='utf-8') as csvf:\n",
        "        csvReader = csv.DictReader(csvf)\n",
        "         \n",
        "        # Convert each row into a dictionary\n",
        "        # and add it to data\n",
        "        for rows in csvReader:\n",
        "             \n",
        "            # Assuming a column named 'Disease' to\n",
        "            # be the primary key\n",
        "            key = rows['Symptom']\n",
        "            data[key] = rows\n",
        " \n",
        "    # Open a json writer, and use the json.dumps()\n",
        "    # function to dump data\n",
        "    with open(jsonFilePath, 'w', encoding='utf-8') as jsonf:\n",
        "        jsonf.write(json.dumps(data, indent=4))\n",
        "         "
      ],
      "metadata": {
        "id": "to69dc5EYmsv"
      },
      "execution_count": 411,
      "outputs": []
    },
    {
      "cell_type": "code",
      "source": [
        "# Driver Code\n",
        " \n",
        "# Decide the two file paths according to your\n",
        "# computer system\n",
        "csvFilePath = r'Names.csv'\n",
        "jsonFilePath = r'Names.json'\n",
        " \n",
        "# Call the make_json function\n",
        "make_json('/content/drive/MyDrive/CapstoneProjectBangkitMachineLearning/Data/Symptom-severity.csv', \n",
        "          '/content/drive/MyDrive/CapstoneProjectBangkitMachineLearning/Data/Symptom-severity.json')"
      ],
      "metadata": {
        "id": "IDSkoC5gMxbd"
      },
      "execution_count": 412,
      "outputs": []
    },
    {
      "cell_type": "code",
      "source": [
        "import csv\n",
        "import json\n",
        " \n",
        " \n",
        "# Function to convert a CSV to JSON\n",
        "# Takes the file paths as arguments\n",
        "def make_json(csvFilePath, jsonFilePath):\n",
        "     \n",
        "    # create a dictionary\n",
        "    data = {}\n",
        "     \n",
        "    # Open a csv reader called DictReader\n",
        "    with open(csvFilePath, encoding='utf-8') as csvf:\n",
        "        csvReader = csv.DictReader(csvf)\n",
        "         \n",
        "        # Convert each row into a dictionary\n",
        "        # and add it to data\n",
        "        for rows in csvReader:\n",
        "             \n",
        "            # Assuming a column named 'Disease' to\n",
        "            # be the primary key\n",
        "            key = rows['id']\n",
        "            data[key] = rows\n",
        " \n",
        "    # Open a json writer, and use the json.dumps()\n",
        "    # function to dump data\n",
        "    with open(jsonFilePath, 'w', encoding='utf-8') as jsonf:\n",
        "        jsonf.write(json.dumps(data, indent=4))"
      ],
      "metadata": {
        "id": "Zyz5ZoLtOBFG"
      },
      "execution_count": 415,
      "outputs": []
    },
    {
      "cell_type": "code",
      "source": [
        "combination.to_csv('/content/drive/MyDrive/CapstoneProjectBangkitMachineLearning/Data/combination.csv')"
      ],
      "metadata": {
        "id": "uiMgEiQANYoz"
      },
      "execution_count": 416,
      "outputs": []
    },
    {
      "cell_type": "code",
      "source": [
        "make_json('/content/drive/MyDrive/CapstoneProjectBangkitMachineLearning/Data/combination.csv', \n",
        "          '/content/drive/MyDrive/CapstoneProjectBangkitMachineLearning/Data/combination.json')"
      ],
      "metadata": {
        "id": "DouSMcuRNEYg"
      },
      "execution_count": 417,
      "outputs": []
    }
  ]
}
