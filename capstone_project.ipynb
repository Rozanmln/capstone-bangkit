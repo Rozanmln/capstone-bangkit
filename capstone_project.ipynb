{
  "nbformat": 4,
  "nbformat_minor": 0,
  "metadata": {
    "colab": {
      "provenance": []
    },
    "kernelspec": {
      "name": "python3",
      "display_name": "Python 3"
    },
    "language_info": {
      "name": "python"
    }
  },
  "cells": [
    {
      "cell_type": "markdown",
      "source": [
        "#Install Packages"
      ],
      "metadata": {
        "id": "8lR-IQXWvlZr"
      }
    },
    {
      "cell_type": "code",
      "source": [
        "!pip install googletrans==3.1.0a0"
      ],
      "metadata": {
        "colab": {
          "base_uri": "https://localhost:8080/"
        },
        "id": "xBdxvZ_7s2mY",
        "outputId": "7b365140-acee-450c-83b7-2d80345c3178"
      },
      "execution_count": null,
      "outputs": [
        {
          "output_type": "stream",
          "name": "stdout",
          "text": [
            "Looking in indexes: https://pypi.org/simple, https://us-python.pkg.dev/colab-wheels/public/simple/\n",
            "Requirement already satisfied: googletrans==3.1.0a0 in /usr/local/lib/python3.10/dist-packages (3.1.0a0)\n",
            "Requirement already satisfied: httpx==0.13.3 in /usr/local/lib/python3.10/dist-packages (from googletrans==3.1.0a0) (0.13.3)\n",
            "Requirement already satisfied: certifi in /usr/local/lib/python3.10/dist-packages (from httpx==0.13.3->googletrans==3.1.0a0) (2022.12.7)\n",
            "Requirement already satisfied: hstspreload in /usr/local/lib/python3.10/dist-packages (from httpx==0.13.3->googletrans==3.1.0a0) (2023.1.1)\n",
            "Requirement already satisfied: sniffio in /usr/local/lib/python3.10/dist-packages (from httpx==0.13.3->googletrans==3.1.0a0) (1.3.0)\n",
            "Requirement already satisfied: chardet==3.* in /usr/local/lib/python3.10/dist-packages (from httpx==0.13.3->googletrans==3.1.0a0) (3.0.4)\n",
            "Requirement already satisfied: idna==2.* in /usr/local/lib/python3.10/dist-packages (from httpx==0.13.3->googletrans==3.1.0a0) (2.10)\n",
            "Requirement already satisfied: rfc3986<2,>=1.3 in /usr/local/lib/python3.10/dist-packages (from httpx==0.13.3->googletrans==3.1.0a0) (1.5.0)\n",
            "Requirement already satisfied: httpcore==0.9.* in /usr/local/lib/python3.10/dist-packages (from httpx==0.13.3->googletrans==3.1.0a0) (0.9.1)\n",
            "Requirement already satisfied: h11<0.10,>=0.8 in /usr/local/lib/python3.10/dist-packages (from httpcore==0.9.*->httpx==0.13.3->googletrans==3.1.0a0) (0.9.0)\n",
            "Requirement already satisfied: h2==3.* in /usr/local/lib/python3.10/dist-packages (from httpcore==0.9.*->httpx==0.13.3->googletrans==3.1.0a0) (3.2.0)\n",
            "Requirement already satisfied: hyperframe<6,>=5.2.0 in /usr/local/lib/python3.10/dist-packages (from h2==3.*->httpcore==0.9.*->httpx==0.13.3->googletrans==3.1.0a0) (5.2.0)\n",
            "Requirement already satisfied: hpack<4,>=3.0 in /usr/local/lib/python3.10/dist-packages (from h2==3.*->httpcore==0.9.*->httpx==0.13.3->googletrans==3.1.0a0) (3.0.0)\n"
          ]
        }
      ]
    },
    {
      "cell_type": "code",
      "source": [
        "pip install tensorflowjs"
      ],
      "metadata": {
        "id": "WeMR3n_cCWdl",
        "colab": {
          "base_uri": "https://localhost:8080/"
        },
        "outputId": "809e052c-247d-463b-a2eb-40157e88dea0"
      },
      "execution_count": null,
      "outputs": [
        {
          "output_type": "stream",
          "name": "stdout",
          "text": [
            "Looking in indexes: https://pypi.org/simple, https://us-python.pkg.dev/colab-wheels/public/simple/\n",
            "Requirement already satisfied: tensorflowjs in /usr/local/lib/python3.10/dist-packages (4.7.0)\n",
            "Requirement already satisfied: flax<0.6.3,>=0.6.2 in /usr/local/lib/python3.10/dist-packages (from tensorflowjs) (0.6.2)\n",
            "Requirement already satisfied: importlib_resources>=5.9.0 in /usr/local/lib/python3.10/dist-packages (from tensorflowjs) (5.12.0)\n",
            "Requirement already satisfied: jax>=0.3.16 in /usr/local/lib/python3.10/dist-packages (from tensorflowjs) (0.4.10)\n",
            "Requirement already satisfied: tensorflow<3,>=2.12.0 in /usr/local/lib/python3.10/dist-packages (from tensorflowjs) (2.12.0)\n",
            "Requirement already satisfied: tensorflow-decision-forests>=1.3.0 in /usr/local/lib/python3.10/dist-packages (from tensorflowjs) (1.3.0)\n",
            "Requirement already satisfied: six<2,>=1.12.0 in /usr/local/lib/python3.10/dist-packages (from tensorflowjs) (1.16.0)\n",
            "Requirement already satisfied: tensorflow-hub>=0.13.0 in /usr/local/lib/python3.10/dist-packages (from tensorflowjs) (0.13.0)\n",
            "Requirement already satisfied: packaging~=20.9 in /usr/local/lib/python3.10/dist-packages (from tensorflowjs) (20.9)\n",
            "Requirement already satisfied: numpy>=1.12 in /usr/local/lib/python3.10/dist-packages (from flax<0.6.3,>=0.6.2->tensorflowjs) (1.22.4)\n",
            "Requirement already satisfied: matplotlib in /usr/local/lib/python3.10/dist-packages (from flax<0.6.3,>=0.6.2->tensorflowjs) (3.7.1)\n",
            "Requirement already satisfied: msgpack in /usr/local/lib/python3.10/dist-packages (from flax<0.6.3,>=0.6.2->tensorflowjs) (1.0.5)\n",
            "Requirement already satisfied: optax in /usr/local/lib/python3.10/dist-packages (from flax<0.6.3,>=0.6.2->tensorflowjs) (0.1.5)\n",
            "Requirement already satisfied: tensorstore in /usr/local/lib/python3.10/dist-packages (from flax<0.6.3,>=0.6.2->tensorflowjs) (0.1.36)\n",
            "Requirement already satisfied: rich>=11.1 in /usr/local/lib/python3.10/dist-packages (from flax<0.6.3,>=0.6.2->tensorflowjs) (13.3.4)\n",
            "Requirement already satisfied: typing-extensions>=4.1.1 in /usr/local/lib/python3.10/dist-packages (from flax<0.6.3,>=0.6.2->tensorflowjs) (4.5.0)\n",
            "Requirement already satisfied: PyYAML>=5.4.1 in /usr/local/lib/python3.10/dist-packages (from flax<0.6.3,>=0.6.2->tensorflowjs) (6.0)\n",
            "Requirement already satisfied: ml-dtypes>=0.1.0 in /usr/local/lib/python3.10/dist-packages (from jax>=0.3.16->tensorflowjs) (0.1.0)\n",
            "Requirement already satisfied: opt-einsum in /usr/local/lib/python3.10/dist-packages (from jax>=0.3.16->tensorflowjs) (3.3.0)\n",
            "Requirement already satisfied: scipy>=1.7 in /usr/local/lib/python3.10/dist-packages (from jax>=0.3.16->tensorflowjs) (1.10.1)\n",
            "Requirement already satisfied: pyparsing>=2.0.2 in /usr/local/lib/python3.10/dist-packages (from packaging~=20.9->tensorflowjs) (3.0.9)\n",
            "Requirement already satisfied: absl-py>=1.0.0 in /usr/local/lib/python3.10/dist-packages (from tensorflow<3,>=2.12.0->tensorflowjs) (1.4.0)\n",
            "Requirement already satisfied: astunparse>=1.6.0 in /usr/local/lib/python3.10/dist-packages (from tensorflow<3,>=2.12.0->tensorflowjs) (1.6.3)\n",
            "Requirement already satisfied: flatbuffers>=2.0 in /usr/local/lib/python3.10/dist-packages (from tensorflow<3,>=2.12.0->tensorflowjs) (23.3.3)\n",
            "Requirement already satisfied: gast<=0.4.0,>=0.2.1 in /usr/local/lib/python3.10/dist-packages (from tensorflow<3,>=2.12.0->tensorflowjs) (0.4.0)\n",
            "Requirement already satisfied: google-pasta>=0.1.1 in /usr/local/lib/python3.10/dist-packages (from tensorflow<3,>=2.12.0->tensorflowjs) (0.2.0)\n",
            "Requirement already satisfied: grpcio<2.0,>=1.24.3 in /usr/local/lib/python3.10/dist-packages (from tensorflow<3,>=2.12.0->tensorflowjs) (1.54.0)\n",
            "Requirement already satisfied: h5py>=2.9.0 in /usr/local/lib/python3.10/dist-packages (from tensorflow<3,>=2.12.0->tensorflowjs) (3.8.0)\n",
            "Requirement already satisfied: keras<2.13,>=2.12.0 in /usr/local/lib/python3.10/dist-packages (from tensorflow<3,>=2.12.0->tensorflowjs) (2.12.0)\n",
            "Requirement already satisfied: libclang>=13.0.0 in /usr/local/lib/python3.10/dist-packages (from tensorflow<3,>=2.12.0->tensorflowjs) (16.0.0)\n",
            "Requirement already satisfied: protobuf!=4.21.0,!=4.21.1,!=4.21.2,!=4.21.3,!=4.21.4,!=4.21.5,<5.0.0dev,>=3.20.3 in /usr/local/lib/python3.10/dist-packages (from tensorflow<3,>=2.12.0->tensorflowjs) (3.20.3)\n",
            "Requirement already satisfied: setuptools in /usr/local/lib/python3.10/dist-packages (from tensorflow<3,>=2.12.0->tensorflowjs) (67.7.2)\n",
            "Requirement already satisfied: tensorboard<2.13,>=2.12 in /usr/local/lib/python3.10/dist-packages (from tensorflow<3,>=2.12.0->tensorflowjs) (2.12.2)\n",
            "Requirement already satisfied: tensorflow-estimator<2.13,>=2.12.0 in /usr/local/lib/python3.10/dist-packages (from tensorflow<3,>=2.12.0->tensorflowjs) (2.12.0)\n",
            "Requirement already satisfied: termcolor>=1.1.0 in /usr/local/lib/python3.10/dist-packages (from tensorflow<3,>=2.12.0->tensorflowjs) (2.3.0)\n",
            "Requirement already satisfied: wrapt<1.15,>=1.11.0 in /usr/local/lib/python3.10/dist-packages (from tensorflow<3,>=2.12.0->tensorflowjs) (1.14.1)\n",
            "Requirement already satisfied: tensorflow-io-gcs-filesystem>=0.23.1 in /usr/local/lib/python3.10/dist-packages (from tensorflow<3,>=2.12.0->tensorflowjs) (0.32.0)\n",
            "Requirement already satisfied: pandas in /usr/local/lib/python3.10/dist-packages (from tensorflow-decision-forests>=1.3.0->tensorflowjs) (1.5.3)\n",
            "Requirement already satisfied: wheel in /usr/local/lib/python3.10/dist-packages (from tensorflow-decision-forests>=1.3.0->tensorflowjs) (0.40.0)\n",
            "Requirement already satisfied: wurlitzer in /usr/local/lib/python3.10/dist-packages (from tensorflow-decision-forests>=1.3.0->tensorflowjs) (3.0.3)\n",
            "Requirement already satisfied: markdown-it-py<3.0.0,>=2.2.0 in /usr/local/lib/python3.10/dist-packages (from rich>=11.1->flax<0.6.3,>=0.6.2->tensorflowjs) (2.2.0)\n",
            "Requirement already satisfied: pygments<3.0.0,>=2.13.0 in /usr/local/lib/python3.10/dist-packages (from rich>=11.1->flax<0.6.3,>=0.6.2->tensorflowjs) (2.14.0)\n",
            "Requirement already satisfied: google-auth<3,>=1.6.3 in /usr/local/lib/python3.10/dist-packages (from tensorboard<2.13,>=2.12->tensorflow<3,>=2.12.0->tensorflowjs) (2.17.3)\n",
            "Requirement already satisfied: google-auth-oauthlib<1.1,>=0.5 in /usr/local/lib/python3.10/dist-packages (from tensorboard<2.13,>=2.12->tensorflow<3,>=2.12.0->tensorflowjs) (1.0.0)\n",
            "Requirement already satisfied: markdown>=2.6.8 in /usr/local/lib/python3.10/dist-packages (from tensorboard<2.13,>=2.12->tensorflow<3,>=2.12.0->tensorflowjs) (3.4.3)\n",
            "Requirement already satisfied: requests<3,>=2.21.0 in /usr/local/lib/python3.10/dist-packages (from tensorboard<2.13,>=2.12->tensorflow<3,>=2.12.0->tensorflowjs) (2.27.1)\n",
            "Requirement already satisfied: tensorboard-data-server<0.8.0,>=0.7.0 in /usr/local/lib/python3.10/dist-packages (from tensorboard<2.13,>=2.12->tensorflow<3,>=2.12.0->tensorflowjs) (0.7.0)\n",
            "Requirement already satisfied: tensorboard-plugin-wit>=1.6.0 in /usr/local/lib/python3.10/dist-packages (from tensorboard<2.13,>=2.12->tensorflow<3,>=2.12.0->tensorflowjs) (1.8.1)\n",
            "Requirement already satisfied: werkzeug>=1.0.1 in /usr/local/lib/python3.10/dist-packages (from tensorboard<2.13,>=2.12->tensorflow<3,>=2.12.0->tensorflowjs) (2.3.0)\n",
            "Requirement already satisfied: contourpy>=1.0.1 in /usr/local/lib/python3.10/dist-packages (from matplotlib->flax<0.6.3,>=0.6.2->tensorflowjs) (1.0.7)\n",
            "Requirement already satisfied: cycler>=0.10 in /usr/local/lib/python3.10/dist-packages (from matplotlib->flax<0.6.3,>=0.6.2->tensorflowjs) (0.11.0)\n",
            "Requirement already satisfied: fonttools>=4.22.0 in /usr/local/lib/python3.10/dist-packages (from matplotlib->flax<0.6.3,>=0.6.2->tensorflowjs) (4.39.3)\n",
            "Requirement already satisfied: kiwisolver>=1.0.1 in /usr/local/lib/python3.10/dist-packages (from matplotlib->flax<0.6.3,>=0.6.2->tensorflowjs) (1.4.4)\n",
            "Requirement already satisfied: pillow>=6.2.0 in /usr/local/lib/python3.10/dist-packages (from matplotlib->flax<0.6.3,>=0.6.2->tensorflowjs) (8.4.0)\n",
            "Requirement already satisfied: python-dateutil>=2.7 in /usr/local/lib/python3.10/dist-packages (from matplotlib->flax<0.6.3,>=0.6.2->tensorflowjs) (2.8.2)\n",
            "Requirement already satisfied: chex>=0.1.5 in /usr/local/lib/python3.10/dist-packages (from optax->flax<0.6.3,>=0.6.2->tensorflowjs) (0.1.7)\n",
            "Requirement already satisfied: jaxlib>=0.1.37 in /usr/local/lib/python3.10/dist-packages (from optax->flax<0.6.3,>=0.6.2->tensorflowjs) (0.4.10+cuda11.cudnn86)\n",
            "Requirement already satisfied: pytz>=2020.1 in /usr/local/lib/python3.10/dist-packages (from pandas->tensorflow-decision-forests>=1.3.0->tensorflowjs) (2022.7.1)\n",
            "Requirement already satisfied: dm-tree>=0.1.5 in /usr/local/lib/python3.10/dist-packages (from chex>=0.1.5->optax->flax<0.6.3,>=0.6.2->tensorflowjs) (0.1.8)\n",
            "Requirement already satisfied: toolz>=0.9.0 in /usr/local/lib/python3.10/dist-packages (from chex>=0.1.5->optax->flax<0.6.3,>=0.6.2->tensorflowjs) (0.12.0)\n",
            "Requirement already satisfied: cachetools<6.0,>=2.0.0 in /usr/local/lib/python3.10/dist-packages (from google-auth<3,>=1.6.3->tensorboard<2.13,>=2.12->tensorflow<3,>=2.12.0->tensorflowjs) (5.3.0)\n",
            "Requirement already satisfied: pyasn1-modules>=0.2.1 in /usr/local/lib/python3.10/dist-packages (from google-auth<3,>=1.6.3->tensorboard<2.13,>=2.12->tensorflow<3,>=2.12.0->tensorflowjs) (0.3.0)\n",
            "Requirement already satisfied: rsa<5,>=3.1.4 in /usr/local/lib/python3.10/dist-packages (from google-auth<3,>=1.6.3->tensorboard<2.13,>=2.12->tensorflow<3,>=2.12.0->tensorflowjs) (4.9)\n",
            "Requirement already satisfied: requests-oauthlib>=0.7.0 in /usr/local/lib/python3.10/dist-packages (from google-auth-oauthlib<1.1,>=0.5->tensorboard<2.13,>=2.12->tensorflow<3,>=2.12.0->tensorflowjs) (1.3.1)\n",
            "Requirement already satisfied: mdurl~=0.1 in /usr/local/lib/python3.10/dist-packages (from markdown-it-py<3.0.0,>=2.2.0->rich>=11.1->flax<0.6.3,>=0.6.2->tensorflowjs) (0.1.2)\n",
            "Requirement already satisfied: urllib3<1.27,>=1.21.1 in /usr/local/lib/python3.10/dist-packages (from requests<3,>=2.21.0->tensorboard<2.13,>=2.12->tensorflow<3,>=2.12.0->tensorflowjs) (1.26.15)\n",
            "Requirement already satisfied: certifi>=2017.4.17 in /usr/local/lib/python3.10/dist-packages (from requests<3,>=2.21.0->tensorboard<2.13,>=2.12->tensorflow<3,>=2.12.0->tensorflowjs) (2022.12.7)\n",
            "Requirement already satisfied: charset-normalizer~=2.0.0 in /usr/local/lib/python3.10/dist-packages (from requests<3,>=2.21.0->tensorboard<2.13,>=2.12->tensorflow<3,>=2.12.0->tensorflowjs) (2.0.12)\n",
            "Requirement already satisfied: idna<4,>=2.5 in /usr/local/lib/python3.10/dist-packages (from requests<3,>=2.21.0->tensorboard<2.13,>=2.12->tensorflow<3,>=2.12.0->tensorflowjs) (2.10)\n",
            "Requirement already satisfied: MarkupSafe>=2.1.1 in /usr/local/lib/python3.10/dist-packages (from werkzeug>=1.0.1->tensorboard<2.13,>=2.12->tensorflow<3,>=2.12.0->tensorflowjs) (2.1.2)\n",
            "Requirement already satisfied: pyasn1<0.6.0,>=0.4.6 in /usr/local/lib/python3.10/dist-packages (from pyasn1-modules>=0.2.1->google-auth<3,>=1.6.3->tensorboard<2.13,>=2.12->tensorflow<3,>=2.12.0->tensorflowjs) (0.5.0)\n",
            "Requirement already satisfied: oauthlib>=3.0.0 in /usr/local/lib/python3.10/dist-packages (from requests-oauthlib>=0.7.0->google-auth-oauthlib<1.1,>=0.5->tensorboard<2.13,>=2.12->tensorflow<3,>=2.12.0->tensorflowjs) (3.2.2)\n"
          ]
        }
      ]
    },
    {
      "cell_type": "markdown",
      "source": [
        "#Import Packages"
      ],
      "metadata": {
        "id": "2dwZipfRSYE0"
      }
    },
    {
      "cell_type": "code",
      "source": [
        "import re\n",
        "import pandas as pd\n",
        "import numpy as np\n",
        "import time\n",
        "\n",
        "import tensorflow as tf\n",
        "import tensorflowjs as tfjs\n",
        "import tensorflow_datasets as tfds\n",
        "from sklearn.model_selection import train_test_split, StratifiedKFold\n",
        "from sklearn.preprocessing import StandardScaler, LabelEncoder\n",
        "from tensorflow.keras.models import load_model\n",
        "from googletrans import Translator"
      ],
      "metadata": {
        "id": "0STDPgGOSVED"
      },
      "execution_count": null,
      "outputs": []
    },
    {
      "cell_type": "code",
      "source": [
        "print(tf.__version__)"
      ],
      "metadata": {
        "colab": {
          "base_uri": "https://localhost:8080/"
        },
        "id": "3EaS9WNfCqHi",
        "outputId": "6f1f59ec-61cb-4b2f-fde0-8df8ab0055dc"
      },
      "execution_count": null,
      "outputs": [
        {
          "output_type": "stream",
          "name": "stdout",
          "text": [
            "2.12.0\n"
          ]
        }
      ]
    },
    {
      "cell_type": "code",
      "source": [
        "from google.colab import drive\n",
        "drive.mount('/content/drive')"
      ],
      "metadata": {
        "colab": {
          "base_uri": "https://localhost:8080/"
        },
        "id": "dJcQIYdmS8by",
        "outputId": "81ebe168-b620-483d-f85a-24fa3d915073"
      },
      "execution_count": null,
      "outputs": [
        {
          "output_type": "stream",
          "name": "stdout",
          "text": [
            "Drive already mounted at /content/drive; to attempt to forcibly remount, call drive.mount(\"/content/drive\", force_remount=True).\n"
          ]
        }
      ]
    },
    {
      "cell_type": "markdown",
      "source": [
        "#Read Data"
      ],
      "metadata": {
        "id": "qnB8fADzSKGF"
      }
    },
    {
      "cell_type": "markdown",
      "source": [
        "## Symptoms"
      ],
      "metadata": {
        "id": "lp79J-vJ5MOT"
      }
    },
    {
      "cell_type": "code",
      "source": [
        "symptoms = pd.read_csv('/content/drive/MyDrive/CapstoneProjectBangkitMachineLearning/Data/dataset.csv')\n",
        "symptoms.head()"
      ],
      "metadata": {
        "id": "tNdHQT90kzXJ",
        "colab": {
          "base_uri": "https://localhost:8080/"
        },
        "outputId": "034fc44d-0ad2-43da-fa23-d811345ad831"
      },
      "execution_count": null,
      "outputs": [
        {
          "output_type": "execute_result",
          "data": {
            "text/plain": [
              "            Disease   Symptom_1              Symptom_2              Symptom_3  \\\n",
              "0  Fungal infection     itching              skin_rash   nodal_skin_eruptions   \n",
              "1  Fungal infection   skin_rash   nodal_skin_eruptions    dischromic _patches   \n",
              "2  Fungal infection     itching   nodal_skin_eruptions    dischromic _patches   \n",
              "3  Fungal infection     itching              skin_rash    dischromic _patches   \n",
              "4  Fungal infection     itching              skin_rash   nodal_skin_eruptions   \n",
              "\n",
              "              Symptom_4 Symptom_5 Symptom_6 Symptom_7 Symptom_8 Symptom_9  \\\n",
              "0   dischromic _patches       NaN       NaN       NaN       NaN       NaN   \n",
              "1                   NaN       NaN       NaN       NaN       NaN       NaN   \n",
              "2                   NaN       NaN       NaN       NaN       NaN       NaN   \n",
              "3                   NaN       NaN       NaN       NaN       NaN       NaN   \n",
              "4                   NaN       NaN       NaN       NaN       NaN       NaN   \n",
              "\n",
              "  Symptom_10 Symptom_11 Symptom_12 Symptom_13 Symptom_14 Symptom_15  \\\n",
              "0        NaN        NaN        NaN        NaN        NaN        NaN   \n",
              "1        NaN        NaN        NaN        NaN        NaN        NaN   \n",
              "2        NaN        NaN        NaN        NaN        NaN        NaN   \n",
              "3        NaN        NaN        NaN        NaN        NaN        NaN   \n",
              "4        NaN        NaN        NaN        NaN        NaN        NaN   \n",
              "\n",
              "  Symptom_16 Symptom_17  \n",
              "0        NaN        NaN  \n",
              "1        NaN        NaN  \n",
              "2        NaN        NaN  \n",
              "3        NaN        NaN  \n",
              "4        NaN        NaN  "
            ],
            "text/html": [
              "\n",
              "  <div id=\"df-9f14c326-9b66-469f-9a6f-1b3afe3d0df0\">\n",
              "    <div class=\"colab-df-container\">\n",
              "      <div>\n",
              "<style scoped>\n",
              "    .dataframe tbody tr th:only-of-type {\n",
              "        vertical-align: middle;\n",
              "    }\n",
              "\n",
              "    .dataframe tbody tr th {\n",
              "        vertical-align: top;\n",
              "    }\n",
              "\n",
              "    .dataframe thead th {\n",
              "        text-align: right;\n",
              "    }\n",
              "</style>\n",
              "<table border=\"1\" class=\"dataframe\">\n",
              "  <thead>\n",
              "    <tr style=\"text-align: right;\">\n",
              "      <th></th>\n",
              "      <th>Disease</th>\n",
              "      <th>Symptom_1</th>\n",
              "      <th>Symptom_2</th>\n",
              "      <th>Symptom_3</th>\n",
              "      <th>Symptom_4</th>\n",
              "      <th>Symptom_5</th>\n",
              "      <th>Symptom_6</th>\n",
              "      <th>Symptom_7</th>\n",
              "      <th>Symptom_8</th>\n",
              "      <th>Symptom_9</th>\n",
              "      <th>Symptom_10</th>\n",
              "      <th>Symptom_11</th>\n",
              "      <th>Symptom_12</th>\n",
              "      <th>Symptom_13</th>\n",
              "      <th>Symptom_14</th>\n",
              "      <th>Symptom_15</th>\n",
              "      <th>Symptom_16</th>\n",
              "      <th>Symptom_17</th>\n",
              "    </tr>\n",
              "  </thead>\n",
              "  <tbody>\n",
              "    <tr>\n",
              "      <th>0</th>\n",
              "      <td>Fungal infection</td>\n",
              "      <td>itching</td>\n",
              "      <td>skin_rash</td>\n",
              "      <td>nodal_skin_eruptions</td>\n",
              "      <td>dischromic _patches</td>\n",
              "      <td>NaN</td>\n",
              "      <td>NaN</td>\n",
              "      <td>NaN</td>\n",
              "      <td>NaN</td>\n",
              "      <td>NaN</td>\n",
              "      <td>NaN</td>\n",
              "      <td>NaN</td>\n",
              "      <td>NaN</td>\n",
              "      <td>NaN</td>\n",
              "      <td>NaN</td>\n",
              "      <td>NaN</td>\n",
              "      <td>NaN</td>\n",
              "      <td>NaN</td>\n",
              "    </tr>\n",
              "    <tr>\n",
              "      <th>1</th>\n",
              "      <td>Fungal infection</td>\n",
              "      <td>skin_rash</td>\n",
              "      <td>nodal_skin_eruptions</td>\n",
              "      <td>dischromic _patches</td>\n",
              "      <td>NaN</td>\n",
              "      <td>NaN</td>\n",
              "      <td>NaN</td>\n",
              "      <td>NaN</td>\n",
              "      <td>NaN</td>\n",
              "      <td>NaN</td>\n",
              "      <td>NaN</td>\n",
              "      <td>NaN</td>\n",
              "      <td>NaN</td>\n",
              "      <td>NaN</td>\n",
              "      <td>NaN</td>\n",
              "      <td>NaN</td>\n",
              "      <td>NaN</td>\n",
              "      <td>NaN</td>\n",
              "    </tr>\n",
              "    <tr>\n",
              "      <th>2</th>\n",
              "      <td>Fungal infection</td>\n",
              "      <td>itching</td>\n",
              "      <td>nodal_skin_eruptions</td>\n",
              "      <td>dischromic _patches</td>\n",
              "      <td>NaN</td>\n",
              "      <td>NaN</td>\n",
              "      <td>NaN</td>\n",
              "      <td>NaN</td>\n",
              "      <td>NaN</td>\n",
              "      <td>NaN</td>\n",
              "      <td>NaN</td>\n",
              "      <td>NaN</td>\n",
              "      <td>NaN</td>\n",
              "      <td>NaN</td>\n",
              "      <td>NaN</td>\n",
              "      <td>NaN</td>\n",
              "      <td>NaN</td>\n",
              "      <td>NaN</td>\n",
              "    </tr>\n",
              "    <tr>\n",
              "      <th>3</th>\n",
              "      <td>Fungal infection</td>\n",
              "      <td>itching</td>\n",
              "      <td>skin_rash</td>\n",
              "      <td>dischromic _patches</td>\n",
              "      <td>NaN</td>\n",
              "      <td>NaN</td>\n",
              "      <td>NaN</td>\n",
              "      <td>NaN</td>\n",
              "      <td>NaN</td>\n",
              "      <td>NaN</td>\n",
              "      <td>NaN</td>\n",
              "      <td>NaN</td>\n",
              "      <td>NaN</td>\n",
              "      <td>NaN</td>\n",
              "      <td>NaN</td>\n",
              "      <td>NaN</td>\n",
              "      <td>NaN</td>\n",
              "      <td>NaN</td>\n",
              "    </tr>\n",
              "    <tr>\n",
              "      <th>4</th>\n",
              "      <td>Fungal infection</td>\n",
              "      <td>itching</td>\n",
              "      <td>skin_rash</td>\n",
              "      <td>nodal_skin_eruptions</td>\n",
              "      <td>NaN</td>\n",
              "      <td>NaN</td>\n",
              "      <td>NaN</td>\n",
              "      <td>NaN</td>\n",
              "      <td>NaN</td>\n",
              "      <td>NaN</td>\n",
              "      <td>NaN</td>\n",
              "      <td>NaN</td>\n",
              "      <td>NaN</td>\n",
              "      <td>NaN</td>\n",
              "      <td>NaN</td>\n",
              "      <td>NaN</td>\n",
              "      <td>NaN</td>\n",
              "      <td>NaN</td>\n",
              "    </tr>\n",
              "  </tbody>\n",
              "</table>\n",
              "</div>\n",
              "      <button class=\"colab-df-convert\" onclick=\"convertToInteractive('df-9f14c326-9b66-469f-9a6f-1b3afe3d0df0')\"\n",
              "              title=\"Convert this dataframe to an interactive table.\"\n",
              "              style=\"display:none;\">\n",
              "        \n",
              "  <svg xmlns=\"http://www.w3.org/2000/svg\" height=\"24px\"viewBox=\"0 0 24 24\"\n",
              "       width=\"24px\">\n",
              "    <path d=\"M0 0h24v24H0V0z\" fill=\"none\"/>\n",
              "    <path d=\"M18.56 5.44l.94 2.06.94-2.06 2.06-.94-2.06-.94-.94-2.06-.94 2.06-2.06.94zm-11 1L8.5 8.5l.94-2.06 2.06-.94-2.06-.94L8.5 2.5l-.94 2.06-2.06.94zm10 10l.94 2.06.94-2.06 2.06-.94-2.06-.94-.94-2.06-.94 2.06-2.06.94z\"/><path d=\"M17.41 7.96l-1.37-1.37c-.4-.4-.92-.59-1.43-.59-.52 0-1.04.2-1.43.59L10.3 9.45l-7.72 7.72c-.78.78-.78 2.05 0 2.83L4 21.41c.39.39.9.59 1.41.59.51 0 1.02-.2 1.41-.59l7.78-7.78 2.81-2.81c.8-.78.8-2.07 0-2.86zM5.41 20L4 18.59l7.72-7.72 1.47 1.35L5.41 20z\"/>\n",
              "  </svg>\n",
              "      </button>\n",
              "      \n",
              "  <style>\n",
              "    .colab-df-container {\n",
              "      display:flex;\n",
              "      flex-wrap:wrap;\n",
              "      gap: 12px;\n",
              "    }\n",
              "\n",
              "    .colab-df-convert {\n",
              "      background-color: #E8F0FE;\n",
              "      border: none;\n",
              "      border-radius: 50%;\n",
              "      cursor: pointer;\n",
              "      display: none;\n",
              "      fill: #1967D2;\n",
              "      height: 32px;\n",
              "      padding: 0 0 0 0;\n",
              "      width: 32px;\n",
              "    }\n",
              "\n",
              "    .colab-df-convert:hover {\n",
              "      background-color: #E2EBFA;\n",
              "      box-shadow: 0px 1px 2px rgba(60, 64, 67, 0.3), 0px 1px 3px 1px rgba(60, 64, 67, 0.15);\n",
              "      fill: #174EA6;\n",
              "    }\n",
              "\n",
              "    [theme=dark] .colab-df-convert {\n",
              "      background-color: #3B4455;\n",
              "      fill: #D2E3FC;\n",
              "    }\n",
              "\n",
              "    [theme=dark] .colab-df-convert:hover {\n",
              "      background-color: #434B5C;\n",
              "      box-shadow: 0px 1px 3px 1px rgba(0, 0, 0, 0.15);\n",
              "      filter: drop-shadow(0px 1px 2px rgba(0, 0, 0, 0.3));\n",
              "      fill: #FFFFFF;\n",
              "    }\n",
              "  </style>\n",
              "\n",
              "      <script>\n",
              "        const buttonEl =\n",
              "          document.querySelector('#df-9f14c326-9b66-469f-9a6f-1b3afe3d0df0 button.colab-df-convert');\n",
              "        buttonEl.style.display =\n",
              "          google.colab.kernel.accessAllowed ? 'block' : 'none';\n",
              "\n",
              "        async function convertToInteractive(key) {\n",
              "          const element = document.querySelector('#df-9f14c326-9b66-469f-9a6f-1b3afe3d0df0');\n",
              "          const dataTable =\n",
              "            await google.colab.kernel.invokeFunction('convertToInteractive',\n",
              "                                                     [key], {});\n",
              "          if (!dataTable) return;\n",
              "\n",
              "          const docLinkHtml = 'Like what you see? Visit the ' +\n",
              "            '<a target=\"_blank\" href=https://colab.research.google.com/notebooks/data_table.ipynb>data table notebook</a>'\n",
              "            + ' to learn more about interactive tables.';\n",
              "          element.innerHTML = '';\n",
              "          dataTable['output_type'] = 'display_data';\n",
              "          await google.colab.output.renderOutput(dataTable, element);\n",
              "          const docLink = document.createElement('div');\n",
              "          docLink.innerHTML = docLinkHtml;\n",
              "          element.appendChild(docLink);\n",
              "        }\n",
              "      </script>\n",
              "    </div>\n",
              "  </div>\n",
              "  "
            ]
          },
          "metadata": {},
          "execution_count": 20
        }
      ]
    },
    {
      "cell_type": "code",
      "source": [
        "symptoms.shape"
      ],
      "metadata": {
        "colab": {
          "base_uri": "https://localhost:8080/"
        },
        "id": "FKDtZi-c6ypE",
        "outputId": "093e1dcb-63e6-46bd-a7fb-682f820801e3"
      },
      "execution_count": null,
      "outputs": [
        {
          "output_type": "execute_result",
          "data": {
            "text/plain": [
              "(4920, 18)"
            ]
          },
          "metadata": {},
          "execution_count": 21
        }
      ]
    },
    {
      "cell_type": "code",
      "source": [
        "# Null values\n",
        "symptoms.info()"
      ],
      "metadata": {
        "colab": {
          "base_uri": "https://localhost:8080/"
        },
        "id": "Fdns4D2E6ETW",
        "outputId": "14d27e07-33aa-4796-d63b-141218477a9a"
      },
      "execution_count": null,
      "outputs": [
        {
          "output_type": "stream",
          "name": "stdout",
          "text": [
            "<class 'pandas.core.frame.DataFrame'>\n",
            "RangeIndex: 4920 entries, 0 to 4919\n",
            "Data columns (total 18 columns):\n",
            " #   Column      Non-Null Count  Dtype \n",
            "---  ------      --------------  ----- \n",
            " 0   Disease     4920 non-null   object\n",
            " 1   Symptom_1   4920 non-null   object\n",
            " 2   Symptom_2   4920 non-null   object\n",
            " 3   Symptom_3   4920 non-null   object\n",
            " 4   Symptom_4   4572 non-null   object\n",
            " 5   Symptom_5   3714 non-null   object\n",
            " 6   Symptom_6   2934 non-null   object\n",
            " 7   Symptom_7   2268 non-null   object\n",
            " 8   Symptom_8   1944 non-null   object\n",
            " 9   Symptom_9   1692 non-null   object\n",
            " 10  Symptom_10  1512 non-null   object\n",
            " 11  Symptom_11  1194 non-null   object\n",
            " 12  Symptom_12  744 non-null    object\n",
            " 13  Symptom_13  504 non-null    object\n",
            " 14  Symptom_14  306 non-null    object\n",
            " 15  Symptom_15  240 non-null    object\n",
            " 16  Symptom_16  192 non-null    object\n",
            " 17  Symptom_17  72 non-null     object\n",
            "dtypes: object(18)\n",
            "memory usage: 692.0+ KB\n"
          ]
        }
      ]
    },
    {
      "cell_type": "code",
      "source": [
        "# Count duplicated data\n",
        "symptoms.duplicated().sum()"
      ],
      "metadata": {
        "colab": {
          "base_uri": "https://localhost:8080/"
        },
        "id": "FG2_22KW6q6h",
        "outputId": "86255f50-e520-4544-b95a-7a06d03e46a4"
      },
      "execution_count": null,
      "outputs": [
        {
          "output_type": "execute_result",
          "data": {
            "text/plain": [
              "4616"
            ]
          },
          "metadata": {},
          "execution_count": 23
        }
      ]
    },
    {
      "cell_type": "markdown",
      "source": [
        "## Symptom Severity"
      ],
      "metadata": {
        "id": "q9wzxxWE5cOf"
      }
    },
    {
      "cell_type": "code",
      "source": [
        "severity = pd.read_csv('/content/drive/MyDrive/CapstoneProjectBangkitMachineLearning/Data/Symptom-severity.csv')\n",
        "severity.head()"
      ],
      "metadata": {
        "id": "eyzD_UMakzTx",
        "colab": {
          "base_uri": "https://localhost:8080/"
        },
        "outputId": "91ab3947-a4e7-46e6-c242-20be1dbf1b57"
      },
      "execution_count": null,
      "outputs": [
        {
          "output_type": "execute_result",
          "data": {
            "text/plain": [
              "                Symptom  weight\n",
              "0               itching       1\n",
              "1             skin_rash       3\n",
              "2  nodal_skin_eruptions       4\n",
              "3   continuous_sneezing       4\n",
              "4             shivering       5"
            ],
            "text/html": [
              "\n",
              "  <div id=\"df-2ed15e27-d97d-4315-9b02-82c347ca99d2\">\n",
              "    <div class=\"colab-df-container\">\n",
              "      <div>\n",
              "<style scoped>\n",
              "    .dataframe tbody tr th:only-of-type {\n",
              "        vertical-align: middle;\n",
              "    }\n",
              "\n",
              "    .dataframe tbody tr th {\n",
              "        vertical-align: top;\n",
              "    }\n",
              "\n",
              "    .dataframe thead th {\n",
              "        text-align: right;\n",
              "    }\n",
              "</style>\n",
              "<table border=\"1\" class=\"dataframe\">\n",
              "  <thead>\n",
              "    <tr style=\"text-align: right;\">\n",
              "      <th></th>\n",
              "      <th>Symptom</th>\n",
              "      <th>weight</th>\n",
              "    </tr>\n",
              "  </thead>\n",
              "  <tbody>\n",
              "    <tr>\n",
              "      <th>0</th>\n",
              "      <td>itching</td>\n",
              "      <td>1</td>\n",
              "    </tr>\n",
              "    <tr>\n",
              "      <th>1</th>\n",
              "      <td>skin_rash</td>\n",
              "      <td>3</td>\n",
              "    </tr>\n",
              "    <tr>\n",
              "      <th>2</th>\n",
              "      <td>nodal_skin_eruptions</td>\n",
              "      <td>4</td>\n",
              "    </tr>\n",
              "    <tr>\n",
              "      <th>3</th>\n",
              "      <td>continuous_sneezing</td>\n",
              "      <td>4</td>\n",
              "    </tr>\n",
              "    <tr>\n",
              "      <th>4</th>\n",
              "      <td>shivering</td>\n",
              "      <td>5</td>\n",
              "    </tr>\n",
              "  </tbody>\n",
              "</table>\n",
              "</div>\n",
              "      <button class=\"colab-df-convert\" onclick=\"convertToInteractive('df-2ed15e27-d97d-4315-9b02-82c347ca99d2')\"\n",
              "              title=\"Convert this dataframe to an interactive table.\"\n",
              "              style=\"display:none;\">\n",
              "        \n",
              "  <svg xmlns=\"http://www.w3.org/2000/svg\" height=\"24px\"viewBox=\"0 0 24 24\"\n",
              "       width=\"24px\">\n",
              "    <path d=\"M0 0h24v24H0V0z\" fill=\"none\"/>\n",
              "    <path d=\"M18.56 5.44l.94 2.06.94-2.06 2.06-.94-2.06-.94-.94-2.06-.94 2.06-2.06.94zm-11 1L8.5 8.5l.94-2.06 2.06-.94-2.06-.94L8.5 2.5l-.94 2.06-2.06.94zm10 10l.94 2.06.94-2.06 2.06-.94-2.06-.94-.94-2.06-.94 2.06-2.06.94z\"/><path d=\"M17.41 7.96l-1.37-1.37c-.4-.4-.92-.59-1.43-.59-.52 0-1.04.2-1.43.59L10.3 9.45l-7.72 7.72c-.78.78-.78 2.05 0 2.83L4 21.41c.39.39.9.59 1.41.59.51 0 1.02-.2 1.41-.59l7.78-7.78 2.81-2.81c.8-.78.8-2.07 0-2.86zM5.41 20L4 18.59l7.72-7.72 1.47 1.35L5.41 20z\"/>\n",
              "  </svg>\n",
              "      </button>\n",
              "      \n",
              "  <style>\n",
              "    .colab-df-container {\n",
              "      display:flex;\n",
              "      flex-wrap:wrap;\n",
              "      gap: 12px;\n",
              "    }\n",
              "\n",
              "    .colab-df-convert {\n",
              "      background-color: #E8F0FE;\n",
              "      border: none;\n",
              "      border-radius: 50%;\n",
              "      cursor: pointer;\n",
              "      display: none;\n",
              "      fill: #1967D2;\n",
              "      height: 32px;\n",
              "      padding: 0 0 0 0;\n",
              "      width: 32px;\n",
              "    }\n",
              "\n",
              "    .colab-df-convert:hover {\n",
              "      background-color: #E2EBFA;\n",
              "      box-shadow: 0px 1px 2px rgba(60, 64, 67, 0.3), 0px 1px 3px 1px rgba(60, 64, 67, 0.15);\n",
              "      fill: #174EA6;\n",
              "    }\n",
              "\n",
              "    [theme=dark] .colab-df-convert {\n",
              "      background-color: #3B4455;\n",
              "      fill: #D2E3FC;\n",
              "    }\n",
              "\n",
              "    [theme=dark] .colab-df-convert:hover {\n",
              "      background-color: #434B5C;\n",
              "      box-shadow: 0px 1px 3px 1px rgba(0, 0, 0, 0.15);\n",
              "      filter: drop-shadow(0px 1px 2px rgba(0, 0, 0, 0.3));\n",
              "      fill: #FFFFFF;\n",
              "    }\n",
              "  </style>\n",
              "\n",
              "      <script>\n",
              "        const buttonEl =\n",
              "          document.querySelector('#df-2ed15e27-d97d-4315-9b02-82c347ca99d2 button.colab-df-convert');\n",
              "        buttonEl.style.display =\n",
              "          google.colab.kernel.accessAllowed ? 'block' : 'none';\n",
              "\n",
              "        async function convertToInteractive(key) {\n",
              "          const element = document.querySelector('#df-2ed15e27-d97d-4315-9b02-82c347ca99d2');\n",
              "          const dataTable =\n",
              "            await google.colab.kernel.invokeFunction('convertToInteractive',\n",
              "                                                     [key], {});\n",
              "          if (!dataTable) return;\n",
              "\n",
              "          const docLinkHtml = 'Like what you see? Visit the ' +\n",
              "            '<a target=\"_blank\" href=https://colab.research.google.com/notebooks/data_table.ipynb>data table notebook</a>'\n",
              "            + ' to learn more about interactive tables.';\n",
              "          element.innerHTML = '';\n",
              "          dataTable['output_type'] = 'display_data';\n",
              "          await google.colab.output.renderOutput(dataTable, element);\n",
              "          const docLink = document.createElement('div');\n",
              "          docLink.innerHTML = docLinkHtml;\n",
              "          element.appendChild(docLink);\n",
              "        }\n",
              "      </script>\n",
              "    </div>\n",
              "  </div>\n",
              "  "
            ]
          },
          "metadata": {},
          "execution_count": 24
        }
      ]
    },
    {
      "cell_type": "markdown",
      "source": [
        "## Disease Description"
      ],
      "metadata": {
        "id": "P-OC---n5g1z"
      }
    },
    {
      "cell_type": "code",
      "source": [
        "description = pd.read_csv('/content/drive/MyDrive/CapstoneProjectBangkitMachineLearning/Data/symptom_Description.csv')\n",
        "description.head()"
      ],
      "metadata": {
        "colab": {
          "base_uri": "https://localhost:8080/"
        },
        "id": "jC2ujRpkV9ow",
        "outputId": "a065727f-d284-4794-c0d3-f199a4f8e9b9"
      },
      "execution_count": null,
      "outputs": [
        {
          "output_type": "execute_result",
          "data": {
            "text/plain": [
              "          Disease                                        Description\n",
              "0   Drug Reaction  An adverse drug reaction (ADR) is an injury ca...\n",
              "1         Malaria  An infectious disease caused by protozoan para...\n",
              "2         Allergy  An allergy is an immune system response to a f...\n",
              "3  Hypothyroidism  Hypothyroidism, also called underactive thyroi...\n",
              "4       Psoriasis  Psoriasis is a common skin disorder that forms..."
            ],
            "text/html": [
              "\n",
              "  <div id=\"df-61903d2a-a632-43b2-8ba5-2a2cdd43630d\">\n",
              "    <div class=\"colab-df-container\">\n",
              "      <div>\n",
              "<style scoped>\n",
              "    .dataframe tbody tr th:only-of-type {\n",
              "        vertical-align: middle;\n",
              "    }\n",
              "\n",
              "    .dataframe tbody tr th {\n",
              "        vertical-align: top;\n",
              "    }\n",
              "\n",
              "    .dataframe thead th {\n",
              "        text-align: right;\n",
              "    }\n",
              "</style>\n",
              "<table border=\"1\" class=\"dataframe\">\n",
              "  <thead>\n",
              "    <tr style=\"text-align: right;\">\n",
              "      <th></th>\n",
              "      <th>Disease</th>\n",
              "      <th>Description</th>\n",
              "    </tr>\n",
              "  </thead>\n",
              "  <tbody>\n",
              "    <tr>\n",
              "      <th>0</th>\n",
              "      <td>Drug Reaction</td>\n",
              "      <td>An adverse drug reaction (ADR) is an injury ca...</td>\n",
              "    </tr>\n",
              "    <tr>\n",
              "      <th>1</th>\n",
              "      <td>Malaria</td>\n",
              "      <td>An infectious disease caused by protozoan para...</td>\n",
              "    </tr>\n",
              "    <tr>\n",
              "      <th>2</th>\n",
              "      <td>Allergy</td>\n",
              "      <td>An allergy is an immune system response to a f...</td>\n",
              "    </tr>\n",
              "    <tr>\n",
              "      <th>3</th>\n",
              "      <td>Hypothyroidism</td>\n",
              "      <td>Hypothyroidism, also called underactive thyroi...</td>\n",
              "    </tr>\n",
              "    <tr>\n",
              "      <th>4</th>\n",
              "      <td>Psoriasis</td>\n",
              "      <td>Psoriasis is a common skin disorder that forms...</td>\n",
              "    </tr>\n",
              "  </tbody>\n",
              "</table>\n",
              "</div>\n",
              "      <button class=\"colab-df-convert\" onclick=\"convertToInteractive('df-61903d2a-a632-43b2-8ba5-2a2cdd43630d')\"\n",
              "              title=\"Convert this dataframe to an interactive table.\"\n",
              "              style=\"display:none;\">\n",
              "        \n",
              "  <svg xmlns=\"http://www.w3.org/2000/svg\" height=\"24px\"viewBox=\"0 0 24 24\"\n",
              "       width=\"24px\">\n",
              "    <path d=\"M0 0h24v24H0V0z\" fill=\"none\"/>\n",
              "    <path d=\"M18.56 5.44l.94 2.06.94-2.06 2.06-.94-2.06-.94-.94-2.06-.94 2.06-2.06.94zm-11 1L8.5 8.5l.94-2.06 2.06-.94-2.06-.94L8.5 2.5l-.94 2.06-2.06.94zm10 10l.94 2.06.94-2.06 2.06-.94-2.06-.94-.94-2.06-.94 2.06-2.06.94z\"/><path d=\"M17.41 7.96l-1.37-1.37c-.4-.4-.92-.59-1.43-.59-.52 0-1.04.2-1.43.59L10.3 9.45l-7.72 7.72c-.78.78-.78 2.05 0 2.83L4 21.41c.39.39.9.59 1.41.59.51 0 1.02-.2 1.41-.59l7.78-7.78 2.81-2.81c.8-.78.8-2.07 0-2.86zM5.41 20L4 18.59l7.72-7.72 1.47 1.35L5.41 20z\"/>\n",
              "  </svg>\n",
              "      </button>\n",
              "      \n",
              "  <style>\n",
              "    .colab-df-container {\n",
              "      display:flex;\n",
              "      flex-wrap:wrap;\n",
              "      gap: 12px;\n",
              "    }\n",
              "\n",
              "    .colab-df-convert {\n",
              "      background-color: #E8F0FE;\n",
              "      border: none;\n",
              "      border-radius: 50%;\n",
              "      cursor: pointer;\n",
              "      display: none;\n",
              "      fill: #1967D2;\n",
              "      height: 32px;\n",
              "      padding: 0 0 0 0;\n",
              "      width: 32px;\n",
              "    }\n",
              "\n",
              "    .colab-df-convert:hover {\n",
              "      background-color: #E2EBFA;\n",
              "      box-shadow: 0px 1px 2px rgba(60, 64, 67, 0.3), 0px 1px 3px 1px rgba(60, 64, 67, 0.15);\n",
              "      fill: #174EA6;\n",
              "    }\n",
              "\n",
              "    [theme=dark] .colab-df-convert {\n",
              "      background-color: #3B4455;\n",
              "      fill: #D2E3FC;\n",
              "    }\n",
              "\n",
              "    [theme=dark] .colab-df-convert:hover {\n",
              "      background-color: #434B5C;\n",
              "      box-shadow: 0px 1px 3px 1px rgba(0, 0, 0, 0.15);\n",
              "      filter: drop-shadow(0px 1px 2px rgba(0, 0, 0, 0.3));\n",
              "      fill: #FFFFFF;\n",
              "    }\n",
              "  </style>\n",
              "\n",
              "      <script>\n",
              "        const buttonEl =\n",
              "          document.querySelector('#df-61903d2a-a632-43b2-8ba5-2a2cdd43630d button.colab-df-convert');\n",
              "        buttonEl.style.display =\n",
              "          google.colab.kernel.accessAllowed ? 'block' : 'none';\n",
              "\n",
              "        async function convertToInteractive(key) {\n",
              "          const element = document.querySelector('#df-61903d2a-a632-43b2-8ba5-2a2cdd43630d');\n",
              "          const dataTable =\n",
              "            await google.colab.kernel.invokeFunction('convertToInteractive',\n",
              "                                                     [key], {});\n",
              "          if (!dataTable) return;\n",
              "\n",
              "          const docLinkHtml = 'Like what you see? Visit the ' +\n",
              "            '<a target=\"_blank\" href=https://colab.research.google.com/notebooks/data_table.ipynb>data table notebook</a>'\n",
              "            + ' to learn more about interactive tables.';\n",
              "          element.innerHTML = '';\n",
              "          dataTable['output_type'] = 'display_data';\n",
              "          await google.colab.output.renderOutput(dataTable, element);\n",
              "          const docLink = document.createElement('div');\n",
              "          docLink.innerHTML = docLinkHtml;\n",
              "          element.appendChild(docLink);\n",
              "        }\n",
              "      </script>\n",
              "    </div>\n",
              "  </div>\n",
              "  "
            ]
          },
          "metadata": {},
          "execution_count": 25
        }
      ]
    },
    {
      "cell_type": "markdown",
      "source": [
        "## Disease Precaution"
      ],
      "metadata": {
        "id": "y1g5KPCE5pIL"
      }
    },
    {
      "cell_type": "code",
      "source": [
        "precaution = pd.read_csv('/content/drive/MyDrive/CapstoneProjectBangkitMachineLearning/Data/symptom_precaution.csv')\n",
        "precaution.head()"
      ],
      "metadata": {
        "colab": {
          "base_uri": "https://localhost:8080/"
        },
        "id": "C8fJWtloWTSw",
        "outputId": "c9e1bbbe-815b-471e-da1b-1ebd44374df4"
      },
      "execution_count": null,
      "outputs": [
        {
          "output_type": "execute_result",
          "data": {
            "text/plain": [
              "          Disease                      Precaution_1  \\\n",
              "0   Drug Reaction                   stop irritation   \n",
              "1         Malaria          Consult nearest hospital   \n",
              "2         Allergy                    apply calamine   \n",
              "3  Hypothyroidism                     reduce stress   \n",
              "4       Psoriasis  wash hands with warm soapy water   \n",
              "\n",
              "                   Precaution_2        Precaution_3  \\\n",
              "0      consult nearest hospital    stop taking drug   \n",
              "1               avoid oily food  avoid non veg food   \n",
              "2       cover area with bandage                 NaN   \n",
              "3                      exercise         eat healthy   \n",
              "4  stop bleeding using pressure      consult doctor   \n",
              "\n",
              "                  Precaution_4  \n",
              "0                    follow up  \n",
              "1           keep mosquitos out  \n",
              "2  use ice to compress itching  \n",
              "3             get proper sleep  \n",
              "4                   salt baths  "
            ],
            "text/html": [
              "\n",
              "  <div id=\"df-8a9f32aa-fb2b-4ee0-9322-6039ad9d502d\">\n",
              "    <div class=\"colab-df-container\">\n",
              "      <div>\n",
              "<style scoped>\n",
              "    .dataframe tbody tr th:only-of-type {\n",
              "        vertical-align: middle;\n",
              "    }\n",
              "\n",
              "    .dataframe tbody tr th {\n",
              "        vertical-align: top;\n",
              "    }\n",
              "\n",
              "    .dataframe thead th {\n",
              "        text-align: right;\n",
              "    }\n",
              "</style>\n",
              "<table border=\"1\" class=\"dataframe\">\n",
              "  <thead>\n",
              "    <tr style=\"text-align: right;\">\n",
              "      <th></th>\n",
              "      <th>Disease</th>\n",
              "      <th>Precaution_1</th>\n",
              "      <th>Precaution_2</th>\n",
              "      <th>Precaution_3</th>\n",
              "      <th>Precaution_4</th>\n",
              "    </tr>\n",
              "  </thead>\n",
              "  <tbody>\n",
              "    <tr>\n",
              "      <th>0</th>\n",
              "      <td>Drug Reaction</td>\n",
              "      <td>stop irritation</td>\n",
              "      <td>consult nearest hospital</td>\n",
              "      <td>stop taking drug</td>\n",
              "      <td>follow up</td>\n",
              "    </tr>\n",
              "    <tr>\n",
              "      <th>1</th>\n",
              "      <td>Malaria</td>\n",
              "      <td>Consult nearest hospital</td>\n",
              "      <td>avoid oily food</td>\n",
              "      <td>avoid non veg food</td>\n",
              "      <td>keep mosquitos out</td>\n",
              "    </tr>\n",
              "    <tr>\n",
              "      <th>2</th>\n",
              "      <td>Allergy</td>\n",
              "      <td>apply calamine</td>\n",
              "      <td>cover area with bandage</td>\n",
              "      <td>NaN</td>\n",
              "      <td>use ice to compress itching</td>\n",
              "    </tr>\n",
              "    <tr>\n",
              "      <th>3</th>\n",
              "      <td>Hypothyroidism</td>\n",
              "      <td>reduce stress</td>\n",
              "      <td>exercise</td>\n",
              "      <td>eat healthy</td>\n",
              "      <td>get proper sleep</td>\n",
              "    </tr>\n",
              "    <tr>\n",
              "      <th>4</th>\n",
              "      <td>Psoriasis</td>\n",
              "      <td>wash hands with warm soapy water</td>\n",
              "      <td>stop bleeding using pressure</td>\n",
              "      <td>consult doctor</td>\n",
              "      <td>salt baths</td>\n",
              "    </tr>\n",
              "  </tbody>\n",
              "</table>\n",
              "</div>\n",
              "      <button class=\"colab-df-convert\" onclick=\"convertToInteractive('df-8a9f32aa-fb2b-4ee0-9322-6039ad9d502d')\"\n",
              "              title=\"Convert this dataframe to an interactive table.\"\n",
              "              style=\"display:none;\">\n",
              "        \n",
              "  <svg xmlns=\"http://www.w3.org/2000/svg\" height=\"24px\"viewBox=\"0 0 24 24\"\n",
              "       width=\"24px\">\n",
              "    <path d=\"M0 0h24v24H0V0z\" fill=\"none\"/>\n",
              "    <path d=\"M18.56 5.44l.94 2.06.94-2.06 2.06-.94-2.06-.94-.94-2.06-.94 2.06-2.06.94zm-11 1L8.5 8.5l.94-2.06 2.06-.94-2.06-.94L8.5 2.5l-.94 2.06-2.06.94zm10 10l.94 2.06.94-2.06 2.06-.94-2.06-.94-.94-2.06-.94 2.06-2.06.94z\"/><path d=\"M17.41 7.96l-1.37-1.37c-.4-.4-.92-.59-1.43-.59-.52 0-1.04.2-1.43.59L10.3 9.45l-7.72 7.72c-.78.78-.78 2.05 0 2.83L4 21.41c.39.39.9.59 1.41.59.51 0 1.02-.2 1.41-.59l7.78-7.78 2.81-2.81c.8-.78.8-2.07 0-2.86zM5.41 20L4 18.59l7.72-7.72 1.47 1.35L5.41 20z\"/>\n",
              "  </svg>\n",
              "      </button>\n",
              "      \n",
              "  <style>\n",
              "    .colab-df-container {\n",
              "      display:flex;\n",
              "      flex-wrap:wrap;\n",
              "      gap: 12px;\n",
              "    }\n",
              "\n",
              "    .colab-df-convert {\n",
              "      background-color: #E8F0FE;\n",
              "      border: none;\n",
              "      border-radius: 50%;\n",
              "      cursor: pointer;\n",
              "      display: none;\n",
              "      fill: #1967D2;\n",
              "      height: 32px;\n",
              "      padding: 0 0 0 0;\n",
              "      width: 32px;\n",
              "    }\n",
              "\n",
              "    .colab-df-convert:hover {\n",
              "      background-color: #E2EBFA;\n",
              "      box-shadow: 0px 1px 2px rgba(60, 64, 67, 0.3), 0px 1px 3px 1px rgba(60, 64, 67, 0.15);\n",
              "      fill: #174EA6;\n",
              "    }\n",
              "\n",
              "    [theme=dark] .colab-df-convert {\n",
              "      background-color: #3B4455;\n",
              "      fill: #D2E3FC;\n",
              "    }\n",
              "\n",
              "    [theme=dark] .colab-df-convert:hover {\n",
              "      background-color: #434B5C;\n",
              "      box-shadow: 0px 1px 3px 1px rgba(0, 0, 0, 0.15);\n",
              "      filter: drop-shadow(0px 1px 2px rgba(0, 0, 0, 0.3));\n",
              "      fill: #FFFFFF;\n",
              "    }\n",
              "  </style>\n",
              "\n",
              "      <script>\n",
              "        const buttonEl =\n",
              "          document.querySelector('#df-8a9f32aa-fb2b-4ee0-9322-6039ad9d502d button.colab-df-convert');\n",
              "        buttonEl.style.display =\n",
              "          google.colab.kernel.accessAllowed ? 'block' : 'none';\n",
              "\n",
              "        async function convertToInteractive(key) {\n",
              "          const element = document.querySelector('#df-8a9f32aa-fb2b-4ee0-9322-6039ad9d502d');\n",
              "          const dataTable =\n",
              "            await google.colab.kernel.invokeFunction('convertToInteractive',\n",
              "                                                     [key], {});\n",
              "          if (!dataTable) return;\n",
              "\n",
              "          const docLinkHtml = 'Like what you see? Visit the ' +\n",
              "            '<a target=\"_blank\" href=https://colab.research.google.com/notebooks/data_table.ipynb>data table notebook</a>'\n",
              "            + ' to learn more about interactive tables.';\n",
              "          element.innerHTML = '';\n",
              "          dataTable['output_type'] = 'display_data';\n",
              "          await google.colab.output.renderOutput(dataTable, element);\n",
              "          const docLink = document.createElement('div');\n",
              "          docLink.innerHTML = docLinkHtml;\n",
              "          element.appendChild(docLink);\n",
              "        }\n",
              "      </script>\n",
              "    </div>\n",
              "  </div>\n",
              "  "
            ]
          },
          "metadata": {},
          "execution_count": 26
        }
      ]
    },
    {
      "cell_type": "markdown",
      "source": [
        "# Data Cleaning"
      ],
      "metadata": {
        "id": "kWSWHO647auo"
      }
    },
    {
      "cell_type": "code",
      "source": [
        "# Replace spaces with \"_\" and remove spaces to the left and right of the string\n",
        "def substitute_spaces(string):\n",
        "  if isinstance(string, str):\n",
        "    string = string.strip()\n",
        "    #string = re.sub(\" \",\"_\",string)\n",
        "  return string"
      ],
      "metadata": {
        "id": "JdJfqtvc7wpI"
      },
      "execution_count": null,
      "outputs": []
    },
    {
      "cell_type": "code",
      "source": [
        "for cols in symptoms.columns:\n",
        "  symptoms[cols] = symptoms[cols].apply(substitute_spaces)\n",
        "for cols in severity.columns:\n",
        "  severity[cols] = severity[cols].apply(substitute_spaces)\n",
        "for cols in description.columns:\n",
        "  description[cols] = description[cols].apply(substitute_spaces)\n",
        "for cols in precaution.columns:\n",
        "  precaution[cols] = precaution[cols].apply(substitute_spaces)"
      ],
      "metadata": {
        "id": "MUViunBSLImo"
      },
      "execution_count": null,
      "outputs": []
    },
    {
      "cell_type": "code",
      "source": [
        "description.loc[description['Disease'] == 'Dimorphic hemorrhoids(piles)', 'Disease'] = 'Dimorphic hemorrhoids (piles)'\n",
        "symptoms.loc[symptoms['Disease'] == 'Dimorphic hemmorhoids(piles)', 'Disease'] = 'Dimorphic hemorrhoids (piles)'\n",
        "precaution.loc[precaution['Disease'] == 'Dimorphic hemmorhoids(piles)', 'Disease'] = 'Dimorphic hemorrhoids (piles)'"
      ],
      "metadata": {
        "id": "drPiPC4cEkXW"
      },
      "execution_count": null,
      "outputs": []
    },
    {
      "cell_type": "code",
      "source": [
        "# severity['Symptom'] = severity['Symptom'].str.replace(\"_\", \" \")"
      ],
      "metadata": {
        "id": "PbQIohfntSOH"
      },
      "execution_count": null,
      "outputs": []
    },
    {
      "cell_type": "markdown",
      "source": [
        "#Combine Data and Translate Data"
      ],
      "metadata": {
        "id": "G6__QCHmIMR2"
      }
    },
    {
      "cell_type": "markdown",
      "source": [
        "## Combination Data"
      ],
      "metadata": {
        "id": "ODQ2Qo9EA22k"
      }
    },
    {
      "cell_type": "code",
      "source": [
        "combination = pd.merge(description, precaution, on='Disease')\n",
        "combination['Precaution'] = combination['Precaution_1'].fillna('') + ', ' + combination['Precaution_2'].fillna('') + ', ' + combination['Precaution_3'].fillna('') + ', ' + combination['Precaution_4'].fillna('')\n",
        "combination = combination.drop(['Precaution_1','Precaution_2','Precaution_3','Precaution_4'], axis=1)\n",
        "combination['id'] = combination.index\n",
        "combination = combination[['id', 'Disease', 'Description', 'Precaution']]"
      ],
      "metadata": {
        "id": "em_x0ZGiBUiw"
      },
      "execution_count": null,
      "outputs": []
    },
    {
      "cell_type": "code",
      "source": [
        "combination.shape"
      ],
      "metadata": {
        "colab": {
          "base_uri": "https://localhost:8080/"
        },
        "id": "qrTuYDHSB9tS",
        "outputId": "96260674-9f1d-49ec-cd84-e8e6f21edb5b"
      },
      "execution_count": null,
      "outputs": [
        {
          "output_type": "execute_result",
          "data": {
            "text/plain": [
              "(41, 4)"
            ]
          },
          "metadata": {},
          "execution_count": 32
        }
      ]
    },
    {
      "cell_type": "markdown",
      "source": [
        "## Translated Data"
      ],
      "metadata": {
        "id": "3UBwgub-Icku"
      }
    },
    {
      "cell_type": "code",
      "source": [
        "translator = Translator(service_urls=['translate.googleapis.com'])\n",
        "def translate_text(text, src_lang, dest_lang):\n",
        "    translated = translator.translate(text, src=src_lang, dest=dest_lang)\n",
        "    return translated.text"
      ],
      "metadata": {
        "id": "453l9VcqtawN"
      },
      "execution_count": null,
      "outputs": []
    },
    {
      "cell_type": "code",
      "source": [
        "severity_translated = severity.copy()"
      ],
      "metadata": {
        "id": "G-ybsQ38z3pz"
      },
      "execution_count": null,
      "outputs": []
    },
    {
      "cell_type": "code",
      "source": [
        "for cols in severity.columns:\n",
        "  severity_translated[cols] = severity[cols].apply(lambda x: translate_text(x, 'en', 'id'))"
      ],
      "metadata": {
        "id": "c2QTt8bdzczV"
      },
      "execution_count": null,
      "outputs": []
    },
    {
      "cell_type": "code",
      "source": [
        "combination_translated = combination.copy()"
      ],
      "metadata": {
        "id": "g6OZX8nUyeZd"
      },
      "execution_count": null,
      "outputs": []
    },
    {
      "cell_type": "code",
      "source": [
        "for cols in combination.columns:\n",
        "  combination_translated[cols] = combination[cols].apply(lambda x: translate_text(x, 'en', 'id'))"
      ],
      "metadata": {
        "id": "3qhESFXvt21n"
      },
      "execution_count": null,
      "outputs": []
    },
    {
      "cell_type": "markdown",
      "source": [
        "#Data Preprocessing"
      ],
      "metadata": {
        "id": "n46MsDwtxpiN"
      }
    },
    {
      "cell_type": "code",
      "source": [
        "# Matching with symptoms data in severity\n",
        "def matched_data(values):\n",
        "  values = severity.loc[severity['Symptom'] == values]['weight']\n",
        "  if len(values) > 0:\n",
        "    return values.iloc[0]  # Return the first matching value\n",
        "  else:\n",
        "    return 0"
      ],
      "metadata": {
        "id": "wxSlevYAqa3b"
      },
      "execution_count": null,
      "outputs": []
    },
    {
      "cell_type": "code",
      "source": [
        "cols = ['Symptom_1', 'Symptom_2', 'Symptom_3', 'Symptom_4', 'Symptom_5',\n",
        "        'Symptom_6', 'Symptom_7', 'Symptom_8', 'Symptom_9', 'Symptom_10',\n",
        "        'Symptom_11', 'Symptom_12', 'Symptom_13', 'Symptom_14', 'Symptom_15',\n",
        "        'Symptom_16', 'Symptom_17']\n",
        "\n",
        "for i in cols:\n",
        "  symptoms[i] = symptoms[i].apply(matched_data)"
      ],
      "metadata": {
        "id": "rqC8YnANr6kf"
      },
      "execution_count": null,
      "outputs": []
    },
    {
      "cell_type": "code",
      "source": [
        "# Matching with symptoms data in description\n",
        "def label_encoding(values):\n",
        "  for i in combination.index:\n",
        "    if values == combination['Disease'].iloc[i]:\n",
        "      values = i\n",
        "  return values"
      ],
      "metadata": {
        "id": "9860wuAB5gW0"
      },
      "execution_count": null,
      "outputs": []
    },
    {
      "cell_type": "code",
      "source": [
        "symptoms['Disease'] = symptoms['Disease'].apply(label_encoding)"
      ],
      "metadata": {
        "id": "0hGeZWgA_l_v"
      },
      "execution_count": null,
      "outputs": []
    },
    {
      "cell_type": "code",
      "source": [
        "X = symptoms.drop(['Disease'], axis = 1)\n",
        "y = symptoms['Disease']"
      ],
      "metadata": {
        "id": "JfvmvsKW_-yo"
      },
      "execution_count": null,
      "outputs": []
    },
    {
      "cell_type": "code",
      "source": [
        "# description.to_csv('/content/drive/MyDrive/CapstoneProjectBangkitMachineLearning/DataProcessed/description.csv',index=True)\n",
        "# symptoms.to_csv('/content/drive/MyDrive/CapstoneProjectBangkitMachineLearning/DataProcessed/symptoms.csv',index=True)\n",
        "# precaution.to_csv('/content/drive/MyDrive/CapstoneProjectBangkitMachineLearning/DataProcessed/precaution.csv',index=True)\n",
        "# severity.to_csv('/content/drive/MyDrive/CapstoneProjectBangkitMachineLearning/DataProcessed/severity.csv',index=True)"
      ],
      "metadata": {
        "id": "mKvhnAjg9wQq"
      },
      "execution_count": null,
      "outputs": []
    },
    {
      "cell_type": "markdown",
      "source": [
        "# Neural Networks with TensorFlow"
      ],
      "metadata": {
        "id": "qjFAkqW0ARxm"
      }
    },
    {
      "cell_type": "markdown",
      "source": [
        "##Single Validation"
      ],
      "metadata": {
        "id": "7Ys9tYMmZCO6"
      }
    },
    {
      "cell_type": "code",
      "source": [
        "X_train, X_test, y_train, y_test = train_test_split(X, y, test_size=0.2, random_state=123)\n",
        "print(X_train.shape, y_train.shape, X_test.shape, y_test.shape)"
      ],
      "metadata": {
        "colab": {
          "base_uri": "https://localhost:8080/"
        },
        "id": "CscHVCRNZQz4",
        "outputId": "5f6b63eb-01fa-4ef8-8a7f-f2814521ef67"
      },
      "execution_count": null,
      "outputs": [
        {
          "output_type": "stream",
          "name": "stdout",
          "text": [
            "(3936, 17) (3936,) (984, 17) (984,)\n"
          ]
        }
      ]
    },
    {
      "cell_type": "code",
      "source": [
        "tf.random.set_seed(123)\n",
        "num_labels = 41\n",
        "\n",
        "# Define your model architecture\n",
        "model = tf.keras.models.Sequential([\n",
        "    tf.keras.layers.Dense(100, activation='relu', input_shape=(X.shape[1],)),\n",
        "    tf.keras.layers.Dense(64, activation='relu'),\n",
        "    tf.keras.layers.Dense(num_labels, activation='softmax')\n",
        "])\n",
        "\n",
        "# Compile the model\n",
        "model.compile(optimizer='adam',\n",
        "              loss='sparse_categorical_crossentropy',\n",
        "              metrics=['accuracy'])\n"
      ],
      "metadata": {
        "id": "vBQIX07pacL-"
      },
      "execution_count": null,
      "outputs": []
    },
    {
      "cell_type": "code",
      "source": [
        "model.summary()"
      ],
      "metadata": {
        "colab": {
          "base_uri": "https://localhost:8080/"
        },
        "id": "aP9dcUM0aw1E",
        "outputId": "ba6b8cd9-ad63-47f1-8462-b1f63866ce6d"
      },
      "execution_count": null,
      "outputs": [
        {
          "output_type": "stream",
          "name": "stdout",
          "text": [
            "Model: \"sequential\"\n",
            "_________________________________________________________________\n",
            " Layer (type)                Output Shape              Param #   \n",
            "=================================================================\n",
            " dense (Dense)               (None, 100)               1800      \n",
            "                                                                 \n",
            " dense_1 (Dense)             (None, 64)                6464      \n",
            "                                                                 \n",
            " dense_2 (Dense)             (None, 41)                2665      \n",
            "                                                                 \n",
            "=================================================================\n",
            "Total params: 10,929\n",
            "Trainable params: 10,929\n",
            "Non-trainable params: 0\n",
            "_________________________________________________________________\n"
          ]
        }
      ]
    },
    {
      "cell_type": "code",
      "source": [
        "# Train the model\n",
        "\n",
        "early_stopping = tf.keras.callbacks.EarlyStopping(\n",
        "    monitor='val_loss',\n",
        "    patience=3,\n",
        "    verbose=1,\n",
        ")\n",
        "\n",
        "history = model.fit(X_train, y_train, epochs=200, batch_size=32, validation_data=(X_test, y_test), callbacks=[early_stopping])\n",
        "\n",
        "# Evaluate the model\n",
        "loss, accuracy = model.evaluate(X_test, y_test, batch_size=32)\n",
        "print(f\"Validation loss: {loss}\")\n",
        "print(f\"Validation accuracy: {accuracy}\")"
      ],
      "metadata": {
        "colab": {
          "base_uri": "https://localhost:8080/"
        },
        "id": "8wPZwjzIaxLN",
        "outputId": "215c33ce-3a76-4d4a-f003-d98547e9da52"
      },
      "execution_count": null,
      "outputs": [
        {
          "output_type": "stream",
          "name": "stdout",
          "text": [
            "Epoch 1/200\n",
            "123/123 [==============================] - 1s 4ms/step - loss: 2.7004 - accuracy: 0.3272 - val_loss: 1.7472 - val_accuracy: 0.5356\n",
            "Epoch 2/200\n",
            "123/123 [==============================] - 0s 3ms/step - loss: 1.2413 - accuracy: 0.6903 - val_loss: 0.9604 - val_accuracy: 0.7947\n",
            "Epoch 3/200\n",
            "123/123 [==============================] - 0s 3ms/step - loss: 0.7617 - accuracy: 0.8328 - val_loss: 0.6636 - val_accuracy: 0.8689\n",
            "Epoch 4/200\n",
            "123/123 [==============================] - 0s 3ms/step - loss: 0.5450 - accuracy: 0.8780 - val_loss: 0.5192 - val_accuracy: 0.8902\n",
            "Epoch 5/200\n",
            "123/123 [==============================] - 0s 3ms/step - loss: 0.4320 - accuracy: 0.8956 - val_loss: 0.4374 - val_accuracy: 0.9024\n",
            "Epoch 6/200\n",
            "123/123 [==============================] - 0s 2ms/step - loss: 0.3526 - accuracy: 0.9154 - val_loss: 0.3394 - val_accuracy: 0.9299\n",
            "Epoch 7/200\n",
            "123/123 [==============================] - 0s 2ms/step - loss: 0.2922 - accuracy: 0.9299 - val_loss: 0.3020 - val_accuracy: 0.9329\n",
            "Epoch 8/200\n",
            "123/123 [==============================] - 0s 2ms/step - loss: 0.2465 - accuracy: 0.9395 - val_loss: 0.2543 - val_accuracy: 0.9309\n",
            "Epoch 9/200\n",
            "123/123 [==============================] - 0s 2ms/step - loss: 0.2088 - accuracy: 0.9479 - val_loss: 0.2091 - val_accuracy: 0.9350\n",
            "Epoch 10/200\n",
            "123/123 [==============================] - 0s 2ms/step - loss: 0.1830 - accuracy: 0.9558 - val_loss: 0.1895 - val_accuracy: 0.9522\n",
            "Epoch 11/200\n",
            "123/123 [==============================] - 0s 2ms/step - loss: 0.1610 - accuracy: 0.9621 - val_loss: 0.1703 - val_accuracy: 0.9553\n",
            "Epoch 12/200\n",
            "123/123 [==============================] - 0s 2ms/step - loss: 0.1446 - accuracy: 0.9647 - val_loss: 0.1484 - val_accuracy: 0.9624\n",
            "Epoch 13/200\n",
            "123/123 [==============================] - 0s 2ms/step - loss: 0.1263 - accuracy: 0.9700 - val_loss: 0.1353 - val_accuracy: 0.9705\n",
            "Epoch 14/200\n",
            "123/123 [==============================] - 0s 3ms/step - loss: 0.1148 - accuracy: 0.9721 - val_loss: 0.1231 - val_accuracy: 0.9665\n",
            "Epoch 15/200\n",
            "123/123 [==============================] - 0s 2ms/step - loss: 0.1074 - accuracy: 0.9748 - val_loss: 0.1073 - val_accuracy: 0.9736\n",
            "Epoch 16/200\n",
            "123/123 [==============================] - 0s 3ms/step - loss: 0.0938 - accuracy: 0.9764 - val_loss: 0.1101 - val_accuracy: 0.9665\n",
            "Epoch 17/200\n",
            "123/123 [==============================] - 1s 4ms/step - loss: 0.0855 - accuracy: 0.9789 - val_loss: 0.0969 - val_accuracy: 0.9766\n",
            "Epoch 18/200\n",
            "123/123 [==============================] - 0s 4ms/step - loss: 0.0759 - accuracy: 0.9809 - val_loss: 0.0788 - val_accuracy: 0.9848\n",
            "Epoch 19/200\n",
            "123/123 [==============================] - 0s 3ms/step - loss: 0.0728 - accuracy: 0.9815 - val_loss: 0.0891 - val_accuracy: 0.9776\n",
            "Epoch 20/200\n",
            "123/123 [==============================] - 0s 3ms/step - loss: 0.0675 - accuracy: 0.9825 - val_loss: 0.0750 - val_accuracy: 0.9807\n",
            "Epoch 21/200\n",
            "123/123 [==============================] - 0s 4ms/step - loss: 0.0625 - accuracy: 0.9812 - val_loss: 0.0665 - val_accuracy: 0.9837\n",
            "Epoch 22/200\n",
            "123/123 [==============================] - 0s 4ms/step - loss: 0.0546 - accuracy: 0.9873 - val_loss: 0.0668 - val_accuracy: 0.9787\n",
            "Epoch 23/200\n",
            "123/123 [==============================] - 1s 4ms/step - loss: 0.0513 - accuracy: 0.9853 - val_loss: 0.0591 - val_accuracy: 0.9919\n",
            "Epoch 24/200\n",
            "123/123 [==============================] - 0s 3ms/step - loss: 0.0525 - accuracy: 0.9855 - val_loss: 0.0714 - val_accuracy: 0.9726\n",
            "Epoch 25/200\n",
            "123/123 [==============================] - 0s 2ms/step - loss: 0.0470 - accuracy: 0.9878 - val_loss: 0.0472 - val_accuracy: 0.9909\n",
            "Epoch 26/200\n",
            "123/123 [==============================] - 0s 3ms/step - loss: 0.0447 - accuracy: 0.9881 - val_loss: 0.0459 - val_accuracy: 0.9878\n",
            "Epoch 27/200\n",
            "123/123 [==============================] - 0s 2ms/step - loss: 0.0434 - accuracy: 0.9881 - val_loss: 0.0502 - val_accuracy: 0.9878\n",
            "Epoch 28/200\n",
            "123/123 [==============================] - 0s 3ms/step - loss: 0.0417 - accuracy: 0.9888 - val_loss: 0.0647 - val_accuracy: 0.9756\n",
            "Epoch 29/200\n",
            "123/123 [==============================] - 0s 3ms/step - loss: 0.0404 - accuracy: 0.9896 - val_loss: 0.0583 - val_accuracy: 0.9817\n",
            "Epoch 29: early stopping\n",
            "31/31 [==============================] - 0s 3ms/step - loss: 0.0583 - accuracy: 0.9817\n",
            "Validation loss: 0.058322761207818985\n",
            "Validation accuracy: 0.9817073345184326\n"
          ]
        }
      ]
    },
    {
      "cell_type": "code",
      "source": [
        "history_df = pd.DataFrame(history.history)\n",
        "history_df.loc[:, ['loss', 'val_loss']].plot(title=\"Loss\")\n",
        "history_df.loc[:, ['accuracy', 'val_accuracy']].plot(title=\"Accuracy\")"
      ],
      "metadata": {
        "colab": {
          "base_uri": "https://localhost:8080/",
          "height": 904
        },
        "id": "-viHN0YfbP93",
        "outputId": "b0fa575e-40c7-4c05-9a4d-3e60176c3e9d"
      },
      "execution_count": null,
      "outputs": [
        {
          "output_type": "execute_result",
          "data": {
            "text/plain": [
              "<Axes: title={'center': 'Accuracy'}>"
            ]
          },
          "metadata": {},
          "execution_count": 48
        },
        {
          "output_type": "display_data",
          "data": {
            "text/plain": [
              "<Figure size 640x480 with 1 Axes>"
            ],
            "image/png": "[encoded data removed]"
          },
          "metadata": {}
        },
        {
          "output_type": "display_data",
          "data": {
            "text/plain": [
              "<Figure size 640x480 with 1 Axes>"
            ],
            "image/png": "[encoded data removed]"
          },
          "metadata": {}
        }
      ]
    },
    {
      "cell_type": "markdown",
      "source": [
        "##StratifiedKFold"
      ],
      "metadata": {
        "id": "hALQCZM43SzL"
      }
    },
    {
      "cell_type": "code",
      "source": [
        "# Define your model architecture\n",
        "tf.random.set_seed(123)\n",
        "num_labels = 41\n",
        "\n",
        "model = tf.keras.models.Sequential([\n",
        "    tf.keras.layers.Dense(100, activation='relu', input_shape=(X.shape[1],)),\n",
        "    tf.keras.layers.Dense(64, activation='relu'),\n",
        "    tf.keras.layers.Dense(num_labels, activation='softmax')\n",
        "])\n",
        "\n",
        "# Compile the model\n",
        "model.compile(optimizer= tf.keras.optimizers.Adam(),\n",
        "              loss='sparse_categorical_crossentropy',\n",
        "              metrics=['accuracy'])"
      ],
      "metadata": {
        "id": "vfpxWOaJp91x"
      },
      "execution_count": null,
      "outputs": []
    },
    {
      "cell_type": "code",
      "source": [
        "model.summary()"
      ],
      "metadata": {
        "colab": {
          "base_uri": "https://localhost:8080/"
        },
        "id": "75K_5tgbqhvn",
        "outputId": "ea9dfc11-0c81-445b-e589-92623cf70b19"
      },
      "execution_count": null,
      "outputs": [
        {
          "output_type": "stream",
          "name": "stdout",
          "text": [
            "Model: \"sequential_1\"\n",
            "_________________________________________________________________\n",
            " Layer (type)                Output Shape              Param #   \n",
            "=================================================================\n",
            " dense_3 (Dense)             (None, 100)               1800      \n",
            "                                                                 \n",
            " dense_4 (Dense)             (None, 64)                6464      \n",
            "                                                                 \n",
            " dense_5 (Dense)             (None, 41)                2665      \n",
            "                                                                 \n",
            "=================================================================\n",
            "Total params: 10,929\n",
            "Trainable params: 10,929\n",
            "Non-trainable params: 0\n",
            "_________________________________________________________________\n"
          ]
        }
      ]
    },
    {
      "cell_type": "code",
      "source": [
        "# Tracking progress\n",
        "folds = []\n",
        "model_list = []\n",
        "exec_time = []\n",
        "train_accuracy_scores = []\n",
        "test_accuracy_scores = []\n",
        "early_stopping = tf.keras.callbacks.EarlyStopping(\n",
        "    monitor='val_loss',\n",
        "    patience=3,\n",
        "    verbose=1,\n",
        ")\n",
        "\n",
        "model_str = 'Neural Network'\n",
        "\n",
        "print(str(model_str).upper())\n",
        "print('--------------------')\n",
        "\n",
        "# Initiate SkF and f1_array\n",
        "skf = StratifiedKFold(n_splits=10)\n",
        "\n",
        "# Cross validation\n",
        "for i, (train_index, test_index) in enumerate(skf.split(X, y)):\n",
        "  # Calculate the starting time\n",
        "  start_time = time.time()\n",
        "\n",
        "  # Append the name model and params\n",
        "  model_list.append(model_str)\n",
        "\n",
        "  # Print index\n",
        "  print(f\"Fold {i+1}:\")\n",
        "  folds.append(i+1)\n",
        "\n",
        "  # Filter the index\n",
        "  X_train_subset = X.iloc[train_index, :]\n",
        "  X_test_subset = X.iloc[test_index, :]\n",
        "  y_train_subset = y[train_index]\n",
        "  y_test_subset = y[test_index]\n",
        "\n",
        "  # Fit the model\n",
        "  model.fit(X_train_subset,\n",
        "            y_train_subset,\n",
        "            epochs=200,\n",
        "            batch_size=32,\n",
        "            validation_data=(X_test_subset, y_test_subset),\n",
        "            verbose = 0,\n",
        "            callbacks=[early_stopping])\n",
        "\n",
        "  # Predict\n",
        "  y_pred_train = model.predict(X_train_subset)\n",
        "  y_pred_test = model.predict(X_test_subset)\n",
        "\n",
        "  # Calculate the f1 score\n",
        "  loss_train, accuracy_train = model.evaluate(X_train_subset, y_train_subset, batch_size=32)\n",
        "  loss_test, accuracy_test = model.evaluate(X_test_subset, y_test_subset, batch_size=32)\n",
        "  print(f\"Train loss: {loss_train}\")\n",
        "  print(f\"Train accuracy: {accuracy_train}\")\n",
        "  print(f\"Validation loss: {loss_test}\")\n",
        "  print(f\"Validation accuracy: {accuracy_test}\")\n",
        "  train_accuracy_scores.append(accuracy_train)\n",
        "  test_accuracy_scores.append(accuracy_test)\n",
        "\n",
        "  # Calculate the end time\n",
        "  end_time = time.time() - start_time\n",
        "  exec_time.append(end_time)\n",
        "  print('')\n",
        "\n",
        "# Cetak rerata dan mediannya\n",
        "print('Rerata Accuracy Training CV:', np.mean(train_accuracy_scores))\n",
        "print('Rerata Accuracy Test CV:', np.mean(test_accuracy_scores))\n",
        "\n",
        "# Buat DataFrame\n",
        "dict_df = {'Model': model_list,\n",
        "            'Fold': folds,\n",
        "            'Training Time': exec_time,\n",
        "            'Train Accuracy': train_accuracy_scores,\n",
        "            'Test Accuracy': test_accuracy_scores}\n",
        "\n",
        "# Combine dataframe\n",
        "nn_df = pd.DataFrame(dict_df)"
      ],
      "metadata": {
        "colab": {
          "base_uri": "https://localhost:8080/"
        },
        "id": "Z_g_nRMnqlzw",
        "outputId": "42def8cd-d7fb-4744-e1ad-4ff050725bb3"
      },
      "execution_count": null,
      "outputs": [
        {
          "output_type": "stream",
          "name": "stdout",
          "text": [
            "NEURAL NETWORK\n",
            "--------------------\n",
            "Fold 1:\n",
            "Epoch 36: early stopping\n",
            "139/139 [==============================] - 0s 2ms/step\n",
            "16/16 [==============================] - 0s 2ms/step\n",
            "139/139 [==============================] - 0s 2ms/step - loss: 0.0283 - accuracy: 0.9921\n",
            "16/16 [==============================] - 0s 3ms/step - loss: 0.0529 - accuracy: 0.9858\n",
            "Train loss: 0.028310375288128853\n",
            "Train accuracy: 0.9920957684516907\n",
            "Validation loss: 0.05290859937667847\n",
            "Validation accuracy: 0.9857723712921143\n",
            "\n",
            "Fold 2:\n",
            "Epoch 5: early stopping\n",
            "139/139 [==============================] - 0s 1ms/step\n",
            "16/16 [==============================] - 0s 1ms/step\n",
            "139/139 [==============================] - 0s 1ms/step - loss: 0.0248 - accuracy: 0.9921\n",
            "16/16 [==============================] - 0s 2ms/step - loss: 0.0479 - accuracy: 0.9858\n",
            "Train loss: 0.024770312011241913\n",
            "Train accuracy: 0.9920957684516907\n",
            "Validation loss: 0.04785638675093651\n",
            "Validation accuracy: 0.9857723712921143\n",
            "\n",
            "Fold 3:\n",
            "Epoch 13: early stopping\n",
            "139/139 [==============================] - 0s 1ms/step\n",
            "16/16 [==============================] - 0s 2ms/step\n",
            "139/139 [==============================] - 0s 1ms/step - loss: 0.0133 - accuracy: 0.9962\n",
            "16/16 [==============================] - 0s 2ms/step - loss: 0.0434 - accuracy: 0.9858\n",
            "Train loss: 0.013346318155527115\n",
            "Train accuracy: 0.9961608052253723\n",
            "Validation loss: 0.043390728533267975\n",
            "Validation accuracy: 0.9857723712921143\n",
            "\n",
            "Fold 4:\n",
            "Epoch 4: early stopping\n",
            "139/139 [==============================] - 0s 1ms/step\n",
            "16/16 [==============================] - 0s 1ms/step\n",
            "139/139 [==============================] - 0s 1ms/step - loss: 0.0237 - accuracy: 0.9937\n",
            "16/16 [==============================] - 0s 2ms/step - loss: 0.0557 - accuracy: 0.9837\n",
            "Train loss: 0.02370692975819111\n",
            "Train accuracy: 0.9936766028404236\n",
            "Validation loss: 0.05574683099985123\n",
            "Validation accuracy: 0.9837398529052734\n",
            "\n",
            "Fold 5:\n",
            "Epoch 4: early stopping\n",
            "139/139 [==============================] - 0s 2ms/step\n",
            "16/16 [==============================] - 0s 2ms/step\n",
            "139/139 [==============================] - 0s 2ms/step - loss: 0.0143 - accuracy: 0.9944\n",
            "16/16 [==============================] - 0s 2ms/step - loss: 0.0272 - accuracy: 0.9898\n",
            "Train loss: 0.014347033575177193\n",
            "Train accuracy: 0.9943541288375854\n",
            "Validation loss: 0.02715504914522171\n",
            "Validation accuracy: 0.9898374080657959\n",
            "\n",
            "Fold 6:\n",
            "Epoch 7: early stopping\n",
            "139/139 [==============================] - 0s 1ms/step\n",
            "16/16 [==============================] - 0s 2ms/step\n",
            "139/139 [==============================] - 0s 2ms/step - loss: 0.0135 - accuracy: 0.9946\n",
            "16/16 [==============================] - 0s 2ms/step - loss: 1.8504e-04 - accuracy: 1.0000\n",
            "Train loss: 0.013519403524696827\n",
            "Train accuracy: 0.9945799708366394\n",
            "Validation loss: 0.0001850378030212596\n",
            "Validation accuracy: 1.0\n",
            "\n",
            "Fold 7:\n",
            "Epoch 10: early stopping\n",
            "139/139 [==============================] - 0s 1ms/step\n",
            "16/16 [==============================] - 0s 1ms/step\n",
            "139/139 [==============================] - 0s 1ms/step - loss: 0.0148 - accuracy: 0.9932\n",
            "16/16 [==============================] - 0s 2ms/step - loss: 2.4290e-04 - accuracy: 1.0000\n",
            "Train loss: 0.014821470715105534\n",
            "Train accuracy: 0.9932249188423157\n",
            "Validation loss: 0.00024290390138048679\n",
            "Validation accuracy: 1.0\n",
            "\n",
            "Fold 8:\n",
            "Epoch 4: early stopping\n",
            "139/139 [==============================] - 0s 2ms/step\n",
            "16/16 [==============================] - 0s 2ms/step\n",
            "139/139 [==============================] - 0s 1ms/step - loss: 0.0182 - accuracy: 0.9946\n",
            "16/16 [==============================] - 0s 2ms/step - loss: 1.0718e-04 - accuracy: 1.0000\n",
            "Train loss: 0.018188802525401115\n",
            "Train accuracy: 0.9945799708366394\n",
            "Validation loss: 0.00010717580880736932\n",
            "Validation accuracy: 1.0\n",
            "\n",
            "Fold 9:\n",
            "Epoch 4: early stopping\n",
            "139/139 [==============================] - 0s 1ms/step\n",
            "16/16 [==============================] - 0s 1ms/step\n",
            "139/139 [==============================] - 0s 2ms/step - loss: 0.0185 - accuracy: 0.9946\n",
            "16/16 [==============================] - 0s 2ms/step - loss: 9.5974e-05 - accuracy: 1.0000\n",
            "Train loss: 0.01853879727423191\n",
            "Train accuracy: 0.9945799708366394\n",
            "Validation loss: 9.59741955739446e-05\n",
            "Validation accuracy: 1.0\n",
            "\n",
            "Fold 10:\n",
            "Epoch 4: early stopping\n",
            "139/139 [==============================] - 0s 1ms/step\n",
            "16/16 [==============================] - 0s 1ms/step\n",
            "139/139 [==============================] - 0s 2ms/step - loss: 0.0169 - accuracy: 0.9946\n",
            "16/16 [==============================] - 0s 2ms/step - loss: 8.6083e-05 - accuracy: 1.0000\n",
            "Train loss: 0.016899054870009422\n",
            "Train accuracy: 0.9945799708366394\n",
            "Validation loss: 8.60834916238673e-05\n",
            "Validation accuracy: 1.0\n",
            "\n",
            "Rerata Accuracy Training CV: 0.9939927875995636\n",
            "Rerata Accuracy Test CV: 0.9930894374847412\n"
          ]
        }
      ]
    },
    {
      "cell_type": "markdown",
      "source": [
        "## Model Fit with All Data"
      ],
      "metadata": {
        "id": "kZVT6u-EhvVD"
      }
    },
    {
      "cell_type": "code",
      "source": [
        "tf.random.set_seed(123)\n",
        "num_labels = 41\n",
        "\n",
        "# Define your model architecture\n",
        "model = tf.keras.models.Sequential([\n",
        "    tf.keras.layers.Dense(100, activation='relu', input_shape=(X.shape[1],)),\n",
        "    tf.keras.layers.Dense(64, activation='relu'),\n",
        "    tf.keras.layers.Dense(num_labels, activation='softmax')\n",
        "])\n",
        "\n",
        "# Compile the model\n",
        "model.compile(optimizer='adam',\n",
        "              loss='sparse_categorical_crossentropy',\n",
        "              metrics=['accuracy'])"
      ],
      "metadata": {
        "id": "gj2aP1gYh0db"
      },
      "execution_count": null,
      "outputs": []
    },
    {
      "cell_type": "code",
      "source": [
        "model.summary()"
      ],
      "metadata": {
        "colab": {
          "base_uri": "https://localhost:8080/"
        },
        "id": "_Rn-V2GOiNk2",
        "outputId": "7c7f3ecd-6019-4219-af8a-8fc5ceea39b9"
      },
      "execution_count": null,
      "outputs": [
        {
          "output_type": "stream",
          "name": "stdout",
          "text": [
            "Model: \"sequential_2\"\n",
            "_________________________________________________________________\n",
            " Layer (type)                Output Shape              Param #   \n",
            "=================================================================\n",
            " dense_6 (Dense)             (None, 100)               1800      \n",
            "                                                                 \n",
            " dense_7 (Dense)             (None, 64)                6464      \n",
            "                                                                 \n",
            " dense_8 (Dense)             (None, 41)                2665      \n",
            "                                                                 \n",
            "=================================================================\n",
            "Total params: 10,929\n",
            "Trainable params: 10,929\n",
            "Non-trainable params: 0\n",
            "_________________________________________________________________\n"
          ]
        }
      ]
    },
    {
      "cell_type": "code",
      "source": [
        "# Train the model\n",
        "\n",
        "early_stopping = tf.keras.callbacks.EarlyStopping(\n",
        "    monitor='loss',\n",
        "    patience=3,\n",
        "    verbose=1,\n",
        ")\n",
        "\n",
        "model.fit(X, y, epochs=200, batch_size=32, callbacks=[early_stopping])"
      ],
      "metadata": {
        "colab": {
          "base_uri": "https://localhost:8080/"
        },
        "id": "OyVC7fBniY4R",
        "outputId": "f1c26606-a039-454e-981b-15c3f42830b9"
      },
      "execution_count": null,
      "outputs": [
        {
          "output_type": "stream",
          "name": "stdout",
          "text": [
            "Epoch 1/200\n",
            "154/154 [==============================] - 1s 2ms/step - loss: 2.3776 - accuracy: 0.4073\n",
            "Epoch 2/200\n",
            "154/154 [==============================] - 0s 2ms/step - loss: 1.0345 - accuracy: 0.7443\n",
            "Epoch 3/200\n",
            "154/154 [==============================] - 0s 2ms/step - loss: 0.6961 - accuracy: 0.8289\n",
            "Epoch 4/200\n",
            "154/154 [==============================] - 0s 2ms/step - loss: 0.5249 - accuracy: 0.8807\n",
            "Epoch 5/200\n",
            "154/154 [==============================] - 0s 2ms/step - loss: 0.4132 - accuracy: 0.9022\n",
            "Epoch 6/200\n",
            "154/154 [==============================] - 0s 2ms/step - loss: 0.3310 - accuracy: 0.9140\n",
            "Epoch 7/200\n",
            "154/154 [==============================] - 0s 2ms/step - loss: 0.2709 - accuracy: 0.9323\n",
            "Epoch 8/200\n",
            "154/154 [==============================] - 0s 2ms/step - loss: 0.2250 - accuracy: 0.9411\n",
            "Epoch 9/200\n",
            "154/154 [==============================] - 0s 2ms/step - loss: 0.1900 - accuracy: 0.9504\n",
            "Epoch 10/200\n",
            "154/154 [==============================] - 0s 2ms/step - loss: 0.1657 - accuracy: 0.9604\n",
            "Epoch 11/200\n",
            "154/154 [==============================] - 0s 2ms/step - loss: 0.1461 - accuracy: 0.9626\n",
            "Epoch 12/200\n",
            "154/154 [==============================] - 0s 2ms/step - loss: 0.1309 - accuracy: 0.9679\n",
            "Epoch 13/200\n",
            "154/154 [==============================] - 0s 2ms/step - loss: 0.1133 - accuracy: 0.9703\n",
            "Epoch 14/200\n",
            "154/154 [==============================] - 0s 3ms/step - loss: 0.1068 - accuracy: 0.9748\n",
            "Epoch 15/200\n",
            "154/154 [==============================] - 0s 3ms/step - loss: 0.0975 - accuracy: 0.9764\n",
            "Epoch 16/200\n",
            "154/154 [==============================] - 0s 3ms/step - loss: 0.0896 - accuracy: 0.9791\n",
            "Epoch 17/200\n",
            "154/154 [==============================] - 0s 3ms/step - loss: 0.0794 - accuracy: 0.9803\n",
            "Epoch 18/200\n",
            "154/154 [==============================] - 0s 3ms/step - loss: 0.0721 - accuracy: 0.9835\n",
            "Epoch 19/200\n",
            "154/154 [==============================] - 0s 3ms/step - loss: 0.0678 - accuracy: 0.9823\n",
            "Epoch 20/200\n",
            "154/154 [==============================] - 0s 3ms/step - loss: 0.0686 - accuracy: 0.9821\n",
            "Epoch 21/200\n",
            "154/154 [==============================] - 0s 3ms/step - loss: 0.0659 - accuracy: 0.9809\n",
            "Epoch 22/200\n",
            "154/154 [==============================] - 0s 3ms/step - loss: 0.0575 - accuracy: 0.9841\n",
            "Epoch 23/200\n",
            "154/154 [==============================] - 0s 2ms/step - loss: 0.0553 - accuracy: 0.9835\n",
            "Epoch 24/200\n",
            "154/154 [==============================] - 0s 2ms/step - loss: 0.0559 - accuracy: 0.9821\n",
            "Epoch 25/200\n",
            "154/154 [==============================] - 0s 2ms/step - loss: 0.0501 - accuracy: 0.9843\n",
            "Epoch 26/200\n",
            "154/154 [==============================] - 0s 2ms/step - loss: 0.0457 - accuracy: 0.9858\n",
            "Epoch 27/200\n",
            "154/154 [==============================] - 0s 2ms/step - loss: 0.0441 - accuracy: 0.9882\n",
            "Epoch 28/200\n",
            "154/154 [==============================] - 0s 2ms/step - loss: 0.0426 - accuracy: 0.9850\n",
            "Epoch 29/200\n",
            "154/154 [==============================] - 0s 2ms/step - loss: 0.0395 - accuracy: 0.9892\n",
            "Epoch 30/200\n",
            "154/154 [==============================] - 0s 2ms/step - loss: 0.0400 - accuracy: 0.9872\n",
            "Epoch 31/200\n",
            "154/154 [==============================] - 0s 2ms/step - loss: 0.0370 - accuracy: 0.9900\n",
            "Epoch 32/200\n",
            "154/154 [==============================] - 0s 2ms/step - loss: 0.0367 - accuracy: 0.9886\n",
            "Epoch 33/200\n",
            "154/154 [==============================] - 0s 2ms/step - loss: 0.0330 - accuracy: 0.9902\n",
            "Epoch 34/200\n",
            "154/154 [==============================] - 0s 2ms/step - loss: 0.0325 - accuracy: 0.9902\n",
            "Epoch 35/200\n",
            "154/154 [==============================] - 0s 2ms/step - loss: 0.0300 - accuracy: 0.9911\n",
            "Epoch 36/200\n",
            "154/154 [==============================] - 0s 2ms/step - loss: 0.0314 - accuracy: 0.9900\n",
            "Epoch 37/200\n",
            "154/154 [==============================] - 0s 2ms/step - loss: 0.0294 - accuracy: 0.9915\n",
            "Epoch 38/200\n",
            "154/154 [==============================] - 0s 2ms/step - loss: 0.0298 - accuracy: 0.9907\n",
            "Epoch 39/200\n",
            "154/154 [==============================] - 0s 2ms/step - loss: 0.0294 - accuracy: 0.9907\n",
            "Epoch 40/200\n",
            "154/154 [==============================] - 0s 2ms/step - loss: 0.0266 - accuracy: 0.9921\n",
            "Epoch 41/200\n",
            "154/154 [==============================] - 0s 2ms/step - loss: 0.0269 - accuracy: 0.9917\n",
            "Epoch 42/200\n",
            "154/154 [==============================] - 0s 2ms/step - loss: 0.0242 - accuracy: 0.9919\n",
            "Epoch 43/200\n",
            "154/154 [==============================] - 0s 2ms/step - loss: 0.0250 - accuracy: 0.9921\n",
            "Epoch 44/200\n",
            "154/154 [==============================] - 0s 2ms/step - loss: 0.0238 - accuracy: 0.9933\n",
            "Epoch 45/200\n",
            "154/154 [==============================] - 0s 2ms/step - loss: 0.0231 - accuracy: 0.9933\n",
            "Epoch 46/200\n",
            "154/154 [==============================] - 0s 2ms/step - loss: 0.0250 - accuracy: 0.9929\n",
            "Epoch 47/200\n",
            "154/154 [==============================] - 0s 2ms/step - loss: 0.0425 - accuracy: 0.9872\n",
            "Epoch 48/200\n",
            "154/154 [==============================] - 0s 2ms/step - loss: 0.0385 - accuracy: 0.9860\n",
            "Epoch 48: early stopping\n"
          ]
        },
        {
          "output_type": "execute_result",
          "data": {
            "text/plain": [
              "<keras.callbacks.History at 0x7efb87eb5570>"
            ]
          },
          "metadata": {},
          "execution_count": 54
        }
      ]
    },
    {
      "cell_type": "code",
      "source": [
        "# input = np.array([[1,3,4,0,0,0,0,0,0,0,0,0,0,0,0,0,0]])\n",
        "input = [[1,3,4,0,0,0,0,0,0,0,0,0,0,0,0,0,0]]\n",
        "predict = model.predict(input)\n",
        "predicted = np.argmax(predict, axis=1)"
      ],
      "metadata": {
        "colab": {
          "base_uri": "https://localhost:8080/"
        },
        "id": "PPMB-GMsLm0S",
        "outputId": "4897d85e-a99d-4359-be2a-bdba4b49505a"
      },
      "execution_count": null,
      "outputs": [
        {
          "output_type": "stream",
          "name": "stdout",
          "text": [
            "1/1 [==============================] - 0s 78ms/step\n"
          ]
        }
      ]
    },
    {
      "cell_type": "code",
      "source": [
        "predict"
      ],
      "metadata": {
        "colab": {
          "base_uri": "https://localhost:8080/"
        },
        "id": "nSvkj55pP11y",
        "outputId": "f8e19450-3d8f-4059-ecd0-aeb113d1f624"
      },
      "execution_count": null,
      "outputs": [
        {
          "output_type": "execute_result",
          "data": {
            "text/plain": [
              "array([[4.6024891e-03, 5.6081657e-08, 1.8730084e-06, 1.7762467e-08,\n",
              "        2.1358680e-18, 1.9164928e-12, 1.7771418e-15, 5.4836135e-16,\n",
              "        7.2421715e-15, 9.2541399e-07, 7.8270794e-13, 1.4936622e-05,\n",
              "        3.2363543e-12, 9.2287316e-09, 7.6148298e-19, 3.9430193e-29,\n",
              "        1.3009504e-20, 1.5258102e-07, 9.1793220e-07, 2.1977108e-15,\n",
              "        1.9982364e-10, 5.7331974e-14, 4.6878410e-17, 7.4693940e-05,\n",
              "        2.0456467e-10, 3.4502141e-06, 2.5333886e-11, 9.9462986e-01,\n",
              "        2.7245319e-18, 9.0556344e-13, 1.5993914e-08, 1.6622799e-11,\n",
              "        8.1498783e-08, 2.1565374e-06, 2.9323041e-11, 2.5623551e-16,\n",
              "        2.6224114e-07, 1.6764538e-09, 1.9496230e-05, 6.4863515e-04,\n",
              "        4.3016851e-08]], dtype=float32)"
            ]
          },
          "metadata": {},
          "execution_count": 56
        }
      ]
    },
    {
      "cell_type": "code",
      "source": [
        "predicted"
      ],
      "metadata": {
        "colab": {
          "base_uri": "https://localhost:8080/"
        },
        "id": "pXE2qlzSP4Ul",
        "outputId": "47c7cce2-9400-44fa-9d58-504a439256ba"
      },
      "execution_count": null,
      "outputs": [
        {
          "output_type": "execute_result",
          "data": {
            "text/plain": [
              "array([27])"
            ]
          },
          "metadata": {},
          "execution_count": 57
        }
      ]
    },
    {
      "cell_type": "code",
      "source": [
        "combination[combination['id']==predicted.item()]"
      ],
      "metadata": {
        "colab": {
          "base_uri": "https://localhost:8080/"
        },
        "id": "MwvtM5wqMIHu",
        "outputId": "2dd28882-46eb-4a2b-f038-97545da2632b"
      },
      "execution_count": null,
      "outputs": [
        {
          "output_type": "execute_result",
          "data": {
            "text/plain": [
              "    id           Disease                                        Description  \\\n",
              "27  27  Fungal infection  In humans, fungal infections occur when an inv...   \n",
              "\n",
              "                                           Precaution  \n",
              "27  bath twice, use detol or neem in bathing water...  "
            ],
            "text/html": [
              "\n",
              "  <div id=\"df-0a2ed372-36e6-47f1-9ace-bcf54e70b54f\">\n",
              "    <div class=\"colab-df-container\">\n",
              "      <div>\n",
              "<style scoped>\n",
              "    .dataframe tbody tr th:only-of-type {\n",
              "        vertical-align: middle;\n",
              "    }\n",
              "\n",
              "    .dataframe tbody tr th {\n",
              "        vertical-align: top;\n",
              "    }\n",
              "\n",
              "    .dataframe thead th {\n",
              "        text-align: right;\n",
              "    }\n",
              "</style>\n",
              "<table border=\"1\" class=\"dataframe\">\n",
              "  <thead>\n",
              "    <tr style=\"text-align: right;\">\n",
              "      <th></th>\n",
              "      <th>id</th>\n",
              "      <th>Disease</th>\n",
              "      <th>Description</th>\n",
              "      <th>Precaution</th>\n",
              "    </tr>\n",
              "  </thead>\n",
              "  <tbody>\n",
              "    <tr>\n",
              "      <th>27</th>\n",
              "      <td>27</td>\n",
              "      <td>Fungal infection</td>\n",
              "      <td>In humans, fungal infections occur when an inv...</td>\n",
              "      <td>bath twice, use detol or neem in bathing water...</td>\n",
              "    </tr>\n",
              "  </tbody>\n",
              "</table>\n",
              "</div>\n",
              "      <button class=\"colab-df-convert\" onclick=\"convertToInteractive('df-0a2ed372-36e6-47f1-9ace-bcf54e70b54f')\"\n",
              "              title=\"Convert this dataframe to an interactive table.\"\n",
              "              style=\"display:none;\">\n",
              "        \n",
              "  <svg xmlns=\"http://www.w3.org/2000/svg\" height=\"24px\"viewBox=\"0 0 24 24\"\n",
              "       width=\"24px\">\n",
              "    <path d=\"M0 0h24v24H0V0z\" fill=\"none\"/>\n",
              "    <path d=\"M18.56 5.44l.94 2.06.94-2.06 2.06-.94-2.06-.94-.94-2.06-.94 2.06-2.06.94zm-11 1L8.5 8.5l.94-2.06 2.06-.94-2.06-.94L8.5 2.5l-.94 2.06-2.06.94zm10 10l.94 2.06.94-2.06 2.06-.94-2.06-.94-.94-2.06-.94 2.06-2.06.94z\"/><path d=\"M17.41 7.96l-1.37-1.37c-.4-.4-.92-.59-1.43-.59-.52 0-1.04.2-1.43.59L10.3 9.45l-7.72 7.72c-.78.78-.78 2.05 0 2.83L4 21.41c.39.39.9.59 1.41.59.51 0 1.02-.2 1.41-.59l7.78-7.78 2.81-2.81c.8-.78.8-2.07 0-2.86zM5.41 20L4 18.59l7.72-7.72 1.47 1.35L5.41 20z\"/>\n",
              "  </svg>\n",
              "      </button>\n",
              "      \n",
              "  <style>\n",
              "    .colab-df-container {\n",
              "      display:flex;\n",
              "      flex-wrap:wrap;\n",
              "      gap: 12px;\n",
              "    }\n",
              "\n",
              "    .colab-df-convert {\n",
              "      background-color: #E8F0FE;\n",
              "      border: none;\n",
              "      border-radius: 50%;\n",
              "      cursor: pointer;\n",
              "      display: none;\n",
              "      fill: #1967D2;\n",
              "      height: 32px;\n",
              "      padding: 0 0 0 0;\n",
              "      width: 32px;\n",
              "    }\n",
              "\n",
              "    .colab-df-convert:hover {\n",
              "      background-color: #E2EBFA;\n",
              "      box-shadow: 0px 1px 2px rgba(60, 64, 67, 0.3), 0px 1px 3px 1px rgba(60, 64, 67, 0.15);\n",
              "      fill: #174EA6;\n",
              "    }\n",
              "\n",
              "    [theme=dark] .colab-df-convert {\n",
              "      background-color: #3B4455;\n",
              "      fill: #D2E3FC;\n",
              "    }\n",
              "\n",
              "    [theme=dark] .colab-df-convert:hover {\n",
              "      background-color: #434B5C;\n",
              "      box-shadow: 0px 1px 3px 1px rgba(0, 0, 0, 0.15);\n",
              "      filter: drop-shadow(0px 1px 2px rgba(0, 0, 0, 0.3));\n",
              "      fill: #FFFFFF;\n",
              "    }\n",
              "  </style>\n",
              "\n",
              "      <script>\n",
              "        const buttonEl =\n",
              "          document.querySelector('#df-0a2ed372-36e6-47f1-9ace-bcf54e70b54f button.colab-df-convert');\n",
              "        buttonEl.style.display =\n",
              "          google.colab.kernel.accessAllowed ? 'block' : 'none';\n",
              "\n",
              "        async function convertToInteractive(key) {\n",
              "          const element = document.querySelector('#df-0a2ed372-36e6-47f1-9ace-bcf54e70b54f');\n",
              "          const dataTable =\n",
              "            await google.colab.kernel.invokeFunction('convertToInteractive',\n",
              "                                                     [key], {});\n",
              "          if (!dataTable) return;\n",
              "\n",
              "          const docLinkHtml = 'Like what you see? Visit the ' +\n",
              "            '<a target=\"_blank\" href=https://colab.research.google.com/notebooks/data_table.ipynb>data table notebook</a>'\n",
              "            + ' to learn more about interactive tables.';\n",
              "          element.innerHTML = '';\n",
              "          dataTable['output_type'] = 'display_data';\n",
              "          await google.colab.output.renderOutput(dataTable, element);\n",
              "          const docLink = document.createElement('div');\n",
              "          docLink.innerHTML = docLinkHtml;\n",
              "          element.appendChild(docLink);\n",
              "        }\n",
              "      </script>\n",
              "    </div>\n",
              "  </div>\n",
              "  "
            ]
          },
          "metadata": {},
          "execution_count": 58
        }
      ]
    },
    {
      "cell_type": "markdown",
      "source": [
        "## Deploy Model"
      ],
      "metadata": {
        "id": "j-su9nEUh2hu"
      }
    },
    {
      "cell_type": "code",
      "source": [
        "model.save('/content/drive/MyDrive/CapstoneProjectBangkitMachineLearning/DeployModel/model.h5')"
      ],
      "metadata": {
        "id": "DeGSZdqGtvuV"
      },
      "execution_count": null,
      "outputs": []
    },
    {
      "cell_type": "code",
      "source": [
        "!tensorflowjs_converter --input_format=keras /content/drive/MyDrive/CapstoneProjectBangkitMachineLearning/DeployModel/model.h5 /content/drive/MyDrive/CapstoneProjectBangkitMachineLearning/DeployModel/"
      ],
      "metadata": {
        "colab": {
          "base_uri": "https://localhost:8080/"
        },
        "id": "uWaTWQqOawnO",
        "outputId": "f2164ec0-7ab7-4606-b192-3c13aa47fe19"
      },
      "execution_count": null,
      "outputs": [
        {
          "output_type": "stream",
          "name": "stdout",
          "text": [
            "2023-06-14 13:44:31.409727: W tensorflow/compiler/tf2tensorrt/utils/py_utils.cc:38] TF-TRT Warning: Could not find TensorRT\n"
          ]
        }
      ]
    },
    {
      "cell_type": "code",
      "source": [
        "import csv\n",
        "import json\n",
        "\n",
        "\n",
        "# Function to convert a CSV to JSON\n",
        "# Takes the file paths as arguments\n",
        "def make_json(csvFilePath, jsonFilePath):\n",
        "\n",
        "    # create a dictionary\n",
        "    data = {}\n",
        "\n",
        "    # Open a csv reader called DictReader\n",
        "    with open(csvFilePath, encoding='utf-8') as csvf:\n",
        "        csvReader = csv.DictReader(csvf)\n",
        "\n",
        "        # Convert each row into a dictionary\n",
        "        # and add it to data\n",
        "        for rows in csvReader:\n",
        "\n",
        "            # Assuming a column named 'Disease' to\n",
        "            # be the primary key\n",
        "            key = rows['Symptom']\n",
        "            data[key] = rows\n",
        "\n",
        "    # Open a json writer, and use the json.dumps()\n",
        "    # function to dump data\n",
        "    with open(jsonFilePath, 'w', encoding='utf-8') as jsonf:\n",
        "        jsonf.write(json.dumps(data, indent=4))\n"
      ],
      "metadata": {
        "id": "to69dc5EYmsv"
      },
      "execution_count": null,
      "outputs": []
    },
    {
      "cell_type": "code",
      "source": [
        "# Driver Code\n",
        "\n",
        "# Decide the two file paths according to your\n",
        "# computer system\n",
        "csvFilePath = r'Names.csv'\n",
        "jsonFilePath = r'Names.json'\n",
        "\n",
        "# Call the make_json function\n",
        "make_json('/content/drive/MyDrive/CapstoneProjectBangkitMachineLearning/Data/Symptom-severity.csv',\n",
        "          '/content/drive/MyDrive/CapstoneProjectBangkitMachineLearning/Data/Symptom-severity.json')"
      ],
      "metadata": {
        "id": "IDSkoC5gMxbd"
      },
      "execution_count": null,
      "outputs": []
    },
    {
      "cell_type": "code",
      "source": [
        "severity_translated.to_csv('/content/drive/MyDrive/CapstoneProjectBangkitMachineLearning/Data/severity_translated.csv')"
      ],
      "metadata": {
        "id": "eLDFCtbSztvK"
      },
      "execution_count": null,
      "outputs": []
    },
    {
      "cell_type": "code",
      "source": [
        "make_json('/content/drive/MyDrive/CapstoneProjectBangkitMachineLearning/Data/severity_translated.csv',\n",
        "          '/content/drive/MyDrive/CapstoneProjectBangkitMachineLearning/Data/severity_translated.json')"
      ],
      "metadata": {
        "id": "7oa-V37_z82f"
      },
      "execution_count": null,
      "outputs": []
    },
    {
      "cell_type": "code",
      "source": [
        "import csv\n",
        "import json\n",
        "\n",
        "\n",
        "# Function to convert a CSV to JSON\n",
        "# Takes the file paths as arguments\n",
        "def make_json(csvFilePath, jsonFilePath):\n",
        "\n",
        "    # create a dictionary\n",
        "    data = {}\n",
        "\n",
        "    # Open a csv reader called DictReader\n",
        "    with open(csvFilePath, encoding='utf-8') as csvf:\n",
        "        csvReader = csv.DictReader(csvf)\n",
        "\n",
        "        # Convert each row into a dictionary\n",
        "        # and add it to data\n",
        "        for rows in csvReader:\n",
        "\n",
        "            # Assuming a column named 'Disease' to\n",
        "            # be the primary key\n",
        "            key = rows['id']\n",
        "            data[key] = rows\n",
        "\n",
        "    # Open a json writer, and use the json.dumps()\n",
        "    # function to dump data\n",
        "    with open(jsonFilePath, 'w', encoding='utf-8') as jsonf:\n",
        "        jsonf.write(json.dumps(data, indent=4))"
      ],
      "metadata": {
        "id": "Zyz5ZoLtOBFG"
      },
      "execution_count": null,
      "outputs": []
    },
    {
      "cell_type": "code",
      "source": [
        "combination.to_csv('/content/drive/MyDrive/CapstoneProjectBangkitMachineLearning/Data/combination.csv')\n"
      ],
      "metadata": {
        "id": "uiMgEiQANYoz"
      },
      "execution_count": null,
      "outputs": []
    },
    {
      "cell_type": "code",
      "source": [
        "combination_translated.to_csv('/content/drive/MyDrive/CapstoneProjectBangkitMachineLearning/Data/combination_translated.csv')"
      ],
      "metadata": {
        "id": "Krv8s8QOyzM1"
      },
      "execution_count": null,
      "outputs": []
    },
    {
      "cell_type": "code",
      "source": [
        "make_json('/content/drive/MyDrive/CapstoneProjectBangkitMachineLearning/Data/combination.csv',\n",
        "          '/content/drive/MyDrive/CapstoneProjectBangkitMachineLearning/Data/combination.json')"
      ],
      "metadata": {
        "id": "DouSMcuRNEYg"
      },
      "execution_count": null,
      "outputs": []
    },
    {
      "cell_type": "code",
      "source": [
        "make_json('/content/drive/MyDrive/CapstoneProjectBangkitMachineLearning/Data/combination_translated.csv',\n",
        "          '/content/drive/MyDrive/CapstoneProjectBangkitMachineLearning/Data/combination_translated.json')"
      ],
      "metadata": {
        "id": "RSDCTA6vy5rE"
      },
      "execution_count": null,
      "outputs": []
    }
  ]
}
